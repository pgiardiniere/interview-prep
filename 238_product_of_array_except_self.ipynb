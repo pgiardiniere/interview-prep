{
 "cells": [
  {
   "cell_type": "markdown",
   "id": "572a5c80-8f8b-4eb7-b40f-f56136a9f4fd",
   "metadata": {},
   "source": [
    "Given an integer array `nums`, return an array `answer` such that `answer[i]` is equal to the product of all the elements of `nums` except `nums[i]`.\n",
    "\n",
    "The product of any prefix or suffix of `nums` is guaranteed to fit in a 32-bit integer.\n",
    "\n",
    "You must write an algorithm that runs in `O(n)` time and without using the division operation."
   ]
  },
  {
   "cell_type": "code",
   "execution_count": null,
   "id": "53fbd16f-144e-4b4e-a40b-134aa897a024",
   "metadata": {},
   "outputs": [],
   "source": [
    "class Solution:\n",
    "    def productExceptSelf(self, nums: List[int]) -> List[int]:\n",
    "        n = len(nums)\n",
    "        l = [1] * n\n",
    "        r = [1] * n\n",
    "\n",
    "        # populate l\n",
    "        for i in range(1, n):\n",
    "            l[i] = l[i - 1] * nums[i - 1]\n",
    "\n",
    "        # populate r\n",
    "        for i in reversed(range(0, n-1)):\n",
    "            r[i] = r[i + 1] * nums[i + 1]\n",
    "\n",
    "        answer = [l[i] * r[i] for i in range(n)]\n",
    "        return answer"
   ]
  }
 ],
 "metadata": {
  "kernelspec": {
   "display_name": "Python 3 (ipykernel)",
   "language": "python",
   "name": "python3"
  },
  "language_info": {
   "codemirror_mode": {
    "name": "ipython",
    "version": 3
   },
   "file_extension": ".py",
   "mimetype": "text/x-python",
   "name": "python",
   "nbconvert_exporter": "python",
   "pygments_lexer": "ipython3",
   "version": "3.10.6"
  }
 },
 "nbformat": 4,
 "nbformat_minor": 5
}
