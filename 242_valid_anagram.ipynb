{
 "cells": [
  {
   "cell_type": "markdown",
   "id": "7fea90d4-ffa5-4cf7-ae4e-872728731047",
   "metadata": {},
   "source": [
    "Given two strings `s` and `t`, return true if `t` is an anagram of `s`, and false otherwise.\n",
    "\n",
    "An Anagram is a word or phrase formed by rearranging the letters of a different word or phrase, typically using all the original letters exactly once."
   ]
  },
  {
   "cell_type": "markdown",
   "id": "c8a0a290-0f8a-490d-b130-36b3fddb6b65",
   "metadata": {},
   "source": [
    "Constraints:\n",
    "\n",
    "* $1 \\le s.length, t.length \\le 5 * 10^4$\n",
    "* `s` and `t` consist of lowercase English letters.\n",
    "\n",
    "\n",
    "**Follow up:** What if the inputs contain Unicode characters? How would you adapt your solution to such a case?"
   ]
  },
  {
   "cell_type": "markdown",
   "id": "8fffd8a4-a58d-40da-8bfa-f784e81004ea",
   "metadata": {},
   "source": [
    "---"
   ]
  },
  {
   "cell_type": "code",
   "execution_count": 17,
   "id": "b7092078-659a-406d-b7c0-e43c00242049",
   "metadata": {},
   "outputs": [],
   "source": [
    "def isAnagram(s: str, t: str) -> bool:\n",
    "    d = {}\n",
    "    if len(t) != len(s):\n",
    "        return False\n",
    "    # First pass: Construct the dict where values are the count of \n",
    "    # each character's occurrence in s\n",
    "    for c in s:\n",
    "        if c not in d:\n",
    "            d[c] = 1\n",
    "        else:\n",
    "            d[c] += 1\n",
    "    \n",
    "    # Second pass: Subtract from counts if they exist. If no matching\n",
    "    # character or we exhausted all occurrences of character in s,\n",
    "    # we have no anagram. By end of T, we have a solution.\n",
    "    for c in t:\n",
    "        if c not in d or d[c] <= 0: \n",
    "            return False\n",
    "        else:\n",
    "            d[c] -= 1\n",
    "    \n",
    "    return True\n"
   ]
  },
  {
   "cell_type": "code",
   "execution_count": 18,
   "id": "ab3cd3b2-f81b-41b0-a876-f70132d8d83e",
   "metadata": {},
   "outputs": [
    {
     "data": {
      "text/plain": [
       "True"
      ]
     },
     "execution_count": 18,
     "metadata": {},
     "output_type": "execute_result"
    }
   ],
   "source": [
    "s = \"string\"\n",
    "t = \"tingrs\"\n",
    "isAnagram(s, t)"
   ]
  },
  {
   "cell_type": "code",
   "execution_count": 19,
   "id": "8f8a14be-a330-4cf5-9f83-4e0785429c3a",
   "metadata": {},
   "outputs": [
    {
     "data": {
      "text/plain": [
       "True"
      ]
     },
     "execution_count": 19,
     "metadata": {},
     "output_type": "execute_result"
    }
   ],
   "source": [
    "s = \"string\"\n",
    "t = \"t\"\n",
    "isAnagram(s, t)"
   ]
  },
  {
   "cell_type": "markdown",
   "id": "a4e69e9c-b409-4c00-b71d-e1ca4d66efea",
   "metadata": {},
   "source": [
    "**Regarding the followup.** This solution isn't based on generating a dict of the ANSI/ASCII english alphabet upfront and then hashing \"s\" into it. It generates the list from s directly, so this solution applies as-is to unicode."
   ]
  },
  {
   "cell_type": "markdown",
   "id": "711136bc-298e-4270-a4c6-c51c3cb3bdb1",
   "metadata": {},
   "source": [
    "Time complexity: $O(n)$, space complexity: $O(n)$.\n",
    "\n",
    "(Recall checking for existince of val in dict (hashmap) is an O(1) operation. "
   ]
  },
  {
   "cell_type": "markdown",
   "id": "64eb2794-2d15-430e-ae59-7373e87dbd65",
   "metadata": {},
   "source": [
    "---"
   ]
  },
  {
   "cell_type": "markdown",
   "id": "991fb780-e206-4f56-8ab5-64568f7a49fa",
   "metadata": {},
   "source": [
    "Oh, this is actually interesting.\n",
    "\n",
    "Solution given [here](https://leetcode.com/problems/valid-anagram/solutions/3261552/easy-solutions-in-java-python-javascript-and-c-look-at-once/?envType=study-plan-v2&envId=top-interview-150), if you use the alphabet, you have O(1) space complexity, because it's always 26 characters (constant number insensitive to length of input string)"
   ]
  },
  {
   "cell_type": "markdown",
   "id": "49ace02f-0056-4a99-9126-092162c06f3d",
   "metadata": {},
   "source": [
    "You can expand this to the entire unicode character set, which is either 256 or 512 characters (depending on use of 8 or 16 bit encoding). Still nets you $O(1)$ space complexity."
   ]
  },
  {
   "cell_type": "markdown",
   "id": "b101a98c-5f67-47d2-a41f-a7fdebc4cbe0",
   "metadata": {},
   "source": [
    "I would still argue that my solution is more efficient. \n",
    "\n",
    "If you pass in strings which fit the original constraints (26 lowercase characters) you wind up with a hashmap that's smaller except in case of a string that contains all 26 unique characters.\n",
    "\n",
    "If you instead pass in unicode characters, you similarly wind up with a hashmap that's smaller unless you pass a string that contains all unicode characters in the encoding (256 or 512).\n",
    "\n",
    "Insight being: Space complexity increases not with length of the string, it increases with \n",
    "\n",
    "So I really should have just said that it's O(1) space "
   ]
  },
  {
   "cell_type": "code",
   "execution_count": null,
   "id": "bb2be951-f607-403b-bc74-f78641005b50",
   "metadata": {},
   "outputs": [],
   "source": []
  }
 ],
 "metadata": {
  "kernelspec": {
   "display_name": "Python 3 (ipykernel)",
   "language": "python",
   "name": "python3"
  },
  "language_info": {
   "codemirror_mode": {
    "name": "ipython",
    "version": 3
   },
   "file_extension": ".py",
   "mimetype": "text/x-python",
   "name": "python",
   "nbconvert_exporter": "python",
   "pygments_lexer": "ipython3",
   "version": "3.10.6"
  }
 },
 "nbformat": 4,
 "nbformat_minor": 5
}
