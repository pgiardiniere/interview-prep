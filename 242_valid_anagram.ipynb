{
 "cells": [
  {
   "cell_type": "markdown",
   "id": "7fea90d4-ffa5-4cf7-ae4e-872728731047",
   "metadata": {},
   "source": [
    "Given two strings `s` and `t`, return true if `t` is an anagram of `s`, and false otherwise.\n",
    "\n",
    "An Anagram is a word or phrase formed by rearranging the letters of a different word or phrase, typically using all the original letters exactly once."
   ]
  },
  {
   "cell_type": "markdown",
   "id": "c8a0a290-0f8a-490d-b130-36b3fddb6b65",
   "metadata": {},
   "source": [
    "Constraints:\n",
    "\n",
    "* $1 \\le s.length, t.length \\le 5 * 10^4$\n",
    "* `s` and `t` consist of lowercase English letters.\n",
    "\n",
    "\n",
    "**Follow up:** What if the inputs contain Unicode characters? How would you adapt your solution to such a case?"
   ]
  },
  {
   "cell_type": "code",
   "execution_count": null,
   "id": "54943da9-cf15-4369-b45f-40afdfabe04b",
   "metadata": {},
   "outputs": [],
   "source": []
  }
 ],
 "metadata": {
  "kernelspec": {
   "display_name": "Python 3 (ipykernel)",
   "language": "python",
   "name": "python3"
  },
  "language_info": {
   "codemirror_mode": {
    "name": "ipython",
    "version": 3
   },
   "file_extension": ".py",
   "mimetype": "text/x-python",
   "name": "python",
   "nbconvert_exporter": "python",
   "pygments_lexer": "ipython3",
   "version": "3.10.6"
  }
 },
 "nbformat": 4,
 "nbformat_minor": 5
}
