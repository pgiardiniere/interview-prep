{
 "cells": [
  {
   "cell_type": "markdown",
   "id": "d593959e-8134-424b-9146-f1e8a17407cf",
   "metadata": {},
   "source": [
    "Given an array nums of size n, return the majority element.\n",
    "\n",
    "The majority element is the element that appears more than ⌊n / 2⌋ times. You may assume that the majority element always exists in the array.\n",
    "\n",
    "Followup: Solve in O(n) time and O(1) space?\n"
   ]
  },
  {
   "cell_type": "code",
   "execution_count": 10,
   "id": "2740f793-6be2-4f8c-85be-caa293316b6b",
   "metadata": {},
   "outputs": [
    {
     "data": {
      "text/plain": [
       "2"
      ]
     },
     "execution_count": 10,
     "metadata": {},
     "output_type": "execute_result"
    }
   ],
   "source": [
    "def majorityElement(nums: list[int]) -> int:\n",
    "    candidate = None\n",
    "    count = 0\n",
    "\n",
    "    for num in nums:\n",
    "        if count == 0:\n",
    "            candidate = num\n",
    "        count += 1 if num == candidate else -1\n",
    "\n",
    "    return candidate\n",
    "\n",
    "nums = [2,2,1,1,1,2,2]\n",
    "maj = majorityElement(nums)\n",
    "maj\n"
   ]
  },
  {
   "cell_type": "markdown",
   "id": "638b6520-0e23-4733-a190-94266173c89d",
   "metadata": {},
   "source": [
    "This is just Boyer-Moore voting to solve in $O(n)$ time, $O(1)$ space. It requires only tracking the current count and candidate, each of which occupy constant memory, and requires only 1 traversal of the list, i.e. it scales linearly with size of input list. "
   ]
  }
 ],
 "metadata": {
  "kernelspec": {
   "display_name": "Python 3 (ipykernel)",
   "language": "python",
   "name": "python3"
  },
  "language_info": {
   "codemirror_mode": {
    "name": "ipython",
    "version": 3
   },
   "file_extension": ".py",
   "mimetype": "text/x-python",
   "name": "python",
   "nbconvert_exporter": "python",
   "pygments_lexer": "ipython3",
   "version": "3.9.6"
  }
 },
 "nbformat": 4,
 "nbformat_minor": 5
}
