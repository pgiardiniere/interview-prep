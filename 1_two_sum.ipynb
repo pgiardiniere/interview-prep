{
 "cells": [
  {
   "cell_type": "markdown",
   "id": "d4a72582-cfcb-43e4-8a19-178b8cb91c7d",
   "metadata": {},
   "source": [
    "Given an array of integers `nums` and an integer `target`, return indices of the two numbers such that they add up to `target`.\n",
    "\n",
    "You may assume that each input would have exactly one solution, and you may not use the same element twice.\n",
    "\n",
    "You can return the answer in any order."
   ]
  },
  {
   "cell_type": "code",
   "execution_count": 1,
   "id": "674c9f09-dda5-426c-9e41-712921fa14e5",
   "metadata": {},
   "outputs": [],
   "source": [
    "def twoSum(nums: list[int], target: int) -> list[int]:\n",
    "    pass"
   ]
  },
  {
   "cell_type": "markdown",
   "id": "a1a8bc6d-4c57-4c92-beb2-c4f1960bc373",
   "metadata": {},
   "source": [
    "Challenge: Do it in $<O(n^2)$ time complexity.\n",
    "\n",
    "You sort it, then you can just do greedy approach, checking numbers within the limited range. It should be $O(n log n)$.\n",
    "\n",
    "Ohh but numbers can be negative, that makes this more complicated than dealing with nonnegative integers. We do still get to assume there is 1 valid solution in the list though.\n",
    "```\n",
    "L = nums,\n",
    "n = len(nums),\n",
    "y = target\n",
    "```\n",
    "$$2 <= n <= 10^4$$\n",
    "$$-10^9 <= L[i] <= 10^9$$\n",
    "$$-10^9 <= y <= 10^9$$"
   ]
  },
  {
   "cell_type": "markdown",
   "id": "e0907d8a-68b4-4db5-b499-253d882a4aa4",
   "metadata": {},
   "source": [
    "i.e. Find some $i,j$ where $0 \\le i,j \\le n$, $i \\ne j$ and $L[i] + L[j] = y$"
   ]
  },
  {
   "cell_type": "markdown",
   "id": "a903575f-f2bf-4bf4-a737-b98b717a41ac",
   "metadata": {},
   "source": [
    "..."
   ]
  },
  {
   "cell_type": "markdown",
   "id": "2a56492e-1aa1-4947-9314-e68db1b7755a",
   "metadata": {},
   "source": [
    "Well, first let's brute force $O(n^2)$ this:\n",
    "\n",
    "---\n"
   ]
  },
  {
   "cell_type": "code",
   "execution_count": null,
   "id": "4a98b251-c42a-4fbc-bdb6-15945d1445ba",
   "metadata": {},
   "outputs": [],
   "source": [
    "def twoSum(L: list[int], y: int) -> list[int]:\n",
    "    n = len(L)\n",
    "\n",
    "    for i in range(n):\n",
    "        for j in [x for x in range(n) if x != i]:\n",
    "            "
   ]
  }
 ],
 "metadata": {
  "kernelspec": {
   "display_name": "Python 3 (ipykernel)",
   "language": "python",
   "name": "python3"
  },
  "language_info": {
   "codemirror_mode": {
    "name": "ipython",
    "version": 3
   },
   "file_extension": ".py",
   "mimetype": "text/x-python",
   "name": "python",
   "nbconvert_exporter": "python",
   "pygments_lexer": "ipython3",
   "version": "3.9.6"
  }
 },
 "nbformat": 4,
 "nbformat_minor": 5
}
