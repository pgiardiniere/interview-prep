{
 "cells": [
  {
   "cell_type": "markdown",
   "id": "d4a72582-cfcb-43e4-8a19-178b8cb91c7d",
   "metadata": {},
   "source": [
    "Given an array of integers `nums` and an integer `target`, return indices of the two numbers such that they add up to `target`.\n",
    "\n",
    "You may assume that each input would have exactly one solution, and you may not use the same element twice.\n",
    "\n",
    "You can return the answer in any order."
   ]
  },
  {
   "cell_type": "code",
   "execution_count": 1,
   "id": "674c9f09-dda5-426c-9e41-712921fa14e5",
   "metadata": {},
   "outputs": [],
   "source": [
    "def twoSum(nums: list[int], target: int) -> list[int]:\n",
    "    pass"
   ]
  },
  {
   "cell_type": "markdown",
   "id": "a1a8bc6d-4c57-4c92-beb2-c4f1960bc373",
   "metadata": {},
   "source": [
    "Challenge: Do it in $<O(n^2)$ time complexity.\n",
    "\n",
    "You sort it, then you can just do greedy approach, checking numbers within the limited range. It should be $O(n log n)$.\n",
    "\n",
    "Ohh but numbers can be negative, that makes this more complicated than dealing with nonnegative integers. We do still get to assume there is 1 valid solution in the list though.\n",
    "```\n",
    "L = nums,\n",
    "n = len(nums),\n",
    "y = target\n",
    "```\n",
    "$$2 <= n <= 10^4$$\n",
    "$$-10^9 <= L[i] <= 10^9$$\n",
    "$$-10^9 <= y <= 10^9$$"
   ]
  },
  {
   "cell_type": "markdown",
   "id": "e0907d8a-68b4-4db5-b499-253d882a4aa4",
   "metadata": {},
   "source": [
    "i.e. Find some $i,j$ where $0 \\le i,j \\le n$, $i \\ne j$ and $L[i] + L[j] = y$"
   ]
  },
  {
   "cell_type": "markdown",
   "id": "a903575f-f2bf-4bf4-a737-b98b717a41ac",
   "metadata": {},
   "source": [
    "..."
   ]
  },
  {
   "cell_type": "markdown",
   "id": "2a56492e-1aa1-4947-9314-e68db1b7755a",
   "metadata": {},
   "source": [
    "Well, first let's brute force $O(n^2)$ this:\n",
    "\n",
    "---\n"
   ]
  },
  {
   "cell_type": "code",
   "execution_count": 17,
   "id": "4a98b251-c42a-4fbc-bdb6-15945d1445ba",
   "metadata": {},
   "outputs": [],
   "source": [
    "def twoSum(L: list[int], y: int) -> list[int]:\n",
    "    n = len(L)\n",
    "\n",
    "    for i in range(n):\n",
    "        for j in [x for x in range(n) if x != i]:\n",
    "            print(i, j)\n",
    "            "
   ]
  },
  {
   "cell_type": "code",
   "execution_count": 19,
   "id": "e159aabe-2063-40d8-bbc3-17a4af8c89e2",
   "metadata": {},
   "outputs": [
    {
     "name": "stdout",
     "output_type": "stream",
     "text": [
      "0 1\n",
      "0 2\n",
      "1 0\n",
      "1 2\n",
      "2 0\n",
      "2 1\n"
     ]
    }
   ],
   "source": [
    "twoSum([0,1,2], 1)"
   ]
  },
  {
   "cell_type": "code",
   "execution_count": null,
   "id": "1f6bdd86-f939-4f16-a759-12726edb410e",
   "metadata": {},
   "outputs": [],
   "source": [
    "def twoSum(L: list[int], y: int) -> list[int]:\n",
    "    n = len(L)\n",
    "\n",
    "    for i in range(n):\n",
    "        for j in [x for x in range(n) if x != i]:\n",
    "            if L[i] + L[j] == y:\n",
    "                return [i, j]"
   ]
  },
  {
   "cell_type": "markdown",
   "id": "8df2cecc-c616-4e6c-a110-a3d96655ba72",
   "metadata": {},
   "source": [
    "As expected, this is pretty bad 5th percentile runtime, but 91st percentile mem."
   ]
  },
  {
   "cell_type": "markdown",
   "id": "a16cc69b-1487-471c-96ea-9b17ca76b1ee",
   "metadata": {},
   "source": [
    "---"
   ]
  },
  {
   "cell_type": "markdown",
   "id": "11e65d1a-cced-43ce-a816-bc9c3fcf4cd8",
   "metadata": {},
   "source": [
    "Doi, don't settle for manky sorting $O(nlogn)$ when you have $O(n)$ available for free.\n",
    "\n",
    "Use a hash table for its constant-time lookup property. Finding existence of a key within a dictionary is a constant-time operation, unlike the traditional array. Use this property to your advantage."
   ]
  },
  {
   "cell_type": "markdown",
   "id": "29396851-e0ef-481a-a197-65e8663423bf",
   "metadata": {},
   "source": [
    "**Algorithm:**\n",
    "\n",
    "Create the dict $D$. In this dict, our $(key:value)$ pairs map to $(L[i]:i)$.\n",
    "\n",
    "Then, for $i \\in L$, test whether the valid solution for $y - L[i]$ exists in the dict. \n",
    "* If not, we insert $(L[i]:i)$ to $D$.\n",
    "* If exists, return $(i, D[y - L[i]])$.\n"
   ]
  },
  {
   "cell_type": "code",
   "execution_count": 10,
   "id": "d933a82a-9986-46c3-9705-b1191d648f7d",
   "metadata": {},
   "outputs": [],
   "source": [
    "def twoSum(L: list[int], y: int) -> list[int]:\n",
    "    n = len(L)\n",
    "    D = {}\n",
    "    \n",
    "    for i in range(n):\n",
    "        if y - L[i] in D:\n",
    "            return [i, D[y - L[i]]]\n",
    "        else:\n",
    "            D[L[i]] = i\n"
   ]
  },
  {
   "cell_type": "code",
   "execution_count": 11,
   "id": "75901606-8481-4623-b27a-323187a4e66f",
   "metadata": {},
   "outputs": [
    {
     "data": {
      "text/plain": [
       "[1, 0]"
      ]
     },
     "execution_count": 11,
     "metadata": {},
     "output_type": "execute_result"
    }
   ],
   "source": [
    "twoSum([2,7,11,15], 9)"
   ]
  },
  {
   "cell_type": "markdown",
   "id": "acb86b41-998e-42f8-acf7-d2e102315b73",
   "metadata": {},
   "source": [
    "As expected, we're now 95th percentile runtime (and bad memory because duh, $O(n)$ space now)."
   ]
  },
  {
   "cell_type": "markdown",
   "id": "8bdd6e7b-47c0-4d97-9af5-e9230810a627",
   "metadata": {},
   "source": [
    "Let's make a more readable version..."
   ]
  },
  {
   "cell_type": "code",
   "execution_count": 12,
   "id": "f08539f0-dfd8-4919-b932-776c2e6ed1e2",
   "metadata": {},
   "outputs": [],
   "source": [
    "def twoSum(L: list[int], y: int) -> list[int]:\n",
    "    n = len(L)\n",
    "    D = {}\n",
    "    \n",
    "    for i, x in enumerate(L):\n",
    "        if y - x in D:\n",
    "            return [i, D[y - x]]\n",
    "        else:\n",
    "            D[x] = i"
   ]
  },
  {
   "cell_type": "markdown",
   "id": "44f248ce-cd26-487f-a83d-306dd383b70d",
   "metadata": {},
   "source": [
    "There we go, that looks pretty"
   ]
  }
 ],
 "metadata": {
  "kernelspec": {
   "display_name": "Python 3 (ipykernel)",
   "language": "python",
   "name": "python3"
  },
  "language_info": {
   "codemirror_mode": {
    "name": "ipython",
    "version": 3
   },
   "file_extension": ".py",
   "mimetype": "text/x-python",
   "name": "python",
   "nbconvert_exporter": "python",
   "pygments_lexer": "ipython3",
   "version": "3.9.6"
  }
 },
 "nbformat": 4,
 "nbformat_minor": 5
}
