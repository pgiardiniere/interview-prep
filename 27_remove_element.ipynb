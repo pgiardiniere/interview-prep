{
 "cells": [
  {
   "cell_type": "markdown",
   "metadata": {},
   "source": [
    "Given an integer array `nums` and an integer `val`, remove all occurrences of `val` in `nums` __in-place__. The order of the elements may be changed. Then return the _number of elements_ in `nums` which are not equal to `val`.\n",
    "\n",
    "Consider the number of elements in nums which are not equal to val be `k`, to get accepted, you need to do the following things:\n",
    "\n",
    "    Change the array nums such that the first k elements of nums contain the elements which are not equal to val. The remaining elements of nums are not important as well as the size of nums.\n",
    "    Return k.\n",
    "\n",
    "Custom Judge:\n",
    "\n",
    "The judge will test your solution with the following code:"
   ]
  },
  {
   "cell_type": "code",
   "execution_count": 40,
   "metadata": {},
   "outputs": [],
   "source": [
    "def removeElement(nums: list[int], val: int) -> int:\n",
    "    nums[:] = [x for x in nums if x != val]\n",
    "    k = len(nums)\n",
    "    return k"
   ]
  },
  {
   "cell_type": "code",
   "execution_count": 43,
   "metadata": {},
   "outputs": [
    {
     "name": "stdout",
     "output_type": "stream",
     "text": [
      "4 [2, 2, 3, 4]\n"
     ]
    }
   ],
   "source": [
    "l = [2, 2, 3, 4, 1, 1]\n",
    "k = removeElement(l, 1)\n",
    "print(k, l)"
   ]
  },
  {
   "cell_type": "code",
   "execution_count": 44,
   "metadata": {},
   "outputs": [
    {
     "name": "stdout",
     "output_type": "stream",
     "text": [
      "5 [2, 2, 3, 1, 1]\n"
     ]
    }
   ],
   "source": [
    "l = [2, 2, 3, 4, 1, 1]\n",
    "k = removeElement(l, 4)\n",
    "print(k, l)"
   ]
  },
  {
   "cell_type": "markdown",
   "metadata": {},
   "source": [
    "Mkay so this one just has weird review code, but fortunately using list comprehension shortcut works with it so no worries.\n",
    "$O(n), O(1)$."
   ]
  }
 ],
 "metadata": {
  "kernelspec": {
   "display_name": "Python 3 (ipykernel)",
   "language": "python",
   "name": "python3"
  },
  "language_info": {
   "codemirror_mode": {
    "name": "ipython",
    "version": 3
   },
   "file_extension": ".py",
   "mimetype": "text/x-python",
   "name": "python",
   "nbconvert_exporter": "python",
   "pygments_lexer": "ipython3",
   "version": "3.9.6"
  }
 },
 "nbformat": 4,
 "nbformat_minor": 4
}
