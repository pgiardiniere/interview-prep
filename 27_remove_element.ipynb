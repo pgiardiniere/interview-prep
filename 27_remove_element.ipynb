{
 "cells": [
  {
   "cell_type": "markdown",
   "metadata": {},
   "source": [
    "Given an integer array `nums` and an integer `val`, remove all occurrences of `val` in `nums` __in-place__. The order of the elements may be changed. Then return the _number of elements_ in `nums` which are not equal to `val`.\n",
    "\n",
    "Consider the number of elements in nums which are not equal to val be `k`, to get accepted, you need to do the following things:\n",
    "\n",
    "    Change the array nums such that the first k elements of nums contain the elements which are not equal to val. The remaining elements of nums are not important as well as the size of nums.\n",
    "    Return k.\n",
    "\n",
    "Custom Judge:\n",
    "\n",
    "The judge will test your solution with the following code:"
   ]
  },
  {
   "cell_type": "markdown",
   "metadata": {},
   "source": []
  }
 ],
 "metadata": {
  "language_info": {
   "name": "python"
  },
  "orig_nbformat": 4
 },
 "nbformat": 4,
 "nbformat_minor": 2
}
