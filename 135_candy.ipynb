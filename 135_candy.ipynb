{
 "cells": [
  {
   "cell_type": "markdown",
   "id": "036a9be6-65a7-4f0f-879b-8f3185a7c8f8",
   "metadata": {},
   "source": [
    "There are `n` children standing in a line. Each child is assigned a rating value given in the integer array ratings.\n",
    "\n",
    "You are giving candies to these children subjected to the following requirements:\n",
    "\n",
    "* Each child must have at least one candy.\n",
    "* Children with a higher rating get more candies than their neighbors.\n",
    "\n",
    "Return the minimum number of candies you need to have to distribute the candies to the children."
   ]
  },
  {
   "cell_type": "markdown",
   "id": "0646a1a5-c6d1-4562-8969-f5a67e8ab4d7",
   "metadata": {},
   "source": [
    "---"
   ]
  },
  {
   "cell_type": "markdown",
   "id": "1442cbb1-5f03-4dfa-8dfe-c19b00dea6d5",
   "metadata": {},
   "source": [
    "We can take an approach where we linearly probe the array, consecutively adding candies to children who have higher ratings than their neighbor but a not-higher candy count.\n",
    "\n",
    "On each full probe, we reduce the search space by 2 (the first and last positions are optimal at each pass). We store candy amounts in an intermediate array.\n",
    "\n",
    "This implies $O(n^2)$ time complexity, $O(n)$ space complexity."
   ]
  },
  {
   "cell_type": "code",
   "execution_count": 10,
   "id": "21e4bed7-0fc4-4d34-9a1c-b432844fe751",
   "metadata": {},
   "outputs": [],
   "source": [
    "def candy(ratings: list[int]) -> int:\n",
    "    n = len(ratings)\n",
    "    candies = [1] * n\n",
    "    print(candies)\n",
    "    \n",
    "    passes = 0\n",
    "    unchecked = n\n",
    "    while unchecked > 0:\n",
    "        # if unchecked == 1:\n",
    "        #     candies[n \\\\ 2]\n",
    "        for i in range(passes + 1, n - passes - 1):\n",
    "            # Check to the left and right of current index:\n",
    "            if candies[i] <= candies[i-1] or candies[i] <= candies[i+1]:\n",
    "                candies[i] += 1\n",
    "        print(f\"{candies}, {unchecked}, {passes}\")\n",
    "        unchecked -= 2\n"
   ]
  },
  {
   "cell_type": "code",
   "execution_count": 11,
   "id": "5a3a3b9d-3b2a-41f4-9172-7363646e70ab",
   "metadata": {},
   "outputs": [
    {
     "name": "stdout",
     "output_type": "stream",
     "text": [
      "[1, 1, 1, 1, 1]\n",
      "[1, 2, 2, 2, 1], 5, 0\n",
      "[1, 3, 3, 3, 1], 3, 0\n",
      "[1, 4, 4, 4, 1], 1, 0\n"
     ]
    }
   ],
   "source": [
    "ratings = [1, 2, 3, 4, 3]\n",
    "candy(ratings)"
   ]
  },
  {
   "cell_type": "markdown",
   "id": "d16b857f-52ef-4ae7-9e80-97ca3c7c70cc",
   "metadata": {},
   "source": [
    "Probably I'm double-counting, let's only do left-check:"
   ]
  },
  {
   "cell_type": "code",
   "execution_count": 27,
   "id": "83a0afb4-90e9-4491-88a4-8bebc6de4ac1",
   "metadata": {},
   "outputs": [],
   "source": [
    "def candy(ratings: list[int]) -> int:\n",
    "    n = len(ratings)\n",
    "    candies = [1] * n\n",
    "    passes = 0\n",
    "    unchecked = n\n",
    "\n",
    "    print(f\"{candies}, {unchecked}, {passes}\")\n",
    "    while unchecked > 0:\n",
    "        for i in range(passes + 1, n - passes):\n",
    "            # Check the left:\n",
    "            if candies[i] <= candies[i-1] and ratings[i] > ratings[i-1]:\n",
    "                candies[i] += 1\n",
    "        unchecked -= 2\n",
    "        print(f\"{candies}, {unchecked}, {passes}\")\n",
    "\n",
    "    return sum(candies)"
   ]
  },
  {
   "cell_type": "code",
   "execution_count": 23,
   "id": "14b9f45f-acf3-4dbf-9080-52b9df6196ce",
   "metadata": {},
   "outputs": [
    {
     "name": "stdout",
     "output_type": "stream",
     "text": [
      "[1, 1, 1, 1, 1], 5, 0\n",
      "[1, 2, 2, 2, 1], 3, 0\n",
      "[1, 2, 3, 3, 1], 1, 0\n",
      "[1, 2, 3, 4, 1], -1, 0\n"
     ]
    }
   ],
   "source": [
    "ratings = [1, 2, 3, 4, 3]\n",
    "candy(ratings)"
   ]
  },
  {
   "cell_type": "markdown",
   "id": "1718a811-73b8-4d4d-a500-0808a51f449b",
   "metadata": {},
   "source": [
    "Doi, I forgot to check the actual thing we're concerned with before incrementing: whether the _rating_ is higher but count of candies is lower."
   ]
  },
  {
   "cell_type": "code",
   "execution_count": 29,
   "id": "3f3149ff-8c3e-4a98-8273-2baba5abe211",
   "metadata": {},
   "outputs": [
    {
     "name": "stdout",
     "output_type": "stream",
     "text": [
      "[1, 1, 1], 3, 0\n",
      "[1, 1, 2], 1, 0\n",
      "[1, 1, 2], -1, 0\n"
     ]
    },
    {
     "data": {
      "text/plain": [
       "4"
      ]
     },
     "execution_count": 29,
     "metadata": {},
     "output_type": "execute_result"
    }
   ],
   "source": [
    "ratings = [1,0,2]\n",
    "candy(ratings)"
   ]
  },
  {
   "cell_type": "markdown",
   "id": "ca7f371a-aa42-435b-8819-d64cfad26720",
   "metadata": {},
   "source": [
    "Ah, ok, so we do need a rightward check, because this fails the test case for 0th index being greater than i+1."
   ]
  },
  {
   "cell_type": "code",
   "execution_count": 30,
   "id": "311fae29-05b5-4a75-999a-c8359d8b7446",
   "metadata": {},
   "outputs": [],
   "source": [
    "def candy(ratings: list[int]) -> int:\n",
    "    n = len(ratings)\n",
    "    candies = [1] * n\n",
    "    passes = 0\n",
    "    unchecked = n\n",
    "\n",
    "    print(f\"{candies}, {unchecked}, {passes}\")\n",
    "    while unchecked > 0:\n",
    "        for i in range(passes + 1, n - passes - 1):\n",
    "            # Check the left:\n",
    "            if candies[i] <= candies[i-1] and ratings[i] > ratings[i-1]:\n",
    "                candies[i] += 1\n",
    "            # Check the right:\n",
    "            if candies[i] <= candies[i+1] and ratings[i] > ratings[i+1]:\n",
    "                candies[i] += 1\n",
    "        unchecked -= 2\n",
    "        print(f\"{candies}, {unchecked}, {passes}\")\n",
    "\n",
    "    return sum(candies)"
   ]
  },
  {
   "cell_type": "code",
   "execution_count": 31,
   "id": "1a3723e5-b238-47fa-a868-574dd67b5099",
   "metadata": {},
   "outputs": [
    {
     "name": "stdout",
     "output_type": "stream",
     "text": [
      "[1, 1, 1], 3, 0\n",
      "[1, 1, 1], 1, 0\n",
      "[1, 1, 1], -1, 0\n"
     ]
    },
    {
     "data": {
      "text/plain": [
       "3"
      ]
     },
     "execution_count": 31,
     "metadata": {},
     "output_type": "execute_result"
    }
   ],
   "source": [
    "ratings = [1,0,2]\n",
    "candy(ratings)"
   ]
  },
  {
   "cell_type": "markdown",
   "id": "c08c3d8f-de45-4473-8e26-6dd494f11811",
   "metadata": {},
   "source": [
    "Yeah, but now I have the issue of potentially incrementing twice per pass. This needs to be one logical statement:"
   ]
  },
  {
   "cell_type": "code",
   "execution_count": 34,
   "id": "89ade5ba-0c87-482c-8cd7-dfdef1445d5a",
   "metadata": {},
   "outputs": [],
   "source": [
    "def candy(ratings: list[int]) -> int:\n",
    "    n = len(ratings)\n",
    "    candies = [1] * n\n",
    "    passes = 0\n",
    "    unchecked = n\n",
    "\n",
    "    print(f\"{candies}, {unchecked}, {passes}\")\n",
    "    while unchecked > 0:\n",
    "        for i in range(passes + 1, n - passes - 1):\n",
    "            # Check the left or right sides simultaneously for an imbalance:\n",
    "            if ((candies[i] <= candies[i-1] and ratings[i] > ratings[i-1]) or\n",
    "                (candies[i] <= candies[i+1] and ratings[i] > ratings[i+1])):\n",
    "                candies[i] += 1\n",
    "        unchecked -= 2\n",
    "        print(f\"{candies}, {unchecked}, {passes}\")\n",
    "\n",
    "    return sum(candies)"
   ]
  },
  {
   "cell_type": "code",
   "execution_count": 35,
   "id": "1bf98535-298e-4b42-a33e-b7e0afe09fc6",
   "metadata": {},
   "outputs": [
    {
     "name": "stdout",
     "output_type": "stream",
     "text": [
      "[1, 1, 1], 3, 0\n",
      "[1, 1, 1], 1, 0\n",
      "[1, 1, 1], -1, 0\n"
     ]
    },
    {
     "data": {
      "text/plain": [
       "3"
      ]
     },
     "execution_count": 35,
     "metadata": {},
     "output_type": "execute_result"
    }
   ],
   "source": [
    "ratings = [1,0,2]\n",
    "candy(ratings)"
   ]
  },
  {
   "cell_type": "markdown",
   "id": "cae2ea0f-6bc3-473a-80c4-e357a6ebdcf1",
   "metadata": {},
   "source": [
    "Oh, duh, I'm not incrementing passes at each iter."
   ]
  },
  {
   "cell_type": "code",
   "execution_count": 36,
   "id": "ba283c15-205f-4d8d-b438-498e3d5109ed",
   "metadata": {},
   "outputs": [],
   "source": [
    "def candy(ratings: list[int]) -> int:\n",
    "    n = len(ratings)\n",
    "    candies = [1] * n\n",
    "    passes = 0\n",
    "    unchecked = n\n",
    "\n",
    "    print(f\"{candies}, {unchecked}, {passes}\")\n",
    "    while unchecked > 0:\n",
    "        for i in range(passes + 1, n - passes - 1):\n",
    "            # Check the left or right sides simultaneously for an imbalance:\n",
    "            if ((candies[i] <= candies[i-1] and ratings[i] > ratings[i-1]) or\n",
    "                (candies[i] <= candies[i+1] and ratings[i] > ratings[i+1])):\n",
    "                candies[i] += 1\n",
    "        unchecked -= 2\n",
    "        passes += 1\n",
    "        print(f\"{candies}, {unchecked}, {passes}\")\n",
    "\n",
    "    return sum(candies)"
   ]
  },
  {
   "cell_type": "code",
   "execution_count": 37,
   "id": "c5c6ed4b-a6b6-40ad-a7dc-1dca66d58e08",
   "metadata": {},
   "outputs": [
    {
     "name": "stdout",
     "output_type": "stream",
     "text": [
      "[1, 1, 1], 3, 0\n",
      "[1, 1, 1], 1, 1\n",
      "[1, 1, 1], -1, 2\n"
     ]
    },
    {
     "data": {
      "text/plain": [
       "3"
      ]
     },
     "execution_count": 37,
     "metadata": {},
     "output_type": "execute_result"
    }
   ],
   "source": [
    "candy(ratings)"
   ]
  },
  {
   "cell_type": "code",
   "execution_count": 38,
   "id": "7ef2ff1f-9cb4-4ca9-a4d5-81079a2b018a",
   "metadata": {},
   "outputs": [
    {
     "name": "stdout",
     "output_type": "stream",
     "text": [
      "[1, 1, 1, 1, 1], 5, 0\n",
      "[1, 2, 2, 2, 1], 3, 1\n",
      "[1, 2, 3, 2, 1], 1, 2\n",
      "[1, 2, 3, 2, 1], -1, 3\n"
     ]
    },
    {
     "data": {
      "text/plain": [
       "9"
      ]
     },
     "execution_count": 38,
     "metadata": {},
     "output_type": "execute_result"
    }
   ],
   "source": [
    "ratings = [1, 2, 3, 4, 3]\n",
    "candy(ratings)"
   ]
  },
  {
   "cell_type": "markdown",
   "id": "07c268d3-7844-429f-83f0-b09195d8959b",
   "metadata": {},
   "source": [
    "Ok, this is just busted"
   ]
  },
  {
   "cell_type": "markdown",
   "id": "94c49c7d-ef7e-4ad3-a5ac-fe87d6a48f54",
   "metadata": {},
   "source": [
    "---"
   ]
  },
  {
   "cell_type": "markdown",
   "id": "59bff97a-90fb-4ab3-a830-ade7b8b89c54",
   "metadata": {},
   "source": [
    "Ohhh duh, since only relative candies to neighbors is important, we can easily use a greedy approach, since the optimal (minimum) val for a neighbor higher than next neighbor is just that neighbors' value + 1.\n",
    "\n",
    "Use 1 pass to ensure each index is higher than left neighbor, then a 2nd pass to ensure each index is higher than right neighbor, by termination of the 2nd pass both conditions are true for all indices _and_ at the minimum possible total candies distributed."
   ]
  },
  {
   "cell_type": "code",
   "execution_count": 47,
   "id": "fa7e41bb-2f77-4c0b-998b-bfabd3ebeb18",
   "metadata": {},
   "outputs": [],
   "source": [
    "def candy(ratings: list[int]) -> int:\n",
    "    n = len(ratings)\n",
    "    candies = [1] * n\n",
    "\n",
    "    print(candies)\n",
    "    # Ensure each candy is higher than left neighbor:\n",
    "    for i in range(1, n):\n",
    "        if candies[i] <= candies[i-1] and ratings[i] > ratings[i-1]:\n",
    "            candies[i] = candies[i-1] + 1\n",
    "    print(candies)\n",
    "    # Ensure each candy is higher than right neighbor:\n",
    "    for i in range(n-2, -1, -1):\n",
    "        if candies[i] <= candies[i+1] and ratings[i] > ratings[i+1]:\n",
    "            candies[i] = candies[i+1] +1\n",
    "    print(candies)\n",
    "    return sum(candies)\n"
   ]
  },
  {
   "cell_type": "code",
   "execution_count": 48,
   "id": "ae773f99-ae00-447d-ac4b-a58a97784452",
   "metadata": {},
   "outputs": [
    {
     "name": "stdout",
     "output_type": "stream",
     "text": [
      "[1, 1, 1]\n",
      "[1, 1, 2]\n",
      "[2, 1, 2]\n"
     ]
    },
    {
     "data": {
      "text/plain": [
       "5"
      ]
     },
     "execution_count": 48,
     "metadata": {},
     "output_type": "execute_result"
    }
   ],
   "source": [
    "ratings = [1,0,2]\n",
    "candy(ratings)"
   ]
  },
  {
   "cell_type": "code",
   "execution_count": null,
   "id": "cfee1dde-5c3c-4f04-bdf4-6e18b9dd4199",
   "metadata": {},
   "outputs": [],
   "source": []
  }
 ],
 "metadata": {
  "kernelspec": {
   "display_name": "Python 3 (ipykernel)",
   "language": "python",
   "name": "python3"
  },
  "language_info": {
   "codemirror_mode": {
    "name": "ipython",
    "version": 3
   },
   "file_extension": ".py",
   "mimetype": "text/x-python",
   "name": "python",
   "nbconvert_exporter": "python",
   "pygments_lexer": "ipython3",
   "version": "3.9.6"
  }
 },
 "nbformat": 4,
 "nbformat_minor": 5
}
