{
 "cells": [
  {
   "cell_type": "markdown",
   "id": "be52f837-b066-4611-afd6-c9baccb83b21",
   "metadata": {},
   "source": [
    "Given a time in -hour AM/PM format, convert it to military (24-hour) time.\n",
    "\n",
    "Note: \n",
    "- 12:00:00AM on a 12-hour clock is 00:00:00 on a 24-hour clock.\n",
    "- 12:00:00PM on a 12-hour clock is 12:00:00 on a 24-hour clock.\n",
    "\n",
    "Example\n",
    "```\n",
    "s='12:01:00PM'\n",
    "Return '12:01:00'.\n",
    "\n",
    "s='12:01:00AM'\n",
    "Return '00:01:00'.\n",
    "```"
   ]
  },
  {
   "cell_type": "code",
   "execution_count": 18,
   "id": "37f9651d-9149-428c-8931-b8adb84933d9",
   "metadata": {},
   "outputs": [],
   "source": [
    "def timeConversion(s):\n",
    "    # For all PM times outside 12:00:00 and 12:59:59, increase hours by 12.\n",
    "    hours = int(s[0:2])\n",
    "    military_time = s[0:8]\n",
    "    if \"PM\" in s and hours != 12:\n",
    "        hours += 12\n",
    "        military_time = '{}{}'.format(hours, s[2:8])\n",
    "        \n",
    "    # For AM times between 12:00:00AM and 12:59:59AM, decrease hours by 12\n",
    "    if \"AM\" in s and hours == 12:\n",
    "        military_time = '{}{}'.format(\"00\", s[2:8])\n",
    "\n",
    "        \n",
    "    return military_time"
   ]
  },
  {
   "cell_type": "code",
   "execution_count": 19,
   "id": "7a06edea-6168-4a13-a0d4-8c61122085e4",
   "metadata": {
    "scrolled": true
   },
   "outputs": [
    {
     "data": {
      "text/plain": [
       "'00:05:39'"
      ]
     },
     "execution_count": 19,
     "metadata": {},
     "output_type": "execute_result"
    }
   ],
   "source": [
    "s = \"12:05:39AM\"\n",
    "timeConversion(s)"
   ]
  },
  {
   "cell_type": "code",
   "execution_count": 20,
   "id": "626868bc-027f-42f0-80bb-9dd764c1b994",
   "metadata": {},
   "outputs": [
    {
     "data": {
      "text/plain": [
       "'06:40:03'"
      ]
     },
     "execution_count": 20,
     "metadata": {},
     "output_type": "execute_result"
    }
   ],
   "source": [
    "s = \"06:40:03AM\"\n",
    "timeConversion(s)"
   ]
  },
  {
   "cell_type": "code",
   "execution_count": null,
   "id": "beeb6b71-3fe3-41d4-bba8-edbcea663dd2",
   "metadata": {},
   "outputs": [],
   "source": []
  }
 ],
 "metadata": {
  "kernelspec": {
   "display_name": "Python 3 (ipykernel)",
   "language": "python",
   "name": "python3"
  },
  "language_info": {
   "codemirror_mode": {
    "name": "ipython",
    "version": 3
   },
   "file_extension": ".py",
   "mimetype": "text/x-python",
   "name": "python",
   "nbconvert_exporter": "python",
   "pygments_lexer": "ipython3",
   "version": "3.10.6"
  }
 },
 "nbformat": 4,
 "nbformat_minor": 5
}
