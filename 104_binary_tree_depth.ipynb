{
 "cells": [
  {
   "cell_type": "markdown",
   "id": "8d93c50c-5e80-4d1b-9079-3a87c855eabc",
   "metadata": {},
   "source": [
    "## 104. Maximum Depth of Binary Tree\n",
    "\n",
    "Given the root of a binary tree, return its maximum depth.\n",
    "\n",
    "A binary tree's maximum depth is the number of nodes along the longest path from the root node down to the farthest leaf node."
   ]
  },
  {
   "cell_type": "code",
   "execution_count": 4,
   "id": "017a1aa8-0ad3-45b0-aad5-08036af0965b",
   "metadata": {},
   "outputs": [],
   "source": [
    "from typing import Optional\n",
    "\n",
    "# Definition for a binary tree node.\n",
    "class TreeNode:\n",
    "    def __init__(self, val=0, left=None, right=None):\n",
    "        self.val = val\n",
    "        self.left = left\n",
    "        self.right = right\n",
    "\n",
    "def maxDepth(root: Optional[TreeNode]) -> int:\n",
    "    pass\n",
    "        "
   ]
  },
  {
   "cell_type": "markdown",
   "id": "9cde2bc7-40c5-4ac7-b368-aa6aa7995782",
   "metadata": {},
   "source": [
    "Oh okay, so just do tree traversal. Since it requires max depth and this isn't necessarily a complete binary tree, we must walk the whole thing, and not just the left-most path. Means we can't get $O(logn)$ performance, only $O(n)$. (And $O(1)$ memory)."
   ]
  },
  {
   "cell_type": "code",
   "execution_count": null,
   "id": "9bd38156-384b-4c7c-b857-c0a0a21c4da8",
   "metadata": {},
   "outputs": [],
   "source": []
  }
 ],
 "metadata": {
  "kernelspec": {
   "display_name": "Python 3 (ipykernel)",
   "language": "python",
   "name": "python3"
  },
  "language_info": {
   "codemirror_mode": {
    "name": "ipython",
    "version": 3
   },
   "file_extension": ".py",
   "mimetype": "text/x-python",
   "name": "python",
   "nbconvert_exporter": "python",
   "pygments_lexer": "ipython3",
   "version": "3.9.6"
  }
 },
 "nbformat": 4,
 "nbformat_minor": 5
}
