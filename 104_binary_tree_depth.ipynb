{
 "cells": [
  {
   "cell_type": "markdown",
   "id": "8d93c50c-5e80-4d1b-9079-3a87c855eabc",
   "metadata": {},
   "source": [
    "## 104. Maximum Depth of Binary Tree\n",
    "\n",
    "Given the root of a binary tree, return its maximum depth.\n",
    "\n",
    "A binary tree's maximum depth is the number of nodes along the longest path from the root node down to the farthest leaf node."
   ]
  },
  {
   "cell_type": "code",
   "execution_count": 4,
   "id": "017a1aa8-0ad3-45b0-aad5-08036af0965b",
   "metadata": {},
   "outputs": [],
   "source": [
    "from typing import Optional\n",
    "\n",
    "# Definition for a binary tree node.\n",
    "class TreeNode:\n",
    "    def __init__(self, val=0, left=None, right=None):\n",
    "        self.val = val\n",
    "        self.left = left\n",
    "        self.right = right\n",
    "\n",
    "def maxDepth(root: Optional[TreeNode]) -> int:\n",
    "    pass\n",
    "        "
   ]
  },
  {
   "cell_type": "markdown",
   "id": "9cde2bc7-40c5-4ac7-b368-aa6aa7995782",
   "metadata": {},
   "source": [
    "Oh okay, so just do tree traversal. Since it requires max depth and this isn't necessarily a complete binary tree, we must walk the whole thing, and not just the left-most path. Means we can't get $O(logn)$ performance, only $O(n)$. (And $O(1)$ memory)."
   ]
  },
  {
   "cell_type": "markdown",
   "id": "c8571962-e4ba-47c2-b297-492e63ca5007",
   "metadata": {},
   "source": [
    "If we alter the function call sign, we can do this recursively:"
   ]
  },
  {
   "cell_type": "code",
   "execution_count": 5,
   "id": "9bd38156-384b-4c7c-b857-c0a0a21c4da8",
   "metadata": {},
   "outputs": [],
   "source": [
    "def maxDepth(root: Optional[TreeNode], n: int = 1) -> int:\n",
    "    if root is None or root == []:\n",
    "        return 0\n",
    "\n",
    "    left, right = n, n\n",
    "\n",
    "    if root.left:\n",
    "        left = self.maxDepth(root.left, n + 1)\n",
    "    if root.right:\n",
    "        right = self.maxDepth(root.right, n + 1)\n",
    "    \n",
    "    return max(left, right)\n"
   ]
  },
  {
   "cell_type": "markdown",
   "id": "177d5e20-bcc8-4baa-96b1-924d6a45be20",
   "metadata": {},
   "source": [
    "OK it works, 87 percentile runtime, 12th percentile mem\n",
    "\n",
    "I should make an iterative version of this, and check to make sure this is as clean as can be..."
   ]
  },
  {
   "cell_type": "code",
   "execution_count": 9,
   "id": "d7c7d1b8-dbef-49a0-8c2a-bd65a55503de",
   "metadata": {},
   "outputs": [],
   "source": [
    "def maxDepth(root: Optional[TreeNode]) -> int:\n",
    "    if not root or root == []:\n",
    "        return 0\n",
    "\n",
    "    n = 1\n",
    "    left, right = n, n\n",
    "\n",
    "    if root.left:\n",
    "        left = self.maxDepth(root.left, n + 1)\n",
    "    if root.right:\n",
    "        right = self.maxDepth(root.right, n + 1)\n",
    "    \n",
    "    return max(left, right)\n"
   ]
  },
  {
   "cell_type": "code",
   "execution_count": 12,
   "id": "591e9ccf-31b1-4d78-96c0-3660aa207577",
   "metadata": {},
   "outputs": [],
   "source": [
    "def maxDepth(root: Optional[TreeNode]) -> int:\n",
    "    if not root or root == []:\n",
    "        return 0\n",
    "\n",
    "    left = self.maxDepth(root.left)\n",
    "    right = self.maxDepth(root.right)\n",
    "    return max(left, right) + 1"
   ]
  },
  {
   "cell_type": "markdown",
   "id": "87aabbbc-26be-4fdd-9cd2-5a1b65ccb110",
   "metadata": {},
   "source": [
    "That's funny, this is exact same solution time-complexity wise. But we have 57 and 58 percentiles for runtime/mem respectively, and the difference of 0.1mb mem was all the difference"
   ]
  },
  {
   "cell_type": "markdown",
   "id": "79028be8-2a88-4b5e-9924-abb91c397ea9",
   "metadata": {},
   "source": [
    "Marginally cleaner (fewer things going on)."
   ]
  },
  {
   "cell_type": "code",
   "execution_count": null,
   "id": "2f40db38-8fc6-4fc4-a045-9f29f931f663",
   "metadata": {},
   "outputs": [],
   "source": []
  }
 ],
 "metadata": {
  "kernelspec": {
   "display_name": "Python 3 (ipykernel)",
   "language": "python",
   "name": "python3"
  },
  "language_info": {
   "codemirror_mode": {
    "name": "ipython",
    "version": 3
   },
   "file_extension": ".py",
   "mimetype": "text/x-python",
   "name": "python",
   "nbconvert_exporter": "python",
   "pygments_lexer": "ipython3",
   "version": "3.9.6"
  }
 },
 "nbformat": 4,
 "nbformat_minor": 5
}
