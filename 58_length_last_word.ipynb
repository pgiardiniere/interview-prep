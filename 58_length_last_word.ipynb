{
 "cells": [
  {
   "cell_type": "markdown",
   "id": "0b4e7c33-6336-4e86-b841-2813cdf19812",
   "metadata": {},
   "source": [
    "Given a string s consisting of words and spaces, return the length of the last word in the string.\n",
    "\n",
    "A word is a maximal substring consisting of non-space characters only."
   ]
  },
  {
   "cell_type": "code",
   "execution_count": 1,
   "id": "3c738037-c361-488f-842a-74edab00b0f1",
   "metadata": {},
   "outputs": [],
   "source": [
    "def lengthOfLastWord(s: str) -> int:\n",
    "    pass"
   ]
  },
  {
   "cell_type": "markdown",
   "id": "d6b77e53-9e61-4046-b23a-5b9e42717b05",
   "metadata": {},
   "source": [
    "Ok, so we just split the string where space is the delimiter and return len last word."
   ]
  },
  {
   "cell_type": "code",
   "execution_count": 2,
   "id": "2c0e707d-7a89-434f-ba4b-fc8d96764788",
   "metadata": {},
   "outputs": [
    {
     "ename": "IndentationError",
     "evalue": "expected an indented block (2895449386.py, line 2)",
     "output_type": "error",
     "traceback": [
      "\u001b[0;36m  Cell \u001b[0;32mIn[2], line 2\u001b[0;36m\u001b[0m\n\u001b[0;31m    \u001b[0m\n\u001b[0m    ^\u001b[0m\n\u001b[0;31mIndentationError\u001b[0m\u001b[0;31m:\u001b[0m expected an indented block\n"
     ]
    }
   ],
   "source": [
    "def lengthOfLastWord(s: str) -> int:\n",
    "    len(s.split(\" \")[-1])"
   ]
  },
  {
   "cell_type": "code",
   "execution_count": 3,
   "id": "588ca935-1829-4587-8fc9-6866ff53f35d",
   "metadata": {},
   "outputs": [
    {
     "data": {
      "text/plain": [
       "['here', 'is', 'the', 'string']"
      ]
     },
     "execution_count": 3,
     "metadata": {},
     "output_type": "execute_result"
    }
   ],
   "source": [
    "s = \"here is the string\"\n",
    "s.split(\" \")"
   ]
  },
  {
   "cell_type": "code",
   "execution_count": 4,
   "id": "a066fb79-f72f-4417-b271-29b2ba1d691c",
   "metadata": {},
   "outputs": [
    {
     "data": {
      "text/plain": [
       "6"
      ]
     },
     "execution_count": 4,
     "metadata": {},
     "output_type": "execute_result"
    }
   ],
   "source": [
    "len(s.split(\" \")[-1])"
   ]
  },
  {
   "cell_type": "code",
   "execution_count": 5,
   "id": "db65bf23-8e6b-4d0e-ab11-0001c675e711",
   "metadata": {},
   "outputs": [
    {
     "data": {
      "text/plain": [
       "['here', 'is', 'the', 'string']"
      ]
     },
     "execution_count": 5,
     "metadata": {},
     "output_type": "execute_result"
    }
   ],
   "source": [
    "s.split()"
   ]
  },
  {
   "cell_type": "code",
   "execution_count": 6,
   "id": "398620cc-06df-4ed7-9e65-67ce2d200ad4",
   "metadata": {},
   "outputs": [
    {
     "data": {
      "text/plain": [
       "['fly', 'me', 'to', 'the', 'moon']"
      ]
     },
     "execution_count": 6,
     "metadata": {},
     "output_type": "execute_result"
    }
   ],
   "source": [
    "s = \"   fly me   to   the moon  \"\n",
    "s.split()"
   ]
  },
  {
   "cell_type": "code",
   "execution_count": 8,
   "id": "21a081e4-ac58-4f24-8ec9-afe97ac3185a",
   "metadata": {},
   "outputs": [],
   "source": [
    "# Even simpler\n",
    "def lengthOfLastWord(s: str) -> int:\n",
    "    len(s.split()[-1])"
   ]
  },
  {
   "cell_type": "code",
   "execution_count": null,
   "id": "b98958f2-732a-4b36-8d8a-899f38869d79",
   "metadata": {},
   "outputs": [],
   "source": []
  }
 ],
 "metadata": {
  "kernelspec": {
   "display_name": "Python 3 (ipykernel)",
   "language": "python",
   "name": "python3"
  },
  "language_info": {
   "codemirror_mode": {
    "name": "ipython",
    "version": 3
   },
   "file_extension": ".py",
   "mimetype": "text/x-python",
   "name": "python",
   "nbconvert_exporter": "python",
   "pygments_lexer": "ipython3",
   "version": "3.9.6"
  }
 },
 "nbformat": 4,
 "nbformat_minor": 5
}
