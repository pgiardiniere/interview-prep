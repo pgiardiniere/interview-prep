{
 "cells": [
  {
   "cell_type": "markdown",
   "id": "79063a50-62fa-4a28-a327-5aaf02574003",
   "metadata": {},
   "source": [
    "You are given an array prices where `prices[i]` is the price of a given stock on the `i`th day.\n",
    "\n",
    "You want to maximize your profit by choosing a single day to buy one stock and choosing a different day in the future to sell that stock.\n",
    "\n",
    "Return the maximum profit you can achieve from this transaction. If you cannot achieve any profit, return 0."
   ]
  },
  {
   "cell_type": "markdown",
   "id": "289ada2e-6a4e-4e1a-a896-a722043f875c",
   "metadata": {},
   "source": [
    "---"
   ]
  },
  {
   "cell_type": "markdown",
   "id": "87867062-f1e3-479e-926b-505938a92db8",
   "metadata": {},
   "source": [
    "So, left-to-right, we are looking for the largest difference between right-hand term and left-hand term.\n",
    "\n",
    "Should be able to do this in $O(n)$ time and $O(1)$ space."
   ]
  },
  {
   "cell_type": "code",
   "execution_count": 1,
   "id": "94baa537-1f2f-4d52-a0e9-2eaca15cefd4",
   "metadata": {},
   "outputs": [],
   "source": [
    "def maxProfit(prices: list[int]) -> int:\n",
    "    pass"
   ]
  },
  {
   "cell_type": "code",
   "execution_count": 5,
   "id": "e54efdd6-d6d0-4f0f-9e5f-1a01a1b19e66",
   "metadata": {},
   "outputs": [
    {
     "data": {
      "text/plain": [
       "6"
      ]
     },
     "execution_count": 5,
     "metadata": {},
     "output_type": "execute_result"
    }
   ],
   "source": [
    "prices = [1, 2, 3, 5, 2, 7]\n",
    "7-1"
   ]
  },
  {
   "cell_type": "code",
   "execution_count": 6,
   "id": "4aef3350-2241-4a01-a10b-b89e8f52c5e5",
   "metadata": {},
   "outputs": [],
   "source": [
    "def maxProfit(prices: list[int]) -> int:\n",
    "    max_price = float('inf')\n",
    "    min_price = -1\n",
    "\n",
    "    "
   ]
  },
  {
   "cell_type": "markdown",
   "id": "d38cf296-f464-4142-94f7-154c7713b0ba",
   "metadata": {},
   "source": [
    "No wait, due to the constaint of left-to-right we can't just subtract max and min.\n",
    "\n",
    "My first thought of a shortcut (min from left, max from right, meet in middle) also doesn't work because what if both min and max are on the last two days sequentially (respectively).\n",
    "\n",
    "Hmmm"
   ]
  },
  {
   "cell_type": "markdown",
   "id": "f60136fb-2bde-4d88-832a-232e8664a31e",
   "metadata": {},
   "source": [
    "---"
   ]
  },
  {
   "cell_type": "markdown",
   "id": "411b9284-6785-489d-a603-8e8d9cb34860",
   "metadata": {},
   "source": [
    "## Brute force: \n",
    "$O(n^2)$ time and $O(1)$ space"
   ]
  },
  {
   "cell_type": "code",
   "execution_count": 8,
   "id": "516a6f4b-f2a0-4398-8e85-245e5a4634ed",
   "metadata": {},
   "outputs": [],
   "source": [
    "def maxProfit(prices: list[int]) -> int:\n",
    "    max_price = float('inf')\n",
    "    min_price = -1"
   ]
  },
  {
   "cell_type": "code",
   "execution_count": 9,
   "id": "59c0c860-03a6-4dfb-af26-62deb3aed85f",
   "metadata": {},
   "outputs": [
    {
     "data": {
      "text/plain": [
       "[1, 2, 3, 5, 2, 7]"
      ]
     },
     "execution_count": 9,
     "metadata": {},
     "output_type": "execute_result"
    }
   ],
   "source": [
    "prices"
   ]
  },
  {
   "cell_type": "code",
   "execution_count": 11,
   "id": "8dbac35b-c302-47f1-b2c3-d22c9f23d3b9",
   "metadata": {},
   "outputs": [],
   "source": [
    "import numpy as np"
   ]
  },
  {
   "cell_type": "code",
   "execution_count": 12,
   "id": "db3247bc-8b54-4a38-acb2-846f962cdd10",
   "metadata": {},
   "outputs": [
    {
     "data": {
      "text/plain": [
       "5"
      ]
     },
     "execution_count": 12,
     "metadata": {},
     "output_type": "execute_result"
    }
   ],
   "source": [
    "np.argmax(prices)"
   ]
  },
  {
   "cell_type": "code",
   "execution_count": 13,
   "id": "b2520227-368c-4b74-858c-5744a1e2e4d9",
   "metadata": {},
   "outputs": [],
   "source": [
    "arr = prices.copy()"
   ]
  },
  {
   "cell_type": "code",
   "execution_count": 14,
   "id": "9fedc88d-5a80-4ae1-8f60-cd360d745422",
   "metadata": {},
   "outputs": [
    {
     "data": {
      "text/plain": [
       "[1, 2, 3, 5, 2, 7]"
      ]
     },
     "execution_count": 14,
     "metadata": {},
     "output_type": "execute_result"
    }
   ],
   "source": [
    "arr"
   ]
  },
  {
   "cell_type": "code",
   "execution_count": 16,
   "id": "bf904b42-e1ba-4a80-b214-b6e2e6ccc2df",
   "metadata": {},
   "outputs": [
    {
     "data": {
      "text/plain": [
       "[1, 2, 3, 5, 2, 7]"
      ]
     },
     "execution_count": 16,
     "metadata": {},
     "output_type": "execute_result"
    }
   ],
   "source": [
    "arr"
   ]
  },
  {
   "cell_type": "code",
   "execution_count": 17,
   "id": "09bdccd3-a7e6-403e-b364-b9cdb6af858a",
   "metadata": {},
   "outputs": [
    {
     "data": {
      "text/plain": [
       "[1, 2, 3, 5, 2, 7]"
      ]
     },
     "execution_count": 17,
     "metadata": {},
     "output_type": "execute_result"
    }
   ],
   "source": [
    "prices"
   ]
  },
  {
   "cell_type": "code",
   "execution_count": 18,
   "id": "144a858a-f58b-462b-99be-b156bc6f9eff",
   "metadata": {},
   "outputs": [],
   "source": [
    "prices[0] = [0]"
   ]
  },
  {
   "cell_type": "code",
   "execution_count": 19,
   "id": "d1c7e710-e626-42a3-b0be-844bf77638d3",
   "metadata": {},
   "outputs": [
    {
     "data": {
      "text/plain": [
       "[[0], 2, 3, 5, 2, 7]"
      ]
     },
     "execution_count": 19,
     "metadata": {},
     "output_type": "execute_result"
    }
   ],
   "source": [
    "prices"
   ]
  },
  {
   "cell_type": "code",
   "execution_count": 20,
   "id": "dd625efa-d594-4c44-af84-dd72022b2b00",
   "metadata": {},
   "outputs": [],
   "source": [
    "prices[0] = 0"
   ]
  },
  {
   "cell_type": "code",
   "execution_count": 21,
   "id": "b82d7a18-80b4-4f44-8d99-9ffdf2294a2c",
   "metadata": {},
   "outputs": [
    {
     "data": {
      "text/plain": [
       "[0, 2, 3, 5, 2, 7]"
      ]
     },
     "execution_count": 21,
     "metadata": {},
     "output_type": "execute_result"
    }
   ],
   "source": [
    "prices"
   ]
  },
  {
   "cell_type": "code",
   "execution_count": 22,
   "id": "c505cd8f-7eef-48f2-ba0c-54e431b32862",
   "metadata": {},
   "outputs": [
    {
     "data": {
      "text/plain": [
       "[1, 2, 3, 5, 2, 7]"
      ]
     },
     "execution_count": 22,
     "metadata": {},
     "output_type": "execute_result"
    }
   ],
   "source": [
    "arr"
   ]
  },
  {
   "cell_type": "code",
   "execution_count": 23,
   "id": "1a560893-c3b7-45ab-b88a-7ec436dce1ec",
   "metadata": {},
   "outputs": [],
   "source": [
    "arr = np.array(arr)"
   ]
  },
  {
   "cell_type": "code",
   "execution_count": 24,
   "id": "43b2daaf-64a2-497f-8e39-01e2064896c1",
   "metadata": {},
   "outputs": [
    {
     "data": {
      "text/plain": [
       "array([1, 2, 3, 5, 2, 7])"
      ]
     },
     "execution_count": 24,
     "metadata": {},
     "output_type": "execute_result"
    }
   ],
   "source": [
    "arr"
   ]
  },
  {
   "cell_type": "code",
   "execution_count": 25,
   "id": "c8b41d67-4a05-4dcb-bc44-25c078b4fe83",
   "metadata": {},
   "outputs": [
    {
     "data": {
      "text/plain": [
       "array([0, 1, 4, 2, 3, 5])"
      ]
     },
     "execution_count": 25,
     "metadata": {},
     "output_type": "execute_result"
    }
   ],
   "source": [
    "arr.argsort()"
   ]
  },
  {
   "cell_type": "code",
   "execution_count": 27,
   "id": "d6c8d331-2893-4233-a1c0-9a8658760181",
   "metadata": {},
   "outputs": [
    {
     "data": {
      "text/plain": [
       "array([1, 2, 3, 5, 2, 7])"
      ]
     },
     "execution_count": 27,
     "metadata": {},
     "output_type": "execute_result"
    }
   ],
   "source": [
    "arr"
   ]
  },
  {
   "cell_type": "code",
   "execution_count": 28,
   "id": "ca31a030-6396-4422-8370-cde1e7f947fe",
   "metadata": {},
   "outputs": [
    {
     "name": "stdout",
     "output_type": "stream",
     "text": [
      "[1 2 3 5 2 7]\n",
      "[0 1 4 2 3 5]\n"
     ]
    }
   ],
   "source": [
    "print(arr)\n",
    "print(arr.argsort())"
   ]
  },
  {
   "cell_type": "markdown",
   "id": "d596c5f4-e5e6-4dab-a3f6-96013eff501c",
   "metadata": {},
   "source": [
    "---"
   ]
  },
  {
   "cell_type": "markdown",
   "id": "ca6c7973-b510-4cb7-aefa-31592a17ace4",
   "metadata": {},
   "source": [
    "Ok, so just doing an argsort is $O(n log n)$ and $O(1)$ space complexity.\n",
    "\n",
    "Argsort takes in a list and stores the indices of that list which would sort the array, so it's just a sort algorithm which stores the translation of input -> sorted and not the sorted array itself.\n",
    "\n",
    "Since the indices maintain order from original, we can check them for correct order (left-right position) and return the correct result as follows:"
   ]
  },
  {
   "cell_type": "code",
   "execution_count": 29,
   "id": "e9659d5a-5c4d-44c0-878a-86d4d07982b1",
   "metadata": {},
   "outputs": [],
   "source": [
    "def maxProfit(prices: list[int]) -> int:\n",
    "    L = np.array(prices)\n",
    "    L_argsorted = L.argsort()\n",
    "\n",
    "    for i, j in zip(L_argsorted, L_argsorted[::-1]):\n",
    "        if i >= j:\n",
    "            return 0\n",
    "        print(i, j)\n",
    "        "
   ]
  },
  {
   "cell_type": "code",
   "execution_count": 30,
   "id": "f956b100-9e77-448c-82bd-605fa42c1a03",
   "metadata": {},
   "outputs": [
    {
     "name": "stdout",
     "output_type": "stream",
     "text": [
      "0 5\n",
      "1 3\n",
      "4 2\n",
      "2 4\n",
      "3 1\n",
      "5 0\n"
     ]
    }
   ],
   "source": [
    "maxProfit(arr)"
   ]
  },
  {
   "cell_type": "code",
   "execution_count": 31,
   "id": "d799109d-1171-4d4c-a148-c275750e3163",
   "metadata": {},
   "outputs": [
    {
     "name": "stdout",
     "output_type": "stream",
     "text": [
      "0 (0, 7)\n",
      "1 (2, 2)\n",
      "2 (3, 5)\n",
      "3 (5, 3)\n",
      "4 (2, 2)\n",
      "5 (7, 0)\n"
     ]
    }
   ],
   "source": [
    "for i, prices in enumerate(zip(prices, prices[::-1])):\n",
    "    ...:     print(i, prices)"
   ]
  },
  {
   "cell_type": "markdown",
   "id": "913bd4ff-d129-45a1-9fe8-65905fb2a1a9",
   "metadata": {},
   "source": [
    "This is stupid, there's definitely just a way to do this in O(n) with 2 pointers like they want.\n",
    "\n",
    "Just have it start in middle and iterate outwards."
   ]
  },
  {
   "cell_type": "markdown",
   "id": "e1188df2-b522-4ac7-ad54-37d419d33046",
   "metadata": {},
   "source": [
    "----"
   ]
  },
  {
   "cell_type": "code",
   "execution_count": 23,
   "id": "328c9d34-df09-43c0-b6bb-98617fb16da1",
   "metadata": {},
   "outputs": [],
   "source": [
    "def maxProfit(prices: list[int]) -> int:\n",
    "    n = len(prices)\n",
    "    i, j = 0, 1\n",
    "    max_profit = 0\n",
    "    \n",
    "    while j < n:\n",
    "        profit = prices[j] - prices[i]\n",
    "        max_profit = max(profit, max_profit)\n",
    "        if prices[i] > prices[j]:\n",
    "            i = j\n",
    "        j += 1\n",
    "    return max_profit\n"
   ]
  },
  {
   "cell_type": "code",
   "execution_count": 24,
   "id": "5dc1ac10-19b7-4006-a151-5723dcbba38d",
   "metadata": {},
   "outputs": [
    {
     "data": {
      "text/plain": [
       "5"
      ]
     },
     "execution_count": 24,
     "metadata": {},
     "output_type": "execute_result"
    }
   ],
   "source": [
    "prices = [7,1,5,3,6,4]\n",
    "maxProfit(prices)"
   ]
  },
  {
   "cell_type": "code",
   "execution_count": null,
   "id": "120dce41-806b-4c6f-9873-bd448651c6dc",
   "metadata": {},
   "outputs": [],
   "source": []
  }
 ],
 "metadata": {
  "kernelspec": {
   "display_name": "Python 3 (ipykernel)",
   "language": "python",
   "name": "python3"
  },
  "language_info": {
   "codemirror_mode": {
    "name": "ipython",
    "version": 3
   },
   "file_extension": ".py",
   "mimetype": "text/x-python",
   "name": "python",
   "nbconvert_exporter": "python",
   "pygments_lexer": "ipython3",
   "version": "3.9.6"
  }
 },
 "nbformat": 4,
 "nbformat_minor": 5
}
