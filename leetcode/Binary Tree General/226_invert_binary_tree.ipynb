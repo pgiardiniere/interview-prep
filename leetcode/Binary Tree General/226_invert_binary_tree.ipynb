{
 "cells": [
  {
   "cell_type": "markdown",
   "id": "5ef59fef-cb38-4a63-a442-e5ea61432007",
   "metadata": {},
   "source": [
    "Given the root of a binary tree, invert the tree, and return its root."
   ]
  },
  {
   "cell_type": "code",
   "execution_count": null,
   "id": "0ab29559-197c-4dc3-80b7-ea969f5a983c",
   "metadata": {},
   "outputs": [],
   "source": [
    "# Definition for a binary tree node.\n",
    "# class TreeNode:\n",
    "#     def __init__(self, val=0, left=None, right=None):\n",
    "#         self.val = val\n",
    "#         self.left = left\n",
    "#         self.right = right\n",
    "class Solution:\n",
    "    def invertTree(self, root: Optional[TreeNode]) -> Optional[TreeNode]:\n",
    "        if not root:\n",
    "            return None\n",
    "\n",
    "        self.invertTree(root.left)\n",
    "        self.invertTree(root.right)\n",
    "        root.left, root.right = root.right, root.left\n",
    "\n",
    "        return root\n"
   ]
  }
 ],
 "metadata": {
  "kernelspec": {
   "display_name": "Python 3 (ipykernel)",
   "language": "python",
   "name": "python3"
  },
  "language_info": {
   "codemirror_mode": {
    "name": "ipython",
    "version": 3
   },
   "file_extension": ".py",
   "mimetype": "text/x-python",
   "name": "python",
   "nbconvert_exporter": "python",
   "pygments_lexer": "ipython3",
   "version": "3.10.6"
  }
 },
 "nbformat": 4,
 "nbformat_minor": 5
}
