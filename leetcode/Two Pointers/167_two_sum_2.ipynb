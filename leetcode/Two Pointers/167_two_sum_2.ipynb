{
 "cells": [
  {
   "cell_type": "markdown",
   "metadata": {},
   "source": [
    "Given a 1-indexed array of integers numbers that is already sorted in non-decreasing order, find two numbers such that they add up to a specific target number. Let these two numbers be numbers[index1] and numbers[index2] where 1 <= index1 < index2 < numbers.length.\n",
    "\n",
    "Return the indices of the two numbers, index1 and index2, added by one as an integer array [index1, index2] of length 2.\n",
    "\n",
    "The tests are generated such that there is exactly one solution. You may not use the same element twice.\n",
    "\n",
    "Your solution must use only constant extra space."
   ]
  },
  {
   "cell_type": "code",
   "execution_count": null,
   "metadata": {
    "vscode": {
     "languageId": "plaintext"
    }
   },
   "outputs": [],
   "source": [
    "class Solution:\n",
    "    def twoSum(self, L: List[int], y: int) -> List[int]:\n",
    "        n = len(L)\n",
    "        i, j = 0, n - 1\n",
    "\n",
    "        while i < j:\n",
    "            if L[i] + L[j] == y:\n",
    "                return [i+1, j+1]\n",
    "\n",
    "            complement = y - L[i]\n",
    "            if complement > L[j]:\n",
    "                i += 1\n",
    "\n",
    "            complement = y - L[j]\n",
    "            if complement < L[i]:\n",
    "                j -= 1\n"
   ]
  }
 ],
 "metadata": {
  "language_info": {
   "name": "python"
  }
 },
 "nbformat": 4,
 "nbformat_minor": 2
}
