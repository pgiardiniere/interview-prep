{
 "cells": [
  {
   "cell_type": "markdown",
   "id": "4f20c652-ff83-4609-a6a2-60b20ec5b188",
   "metadata": {},
   "source": [
    "Given two strings `s` and `t`, return `true` if `s` is a subsequence of `t`, or `false` otherwise.\n",
    "\n",
    "A subsequence of a string is a new string that is formed from the original string by deleting some (can be none) of the characters without disturbing the relative positions of the remaining characters. (i.e., \"ace\" is a subsequence of \"abcde\" while \"aec\" is not)."
   ]
  },
  {
   "cell_type": "code",
   "execution_count": 11,
   "id": "a6c11c63-d943-4b52-a7dc-b5da2718d760",
   "metadata": {},
   "outputs": [],
   "source": [
    "def isSubsequence(s: str, t: str) -> bool:\n",
    "    i, j = 0, 0\n",
    "    m, n = len(s), len(t)\n",
    "\n",
    "    while i < m and j < n:\n",
    "        print(f\"{i},{j}\")\n",
    "        if s[i] == t[j]:\n",
    "            i += 1\n",
    "        j += 1\n",
    "\n",
    "    return True if i == m else False\n"
   ]
  },
  {
   "cell_type": "code",
   "execution_count": 12,
   "id": "611c8bde-79d3-4e51-bee0-cd9a33e02712",
   "metadata": {},
   "outputs": [
    {
     "name": "stdout",
     "output_type": "stream",
     "text": [
      "0,0\n",
      "1,1\n",
      "1,2\n",
      "2,3\n",
      "2,4\n",
      "2,5\n"
     ]
    },
    {
     "data": {
      "text/plain": [
       "True"
      ]
     },
     "execution_count": 12,
     "metadata": {},
     "output_type": "execute_result"
    }
   ],
   "source": [
    "isSubsequence(\"abc\", \"ahbgdc\")"
   ]
  },
  {
   "cell_type": "code",
   "execution_count": 13,
   "id": "87376868-21ff-488a-9dd3-24e640c425e6",
   "metadata": {},
   "outputs": [
    {
     "name": "stdout",
     "output_type": "stream",
     "text": [
      "0,0\n",
      "1,1\n",
      "1,2\n",
      "1,3\n",
      "1,4\n",
      "1,5\n"
     ]
    },
    {
     "data": {
      "text/plain": [
       "False"
      ]
     },
     "execution_count": 13,
     "metadata": {},
     "output_type": "execute_result"
    }
   ],
   "source": [
    "isSubsequence(\"axc\", \"ahbgdc\")"
   ]
  },
  {
   "cell_type": "markdown",
   "id": "45bb024a-b20c-4455-9e31-5689f99da214",
   "metadata": {},
   "source": [
    "And here's the final version:"
   ]
  },
  {
   "cell_type": "code",
   "execution_count": 15,
   "id": "942e6dde-0a76-4113-8403-752944d123f2",
   "metadata": {},
   "outputs": [],
   "source": [
    "class Solution:\n",
    "    def isSubsequence(self, s: str, t: str) -> bool:\n",
    "        i, j = 0, 0\n",
    "\n",
    "        while i < len(s) and j < len(t):\n",
    "            if s[i] == t[j]:\n",
    "                i += 1\n",
    "            j += 1\n",
    "\n",
    "        return True if i == len(s) else False\n"
   ]
  },
  {
   "cell_type": "markdown",
   "id": "4a138f77-213c-4798-b7aa-1892be13155a",
   "metadata": {},
   "source": [
    "m = len(s), n = len(t)\n",
    "\n",
    "This algorithm runs in $O(n)$ time, as it takes one linear probe through the larger string to determine if it contains the desired subsequence. $O(1)$ space as we just need a few variables for an input of any size."
   ]
  },
  {
   "cell_type": "markdown",
   "id": "74cbf7f3-6457-4fbb-94b7-5a4837225465",
   "metadata": {},
   "source": [
    "May be easier to see with complete checks:"
   ]
  },
  {
   "cell_type": "code",
   "execution_count": 16,
   "id": "b3fbfa06-9c31-46cc-b7a0-a47fc53b1743",
   "metadata": {},
   "outputs": [],
   "source": [
    "class Solution:\n",
    "    def isSubsequence(self, s: str, t: str) -> bool:\n",
    "        if len(s) > len(t):\n",
    "            return False\n",
    "        if len(s) == 0:\n",
    "            return True\n",
    "        \n",
    "        i, j = 0, 0\n",
    "\n",
    "        while i < len(s) and j < len(t):\n",
    "            if s[i] == t[j]:\n",
    "                i += 1\n",
    "            j += 1\n",
    "\n",
    "        return True if i == len(s) else False"
   ]
  }
 ],
 "metadata": {
  "kernelspec": {
   "display_name": "Python 3 (ipykernel)",
   "language": "python",
   "name": "python3"
  },
  "language_info": {
   "codemirror_mode": {
    "name": "ipython",
    "version": 3
   },
   "file_extension": ".py",
   "mimetype": "text/x-python",
   "name": "python",
   "nbconvert_exporter": "python",
   "pygments_lexer": "ipython3",
   "version": "3.9.6"
  }
 },
 "nbformat": 4,
 "nbformat_minor": 5
}
