{
 "cells": [
  {
   "cell_type": "markdown",
   "id": "00c7628e-d09b-4142-a383-21c795856a92",
   "metadata": {},
   "source": [
    "Given a pattern and a string s, find if s follows the same pattern.\n",
    "\n",
    "Here follow means a full match, such that there is a bijection between a letter in pattern and a non-empty word in s."
   ]
  },
  {
   "cell_type": "code",
   "execution_count": 1,
   "id": "d2785fd6-a5c9-4810-87d9-899edb96d6ba",
   "metadata": {},
   "outputs": [],
   "source": [
    "class Solution:\n",
    "    def wordPattern(self, pattern: str, s: str) -> bool:\n",
    "        lp = [c for c in pattern]\n",
    "        ls = [word for word in s.split()]\n",
    "\n",
    "        dp = {}\n",
    "        ds = {}\n",
    "\n",
    "        # Need to check two directions:\n",
    "        # Direction 1:  Mapping from char to word\n",
    "        for i, c in enumerate(lp):\n",
    "            if c not in dp:\n",
    "                if i > len(ls) - 1 or ls[i] in dp.items():\n",
    "                    return False\n",
    "                dp[c] = ls[i]\n",
    "            else:\n",
    "                if dp[c] != ls[i]:\n",
    "                    return False\n",
    "\n",
    "        # Direction 2: Mapping from word to char.\n",
    "        for i, word in enumerate(ls):\n",
    "            if word not in ds:\n",
    "                if lp[i] in ds.items():\n",
    "                    return False\n",
    "                ds[word] = lp[i]\n",
    "            else:\n",
    "                if i > len(lp) - 1 or ds[word] != lp[i]:\n",
    "                    return False\n",
    "\n",
    "        return True\n"
   ]
  }
 ],
 "metadata": {
  "kernelspec": {
   "display_name": "Python 3 (ipykernel)",
   "language": "python",
   "name": "python3"
  },
  "language_info": {
   "codemirror_mode": {
    "name": "ipython",
    "version": 3
   },
   "file_extension": ".py",
   "mimetype": "text/x-python",
   "name": "python",
   "nbconvert_exporter": "python",
   "pygments_lexer": "ipython3",
   "version": "3.9.6"
  }
 },
 "nbformat": 4,
 "nbformat_minor": 5
}
