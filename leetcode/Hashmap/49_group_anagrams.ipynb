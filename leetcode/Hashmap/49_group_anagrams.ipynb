{
 "cells": [
  {
   "cell_type": "markdown",
   "id": "fec61640-c9e4-4077-9b84-376618d59dd9",
   "metadata": {},
   "source": [
    "Given an array of strings `strs`, group the anagrams together. You can return the answer in any order.\n",
    "\n",
    "An Anagram is a word or phrase formed by rearranging the letters of a different word or phrase, typically using all the original letters exactly once."
   ]
  },
  {
   "cell_type": "code",
   "execution_count": 35,
   "id": "5992e4a1-cded-4026-a1e7-de6deeba2e28",
   "metadata": {},
   "outputs": [],
   "source": [
    "from collections import defaultdict\n",
    "from typing import List\n",
    "\n",
    "class Solution:\n",
    "    def groupAnagrams(self, strs: List[str]) -> List[List[str]]:\n",
    "        anagramFinder = defaultdict(list)\n",
    "\n",
    "        for word in strs:\n",
    "            key = ''.join(sorted(word))\n",
    "            anagramFinder[key].append(word)\n",
    "\n",
    "        answer = anagramFinder.values()\n",
    "        return answer\n"
   ]
  },
  {
   "cell_type": "markdown",
   "id": "03db8a85-3934-4f12-8f0e-5cfd9801777f",
   "metadata": {},
   "source": [
    "-----\n",
    "## Scratch Work"
   ]
  },
  {
   "cell_type": "code",
   "execution_count": 13,
   "id": "48cb83de-f182-487a-93c4-f7d0c1080df4",
   "metadata": {},
   "outputs": [
    {
     "data": {
      "text/plain": [
       "defaultdict(list, {})"
      ]
     },
     "execution_count": 13,
     "metadata": {},
     "output_type": "execute_result"
    }
   ],
   "source": [
    "# Default dictionaries:\n",
    "from collections import defaultdict\n",
    "\n",
    "d = defaultdict(list)\n",
    "\n",
    "d"
   ]
  },
  {
   "cell_type": "code",
   "execution_count": 14,
   "id": "786109a2-7ca4-443f-b399-af3a863abdd1",
   "metadata": {},
   "outputs": [
    {
     "data": {
      "text/plain": [
       "defaultdict(list, {})"
      ]
     },
     "execution_count": 14,
     "metadata": {},
     "output_type": "execute_result"
    }
   ],
   "source": [
    "d"
   ]
  },
  {
   "cell_type": "code",
   "execution_count": 15,
   "id": "3e2e7d16-8a66-4ce3-89df-d83ebdc35c33",
   "metadata": {},
   "outputs": [
    {
     "ename": "TypeError",
     "evalue": "unhashable type: 'list'",
     "output_type": "error",
     "traceback": [
      "\u001b[1;31m---------------------------------------------------------------------------\u001b[0m",
      "\u001b[1;31mTypeError\u001b[0m                                 Traceback (most recent call last)",
      "Cell \u001b[1;32mIn[15], line 1\u001b[0m\n\u001b[1;32m----> 1\u001b[0m \u001b[43md\u001b[49m\u001b[43m[\u001b[49m\u001b[43m[\u001b[49m\u001b[38;5;124;43m\"\u001b[39;49m\u001b[38;5;124;43mlmao\u001b[39;49m\u001b[38;5;124;43m\"\u001b[39;49m\u001b[43m]\u001b[49m\u001b[43m]\u001b[49m \u001b[38;5;241m=\u001b[39m \u001b[38;5;124m\"\u001b[39m\u001b[38;5;124mwhat\u001b[39m\u001b[38;5;124m\"\u001b[39m\n",
      "\u001b[1;31mTypeError\u001b[0m: unhashable type: 'list'"
     ]
    }
   ],
   "source": [
    "d[[\"lmao\"]] = \"what\""
   ]
  },
  {
   "cell_type": "code",
   "execution_count": 16,
   "id": "20814d97-ae54-478f-b660-ca9efabf0497",
   "metadata": {},
   "outputs": [
    {
     "data": {
      "text/plain": [
       "defaultdict(list, {})"
      ]
     },
     "execution_count": 16,
     "metadata": {},
     "output_type": "execute_result"
    }
   ],
   "source": [
    "d"
   ]
  },
  {
   "cell_type": "code",
   "execution_count": 32,
   "id": "0100b575-ad39-4652-a23a-47eb9b5819fa",
   "metadata": {},
   "outputs": [],
   "source": [
    "d[\"iight\"] = \"ok\"\n"
   ]
  },
  {
   "cell_type": "code",
   "execution_count": 33,
   "id": "1d3f6783-7698-4992-bccc-a1808cc4c8d1",
   "metadata": {},
   "outputs": [
    {
     "data": {
      "text/plain": [
       "defaultdict(list, {'lmao': 'ok', 'iight': 'ok'})"
      ]
     },
     "execution_count": 33,
     "metadata": {},
     "output_type": "execute_result"
    }
   ],
   "source": [
    "d"
   ]
  },
  {
   "cell_type": "code",
   "execution_count": 19,
   "id": "92c0f153-6173-416e-b914-9dda91ad5250",
   "metadata": {},
   "outputs": [],
   "source": [
    "strs = [\"are\", \"bat\", \"ear\", \"code\", 'tab', 'era']"
   ]
  },
  {
   "cell_type": "code",
   "execution_count": 31,
   "id": "996097a1-f3cc-44f2-afc7-bfa5436fe416",
   "metadata": {},
   "outputs": [
    {
     "name": "stdout",
     "output_type": "stream",
     "text": [
      "key=aer, type(key)=<class 'str'>\n",
      "dict_keys(['aer']), dict_values([['are']])\n",
      "key=abt, type(key)=<class 'str'>\n",
      "dict_keys(['aer', 'abt']), dict_values([['are'], ['bat']])\n",
      "key=aer, type(key)=<class 'str'>\n",
      "dict_keys(['aer', 'abt']), dict_values([['are', 'ear'], ['bat']])\n",
      "key=cdeo, type(key)=<class 'str'>\n",
      "dict_keys(['aer', 'abt', 'cdeo']), dict_values([['are', 'ear'], ['bat'], ['code']])\n",
      "key=abt, type(key)=<class 'str'>\n",
      "dict_keys(['aer', 'abt', 'cdeo']), dict_values([['are', 'ear'], ['bat', 'tab'], ['code']])\n",
      "key=aer, type(key)=<class 'str'>\n",
      "dict_keys(['aer', 'abt', 'cdeo']), dict_values([['are', 'ear', 'era'], ['bat', 'tab'], ['code']])\n"
     ]
    }
   ],
   "source": [
    "ans = defaultdict(list)\n",
    "for s in strs:\n",
    "    key = \"\".join(sorted(s))\n",
    "    print(f'key={key}, type(key)={type(key)}')\n",
    "    ans[key].append(s)\n",
    "    print(f'{ans.keys()}, {ans.values()}')"
   ]
  },
  {
   "cell_type": "code",
   "execution_count": null,
   "id": "a517cd5f-b993-4b52-8ae8-c38bde6a7a08",
   "metadata": {},
   "outputs": [],
   "source": []
  }
 ],
 "metadata": {
  "kernelspec": {
   "display_name": "Python 3 (ipykernel)",
   "language": "python",
   "name": "python3"
  },
  "language_info": {
   "codemirror_mode": {
    "name": "ipython",
    "version": 3
   },
   "file_extension": ".py",
   "mimetype": "text/x-python",
   "name": "python",
   "nbconvert_exporter": "python",
   "pygments_lexer": "ipython3",
   "version": "3.10.6"
  }
 },
 "nbformat": 4,
 "nbformat_minor": 5
}
