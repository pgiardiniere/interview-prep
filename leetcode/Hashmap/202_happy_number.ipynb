{
 "cells": [
  {
   "cell_type": "markdown",
   "id": "df10098b-6de5-4391-9119-6de9eaee9fc8",
   "metadata": {},
   "source": [
    "Write an algorithm to determine if a number `n` is **happy**.\n",
    "\n",
    "A happy number is a number defined by the following process:\n",
    "\n",
    "* Starting with any positive integer, replace the number by the sum of the squares of its digits.\n",
    "* Repeat the process until the number equals 1 (where it will stay), or it loops endlessly in a cycle which does not include 1.\n",
    "* Those numbers for which this process ends in 1 are happy.\n",
    "\n",
    "Return `true` if `n` is a happy number, and `false` if not."
   ]
  },
  {
   "cell_type": "code",
   "execution_count": null,
   "id": "55dffe8a-fdb8-457a-b16b-6524f08babeb",
   "metadata": {},
   "outputs": [],
   "source": [
    "class Solution:\n",
    "    def constructDigitsList(self, n: int) -> list:\n",
    "        digits = []\n",
    "        while n // 10 > 0:\n",
    "            temp = n % 10\n",
    "            digits.append(n % 10)\n",
    "            n //= 10\n",
    "        digits.append(n % 10)\n",
    "        digits = digits[::-1]\n",
    "        return digits\n",
    "\n",
    "    def isHappy(self, n: int) -> bool:\n",
    "        past_results = {}\n",
    "\n",
    "        # Now, operate on that digits list. If a result is in past_results,\n",
    "        # probably we have entered a cycle, and need to declare number not-happy\n",
    "        # \n",
    "        # (although likely a more correct solution is to detect the cycle, not\n",
    "        # assume it)\n",
    "\n",
    "        return"
   ]
  }
 ],
 "metadata": {
  "kernelspec": {
   "display_name": "Python 3 (ipykernel)",
   "language": "python",
   "name": "python3"
  },
  "language_info": {
   "codemirror_mode": {
    "name": "ipython",
    "version": 3
   },
   "file_extension": ".py",
   "mimetype": "text/x-python",
   "name": "python",
   "nbconvert_exporter": "python",
   "pygments_lexer": "ipython3",
   "version": "3.10.6"
  }
 },
 "nbformat": 4,
 "nbformat_minor": 5
}
