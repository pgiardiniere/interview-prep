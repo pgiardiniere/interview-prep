{
 "cells": [
  {
   "cell_type": "markdown",
   "metadata": {},
   "source": [
    "Given two strings s and t, determine if they are isomorphic.\n",
    "\n",
    "Two strings s and t are isomorphic if the characters in s can be replaced to get t.\n",
    "\n",
    "All occurrences of a character must be replaced with another character while preserving the order of characters. No two characters may map to the same character, but a character may map to itself."
   ]
  },
  {
   "cell_type": "code",
   "execution_count": null,
   "metadata": {},
   "outputs": [],
   "source": [
    "class Solution:\n",
    "    def isIsomorphic(self, s: str, t: str) -> bool:\n",
    "        if len(s) != len(t):\n",
    "            return False\n",
    "        sd = {}\n",
    "        st = {}\n",
    "\n",
    "        for i, c in enumerate(s):\n",
    "            if c in sd:\n",
    "                sd[c].append(i)\n",
    "            else:\n",
    "                sd[c] = [i]\n",
    "\n",
    "        for i, c in enumerate(t):\n",
    "            if c in st:\n",
    "                st[c].append(i)\n",
    "            else:\n",
    "                st[c] = [i]\n",
    "        \n",
    "        st_lists = list(st.values())\n",
    "        print(st_lists)\n",
    "        for i, sd_vals in enumerate(sd.values()):\n",
    "            if st_lists[i] != sd_vals:\n",
    "                return False\n",
    "        return True"
   ]
  },
  {
   "cell_type": "markdown",
   "metadata": {},
   "source": [
    "There is definitely a much more optimal solution than this though"
   ]
  },
  {
   "cell_type": "markdown",
   "metadata": {},
   "source": []
  }
 ],
 "metadata": {
  "language_info": {
   "name": "python"
  }
 },
 "nbformat": 4,
 "nbformat_minor": 2
}
