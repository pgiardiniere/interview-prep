{
 "cells": [
  {
   "cell_type": "markdown",
   "id": "4ffc340f-1a98-4010-9e2e-b6e3e6cd754a",
   "metadata": {},
   "source": [
    "# 28:  Find the Index of the First Occurrence in a String\n",
    "\n",
    "Given two strings `needle` and `haystack`, return the index of the first occurrence of needle in haystack, or $-1$ if `needle` is not part of `haystack`."
   ]
  },
  {
   "cell_type": "code",
   "execution_count": 8,
   "id": "fc1bb486-c8e8-430e-b027-afebdde22baf",
   "metadata": {},
   "outputs": [],
   "source": [
    "def strStr(haystack: str, needle: str) -> int:\n",
    "    m = len(haystack)\n",
    "    n = len(needle)\n",
    "    \n",
    "    for i in range(m - n + 1):\n",
    "        if haystack[i: i+n] == needle:\n",
    "            print(f\"found at {i}\")\n",
    "            return i\n",
    "    return -1"
   ]
  },
  {
   "cell_type": "code",
   "execution_count": 9,
   "id": "e15198eb-b8a0-4c92-a566-0eaecc599fc6",
   "metadata": {},
   "outputs": [
    {
     "name": "stdout",
     "output_type": "stream",
     "text": [
      "found at 0\n"
     ]
    },
    {
     "data": {
      "text/plain": [
       "0"
      ]
     },
     "execution_count": 9,
     "metadata": {},
     "output_type": "execute_result"
    }
   ],
   "source": [
    "haystack = \"sadbutsad\"\n",
    "needle = \"sad\"\n",
    "strStr(haystack, needle)"
   ]
  },
  {
   "cell_type": "code",
   "execution_count": 10,
   "id": "d438c34f-4fd6-4410-98a8-a7c57f7f64a2",
   "metadata": {},
   "outputs": [
    {
     "data": {
      "text/plain": [
       "-1"
      ]
     },
     "execution_count": 10,
     "metadata": {},
     "output_type": "execute_result"
    }
   ],
   "source": [
    "strStr(\"leetcode\", \"leeto\")"
   ]
  },
  {
   "cell_type": "markdown",
   "id": "3575a6bc-327f-4ef2-84a2-e46589a7015c",
   "metadata": {},
   "source": [
    "Ok, so my initial solution was 99.67 percentile runtime for python3 users, which seems incredibly good. "
   ]
  },
  {
   "cell_type": "markdown",
   "id": "8841ac9e-8dec-4a32-9953-08c2e4c44926",
   "metadata": {},
   "source": [
    "This must be O(n) runtime then."
   ]
  },
  {
   "cell_type": "code",
   "execution_count": null,
   "id": "63557fd9-e781-41f2-ab4b-ef08e175d023",
   "metadata": {},
   "outputs": [],
   "source": []
  }
 ],
 "metadata": {
  "kernelspec": {
   "display_name": "Python 3 (ipykernel)",
   "language": "python",
   "name": "python3"
  },
  "language_info": {
   "codemirror_mode": {
    "name": "ipython",
    "version": 3
   },
   "file_extension": ".py",
   "mimetype": "text/x-python",
   "name": "python",
   "nbconvert_exporter": "python",
   "pygments_lexer": "ipython3",
   "version": "3.10.6"
  }
 },
 "nbformat": 4,
 "nbformat_minor": 5
}
