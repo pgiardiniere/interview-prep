{
 "cells": [
  {
   "cell_type": "markdown",
   "id": "457c7cca-4953-4419-b44b-422b2dfd0a60",
   "metadata": {},
   "source": [
    "Given `head`, the head of a linked list, determine if the linked list has a cycle in it.\n",
    "\n",
    "There is a cycle in a linked list if there is some node in the list that can be reached again by continuously following the `next` pointer. Internally, `pos` is used to denote the index of the node that tail's `next` pointer is connected to. _Note that pos is not passed as a parameter._\n",
    "\n",
    "Return true if there is a cycle in the linked list. Otherwise, return false."
   ]
  },
  {
   "cell_type": "code",
   "execution_count": 2,
   "id": "901dedf5-f9a4-4c8f-9055-46a5c63b06e2",
   "metadata": {},
   "outputs": [],
   "source": [
    "from typing import Optional\n",
    "\n",
    "# Definition for singly-linked list.\n",
    "class ListNode:\n",
    "    def __init__(self, x):\n",
    "        self.val = x\n",
    "        self.next = None\n",
    "\n",
    "def hasCycle(head: Optional[ListNode]) -> bool:\n",
    "    pass\n"
   ]
  },
  {
   "cell_type": "code",
   "execution_count": 3,
   "id": "043bb6bb-b61a-401b-a5bf-824d21640b90",
   "metadata": {},
   "outputs": [],
   "source": [
    "ll = ListNode(24)"
   ]
  },
  {
   "cell_type": "code",
   "execution_count": 4,
   "id": "6646008b-0150-44b2-b5cc-ea9e7aaa0e6f",
   "metadata": {},
   "outputs": [
    {
     "data": {
      "text/plain": [
       "<__main__.ListNode at 0x119e9b4f0>"
      ]
     },
     "execution_count": 4,
     "metadata": {},
     "output_type": "execute_result"
    }
   ],
   "source": [
    "ll"
   ]
  },
  {
   "cell_type": "code",
   "execution_count": 5,
   "id": "1a33569d-a445-4369-9ec2-7ff8d07295b3",
   "metadata": {},
   "outputs": [],
   "source": [
    "ll.next = ListNode(25)"
   ]
  },
  {
   "cell_type": "code",
   "execution_count": 6,
   "id": "3b1f7959-51b1-45e3-94ea-6328098f3c5f",
   "metadata": {},
   "outputs": [
    {
     "data": {
      "text/plain": [
       "<__main__.ListNode at 0x119e9b4f0>"
      ]
     },
     "execution_count": 6,
     "metadata": {},
     "output_type": "execute_result"
    }
   ],
   "source": [
    "ll"
   ]
  },
  {
   "cell_type": "code",
   "execution_count": 7,
   "id": "e7c04f2a-b6c5-4aa8-9008-0d08658bca00",
   "metadata": {},
   "outputs": [
    {
     "data": {
      "text/plain": [
       "24"
      ]
     },
     "execution_count": 7,
     "metadata": {},
     "output_type": "execute_result"
    }
   ],
   "source": [
    "ll.val"
   ]
  },
  {
   "cell_type": "code",
   "execution_count": 8,
   "id": "dead7c17-bd1e-4166-bc28-9d8b23b5ced5",
   "metadata": {},
   "outputs": [
    {
     "data": {
      "text/plain": [
       "25"
      ]
     },
     "execution_count": 8,
     "metadata": {},
     "output_type": "execute_result"
    }
   ],
   "source": [
    "ll.next.val"
   ]
  },
  {
   "cell_type": "markdown",
   "id": "81630682-66a5-4c88-8ee5-ce6c239c46c5",
   "metadata": {},
   "source": [
    "---"
   ]
  },
  {
   "cell_type": "markdown",
   "id": "0a40cbc6-f219-4db9-bfa5-9e119292837a",
   "metadata": {},
   "source": [
    "My first thought is, you can store a list of ListNodes previously visited.\n",
    "\n",
    "On each iteration, you add a new ListNode to the list of visited.\n",
    "\n",
    "O(something) time complexity, O(n) space complexity (have to store 2nd intermediate list of ListNodes).\n",
    "\n",
    "Problem is, for 1 iteration forward in the list, you have up-to `n` checks in 2nd list, so this is $O(n^2)$ time complexity and $O(n)$ space complexity, which isn't very good."
   ]
  },
  {
   "cell_type": "markdown",
   "id": "ef82a14d-c78b-4c33-9435-ec20d6f0c0c8",
   "metadata": {},
   "source": [
    "---"
   ]
  },
  {
   "cell_type": "markdown",
   "id": "60b5a1c8-579a-498a-ad9b-095e9c67068f",
   "metadata": {},
   "source": [
    "### Better idea: \n",
    "A (simple) version of Floyd's Cycle Finding Algorithm. We are not concerned with the exact node the cycle begins at, so we need only the first part of the algorithm, which determines if a cycle occurs and returns a bool accordingly."
   ]
  },
  {
   "cell_type": "markdown",
   "id": "42bff884-893f-41f5-a185-c2f4e7a3429f",
   "metadata": {},
   "source": [
    "Insight: IF a cycle occurs, then using a pointer which iterates at exact `2x` the speed of another pointer will result in one of two outcomes:\n",
    "* fast pointer gets to Null (no cycles)\n",
    "* fast pointer and slow pointer are at same node within cycle\n",
    "\n",
    "$\\mu$ is the initial index of the cycle\n",
    "$\\lambda$ is the length of the cycle\n",
    "\n",
    "The algorithm runs in $O(\\mu + \\lambda)$ time, and $O(\\mu + \\lambda) \\in O(n + n) = O(2n) \\in O(n)$ and requires $O(1)$ space."
   ]
  },
  {
   "cell_type": "code",
   "execution_count": 31,
   "id": "83d9d112-26d1-4956-9ed3-0b344bcf9ca7",
   "metadata": {},
   "outputs": [],
   "source": [
    "from typing import Optional\n",
    "\n",
    "# Definition for singly-linked list.\n",
    "class ListNode:\n",
    "    def __init__(self, x):\n",
    "        self.val = x\n",
    "        self.next = None\n",
    "\n",
    "def hasCycle(head: Optional[ListNode]) -> bool:\n",
    "    if not head:\n",
    "        return false\n",
    "    fast = head\n",
    "    slow = head\n",
    "\n",
    "    # find the cycle if it exists, & if no cycle return false.\n",
    "    while fast.next and fast.next.next:\n",
    "        fast = fast.next.next\n",
    "        slow = slow.next\n",
    "        if fast is slow:\n",
    "            return True\n",
    "    return False\n"
   ]
  },
  {
   "cell_type": "markdown",
   "id": "aff9d839-8715-449d-9c90-ab48762b936c",
   "metadata": {},
   "source": [
    "*for simplicity, I only tested on leetcode. solution is optimal (87 percentile runtime 97 percentile mem)*"
   ]
  }
 ],
 "metadata": {
  "kernelspec": {
   "display_name": "Python 3 (ipykernel)",
   "language": "python",
   "name": "python3"
  },
  "language_info": {
   "codemirror_mode": {
    "name": "ipython",
    "version": 3
   },
   "file_extension": ".py",
   "mimetype": "text/x-python",
   "name": "python",
   "nbconvert_exporter": "python",
   "pygments_lexer": "ipython3",
   "version": "3.9.6"
  }
 },
 "nbformat": 4,
 "nbformat_minor": 5
}
