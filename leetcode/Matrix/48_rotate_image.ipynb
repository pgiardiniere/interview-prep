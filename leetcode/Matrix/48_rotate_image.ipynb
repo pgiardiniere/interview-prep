{
 "cells": [
  {
   "cell_type": "markdown",
   "id": "13b95c9a-c4b2-47da-af73-e1f075fb66e1",
   "metadata": {},
   "source": [
    "You are given an `n x n` 2D matrix representing an image, rotate the image by 90 degrees (clockwise).\n",
    "\n",
    "You have to rotate the image in-place, which means you have to modify the input 2D matrix directly. DO NOT allocate another 2D matrix and do the rotation."
   ]
  },
  {
   "cell_type": "markdown",
   "id": "b8979950-ee77-4704-b961-a628bc0bd66c",
   "metadata": {},
   "source": [
    "Answer: You can take the transpose and then column-wise swap initial and final columns into the center"
   ]
  },
  {
   "cell_type": "code",
   "execution_count": 1,
   "id": "f313dca8-0ac5-41f1-8259-7b0c5f932590",
   "metadata": {},
   "outputs": [
    {
     "name": "stdout",
     "output_type": "stream",
     "text": [
      "[1, 4, 7]\n",
      "[2, 5, 8]\n",
      "[3, 6, 9]\n"
     ]
    }
   ],
   "source": [
    "def transpose_in_place(matrix):\n",
    "    rows = len(matrix)\n",
    "    cols = len(matrix[0])\n",
    "    \n",
    "    for i in range(rows):\n",
    "        for j in range(i + 1, cols):\n",
    "            matrix[i][j], matrix[j][i] = matrix[j][i], matrix[i][j]\n",
    "\n",
    "# Example matrix\n",
    "matrix = [\n",
    "    [1, 2, 3],\n",
    "    [4, 5, 6],\n",
    "    [7, 8, 9]\n",
    "]\n",
    "\n",
    "transpose_in_place(matrix)\n",
    "for row in matrix:\n",
    "    print(row)"
   ]
  },
  {
   "cell_type": "markdown",
   "id": "bed4f8ca-42da-4dab-afbf-e40978f466a8",
   "metadata": {},
   "source": [
    "Now we just need swap col 3 with col 1:"
   ]
  },
  {
   "cell_type": "code",
   "execution_count": 5,
   "id": "f84ed78a-b26b-40fe-8e0d-91feca814623",
   "metadata": {
    "scrolled": true
   },
   "outputs": [
    {
     "name": "stdout",
     "output_type": "stream",
     "text": [
      "[1, 4, 7]\n",
      "[2, 5, 8]\n",
      "[3, 6, 9]\n"
     ]
    }
   ],
   "source": [
    "for row in matrix:\n",
    "    print(row)"
   ]
  },
  {
   "cell_type": "code",
   "execution_count": 6,
   "id": "d3aff899-6b9b-4aef-ab88-f331a10bf35d",
   "metadata": {},
   "outputs": [
    {
     "data": {
      "text/plain": [
       "[1, 4, 7]"
      ]
     },
     "execution_count": 6,
     "metadata": {},
     "output_type": "execute_result"
    }
   ],
   "source": [
    "matrix[0]"
   ]
  },
  {
   "cell_type": "markdown",
   "id": "d8b1c219-a661-4097-ac00-f653e6bc4e43",
   "metadata": {},
   "source": [
    "We don't have fancy indexing with np available to us, so we have to do it the hard way"
   ]
  },
  {
   "cell_type": "code",
   "execution_count": 14,
   "id": "5501fc07-7e7c-44f0-beaf-1186a619d6d9",
   "metadata": {},
   "outputs": [
    {
     "name": "stdout",
     "output_type": "stream",
     "text": [
      "[7, 4, 1]\n",
      "[8, 5, 2]\n",
      "[9, 6, 3]\n"
     ]
    }
   ],
   "source": [
    "def rotate_matrix(matrix):\n",
    "    rows = len(matrix)\n",
    "    cols = len(matrix[0])\n",
    "    \n",
    "    # Take the transpose of the matrix\n",
    "    for i in range(rows):\n",
    "        for j in range(i + 1, cols):\n",
    "            matrix[i][j], matrix[j][i] = matrix[j][i], matrix[i][j]\n",
    "    \n",
    "    # Flip the matrix horizontally\n",
    "    for i in range(rows):\n",
    "        matrix[i] = matrix[i][::-1]\n",
    "\n",
    "# Example matrix\n",
    "matrix = [\n",
    "    [1, 2, 3],\n",
    "    [4, 5, 6],\n",
    "    [7, 8, 9]\n",
    "]\n",
    "\n",
    "rotate_matrix(matrix)\n",
    "for row in matrix:\n",
    "    print(row)"
   ]
  }
 ],
 "metadata": {
  "kernelspec": {
   "display_name": "Python 3 (ipykernel)",
   "language": "python",
   "name": "python3"
  },
  "language_info": {
   "codemirror_mode": {
    "name": "ipython",
    "version": 3
   },
   "file_extension": ".py",
   "mimetype": "text/x-python",
   "name": "python",
   "nbconvert_exporter": "python",
   "pygments_lexer": "ipython3",
   "version": "3.10.6"
  }
 },
 "nbformat": 4,
 "nbformat_minor": 5
}
