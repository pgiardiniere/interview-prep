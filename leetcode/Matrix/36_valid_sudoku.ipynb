{
 "cells": [
  {
   "cell_type": "markdown",
   "id": "ebed5d77-42ea-4a40-afa2-73d288f1eb46",
   "metadata": {},
   "source": [
    "Determine if a 9 x 9 Sudoku board is valid. Only the filled cells need to be validated according to the following rules:\n",
    "\n",
    "1. Each row must contain the digits 1-9 without repetition.\n",
    "2. Each column must contain the digits 1-9 without repetition.\n",
    "3. Each of the nine 3 x 3 sub-boxes of the grid must contain the digits 1-9 without repetition.\n",
    "\n",
    "Note:\n",
    "\n",
    "* A Sudoku board (partially filled) could be valid but is not necessarily solvable.\n",
    "* Only the filled cells need to be validated according to the mentioned rules.\n"
   ]
  },
  {
   "cell_type": "code",
   "execution_count": null,
   "id": "da96809b-e610-48d0-bb73-a0237eebaff9",
   "metadata": {},
   "outputs": [],
   "source": [
    "class Solution:\n",
    "    def isValidSudoku(self, board: List[List[str]]) -> bool:\n",
    "        def hasDuplicates(vals):\n",
    "            seen = set()\n",
    "            for val in vals:\n",
    "                if val != '.' and val in seen:\n",
    "                    return True\n",
    "                seen.add(val)\n",
    "            return False\n",
    "\n",
    "        # Check each row\n",
    "        for row in board:\n",
    "            if hasDuplicates(row):\n",
    "                return False\n",
    "   \n",
    "        # Check each col\n",
    "        for col in list(zip(*board)):\n",
    "            if hasDuplicates(col):\n",
    "                return False\n",
    "\n",
    "        # Check each subgrid\n",
    "        for i in range(0, 9, 3):\n",
    "            for j in range(0, 9, 3):\n",
    "                subgrid = [board[a][b] for a in range(i, i+3) for b in range(j, j+3)]\n",
    "                if hasDuplicates(subgrid):\n",
    "                    return False\n",
    "        \n",
    "        return True"
   ]
  }
 ],
 "metadata": {
  "kernelspec": {
   "display_name": "Python 3 (ipykernel)",
   "language": "python",
   "name": "python3"
  },
  "language_info": {
   "codemirror_mode": {
    "name": "ipython",
    "version": 3
   },
   "file_extension": ".py",
   "mimetype": "text/x-python",
   "name": "python",
   "nbconvert_exporter": "python",
   "pygments_lexer": "ipython3",
   "version": "3.10.6"
  }
 },
 "nbformat": 4,
 "nbformat_minor": 5
}
