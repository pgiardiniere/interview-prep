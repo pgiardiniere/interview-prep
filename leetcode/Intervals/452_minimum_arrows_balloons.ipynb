{
 "cells": [
  {
   "cell_type": "markdown",
   "id": "f4212b25-3b3e-43f6-8326-1a8079f3a313",
   "metadata": {},
   "source": [
    "There are some spherical balloons taped onto a flat wall that represents the XY-plane. The balloons are represented as a 2D integer array `points` where `points[i] = [x_start, x_end]` denotes a balloon whose horizontal diameter stretches between xstart and xend. You do not know the exact y-coordinates of the balloons.\n",
    "\n",
    "Arrows can be shot up directly vertically (in the positive y-direction) from different points along the x-axis. A balloon with $x_{start}$ and $x_{end}$ is burst by an arrow shot at $x$ if $x_{start} \\le x \\le x_{end}$. There is no limit to the number of arrows that can be shot. A shot arrow keeps traveling up infinitely, bursting any balloons in its path.\n",
    "\n",
    "Given the array points, return the minimum number of arrows that must be shot to burst all balloons.\n",
    "\n",
    "Constraints:\n",
    "\n",
    "* $1 \\le$ `points.length` $\\le 105$\n",
    "* `points[i].length == 2`\n",
    "* $-231 \\le x_{start} < x_{end} <= 231 - 1$\n"
   ]
  },
  {
   "cell_type": "markdown",
   "id": "33db60b3-c4c6-4732-b5c3-fe0f7806f637",
   "metadata": {},
   "source": [
    "---"
   ]
  },
  {
   "cell_type": "markdown",
   "id": "827cf0a4-71f0-464e-8299-8ca45710a97e",
   "metadata": {},
   "source": [
    "Oh duh, this is interval scheduling. The greedy approach of earliest-finish time first is provably optimal.\n",
    "\n",
    "The only issue is since these are passed in by non-sorted order, we have to sort by finish time (balloon end), which is O(n log n).\n",
    "\n",
    "So this is O(nlogn) time and O(1) space.\n"
   ]
  },
  {
   "cell_type": "code",
   "execution_count": 58,
   "id": "9ff46902-939d-4a09-9c59-befbcb347b70",
   "metadata": {},
   "outputs": [
    {
     "name": "stdout",
     "output_type": "stream",
     "text": [
      "2\n"
     ]
    }
   ],
   "source": [
    "def findMinArrowShots(points):\n",
    "    if not points:\n",
    "        return 0\n",
    "    \n",
    "    # Sort balloons by their end points\n",
    "    points.sort(key=lambda x: x[1])\n",
    "    \n",
    "    arrows = 1  # Initialize with 1 arrow since we have to shoot at least once\n",
    "    current_end = points[0][1]  # Initialize with the end point of the first balloon\n",
    "    \n",
    "    for balloon in points[1:]:\n",
    "        start, end = balloon\n",
    "        # If the current balloon starts after the previous one ends, we need a new arrow\n",
    "        if start > current_end:\n",
    "            arrows += 1\n",
    "            current_end = end  # Update the current end point\n",
    "        \n",
    "    return arrows\n",
    "\n",
    "# Example usage:\n",
    "points = [[10,16],[2,8],[1,6],[7,12]]\n",
    "print(findMinArrowShots(points))"
   ]
  },
  {
   "cell_type": "code",
   "execution_count": null,
   "id": "ffaa1f82-9c4a-416c-ace0-ce1a4dc933a3",
   "metadata": {},
   "outputs": [],
   "source": []
  }
 ],
 "metadata": {
  "kernelspec": {
   "display_name": "Python 3 (ipykernel)",
   "language": "python",
   "name": "python3"
  },
  "language_info": {
   "codemirror_mode": {
    "name": "ipython",
    "version": 3
   },
   "file_extension": ".py",
   "mimetype": "text/x-python",
   "name": "python",
   "nbconvert_exporter": "python",
   "pygments_lexer": "ipython3",
   "version": "3.10.6"
  }
 },
 "nbformat": 4,
 "nbformat_minor": 5
}
