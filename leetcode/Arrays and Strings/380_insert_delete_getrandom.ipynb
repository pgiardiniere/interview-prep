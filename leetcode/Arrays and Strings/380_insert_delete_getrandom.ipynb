{
 "cells": [
  {
   "cell_type": "markdown",
   "id": "1355641d-ba91-4073-86c1-90cd88ebb8c8",
   "metadata": {},
   "source": [
    "Implement the RandomizedSet class:\n",
    "\n",
    "* RandomizedSet() Initializes the RandomizedSet object.\n",
    "* bool insert(int val) Inserts an item val into the set if not present. Returns true if the item was not present, false otherwise.\n",
    "* bool remove(int val) Removes an item val from the set if present. Returns true if the item was present, false otherwise.\n",
    "* int getRandom() Returns a random element from the current set of elements (it's guaranteed that at least one element exists when this method is called). Each element must have the same probability of being returned.\n",
    "\n",
    "You must implement the functions of the class such that each function works in average O(1) time complexity."
   ]
  },
  {
   "cell_type": "code",
   "execution_count": null,
   "id": "5de64ce6-ed02-4fca-ba6c-f53d8af540af",
   "metadata": {},
   "outputs": [],
   "source": [
    "from random import choice\n",
    "class RandomizedSet:\n",
    "    def __init__(self):\n",
    "        self.d = {}\n",
    "        self.l = []\n",
    "\n",
    "    def insert(self, val: int) -> bool:\n",
    "        if val not in self.d:\n",
    "            self.l.append(val)\n",
    "            self.d[val] = len(self.l) - 1\n",
    "            # print(f'inserted: {self.l}, {self.d}')\n",
    "            return True\n",
    "        return False\n",
    "\n",
    "    def remove(self, val: int) -> bool:\n",
    "        if val in self.d:\n",
    "            # print(f'remove: val={val} {self.l}, {self.d}', end=' ')\n",
    "            i, j = self.d[val], len(self.l) - 1\n",
    "            # print(i, j)\n",
    "            swapped_val = self.l[j]\n",
    "\n",
    "            self.l[i], self.l[j] = self.l[j], self.l[j]\n",
    "            del self.l[j]\n",
    "\n",
    "            # Tidy up: point index of swapped val to new position \n",
    "            self.d[swapped_val] = i\n",
    "\n",
    "            del self.d[val]\n",
    "\n",
    "            return True\n",
    "        return False\n",
    "\n",
    "    def getRandom(self) -> int:\n",
    "        return choice(self.l)\n"
   ]
  }
 ],
 "metadata": {
  "kernelspec": {
   "display_name": "Python 3 (ipykernel)",
   "language": "python",
   "name": "python3"
  },
  "language_info": {
   "codemirror_mode": {
    "name": "ipython",
    "version": 3
   },
   "file_extension": ".py",
   "mimetype": "text/x-python",
   "name": "python",
   "nbconvert_exporter": "python",
   "pygments_lexer": "ipython3",
   "version": "3.10.6"
  }
 },
 "nbformat": 4,
 "nbformat_minor": 5
}
