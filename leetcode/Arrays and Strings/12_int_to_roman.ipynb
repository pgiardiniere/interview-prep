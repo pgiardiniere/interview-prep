{
 "cells": [
  {
   "cell_type": "markdown",
   "metadata": {},
   "source": [
    "Roman numerals are represented by seven different symbols: I, V, X, L, C, D and M.\n",
    "\n",
    "Symbol       Value\n",
    "I             1\n",
    "V             5\n",
    "X             10\n",
    "L             50\n",
    "C             100\n",
    "D             500\n",
    "M             1000\n",
    "\n",
    "For example, 2 is written as II in Roman numeral, just two one's added together. 12 is written as XII, which is simply X + II. The number 27 is written as XXVII, which is XX + V + II.\n",
    "\n",
    "Roman numerals are usually written largest to smallest from left to right. However, the numeral for four is not IIII. Instead, the number four is written as IV. Because the one is before the five we subtract it making four. The same principle applies to the number nine, which is written as IX. There are six instances where subtraction is used:\n",
    "\n",
    "    I can be placed before V (5) and X (10) to make 4 and 9. \n",
    "    X can be placed before L (50) and C (100) to make 40 and 90. \n",
    "    C can be placed before D (500) and M (1000) to make 400 and 900.\n",
    "\n",
    "Given an integer, convert it to a roman numeral."
   ]
  },
  {
   "cell_type": "code",
   "execution_count": null,
   "metadata": {
    "vscode": {
     "languageId": "plaintext"
    }
   },
   "outputs": [],
   "source": [
    "class Solution:\n",
    "    def intToRoman(self, num: int) -> str:\n",
    "        s = \"\"\n",
    "\n",
    "        d = {\n",
    "            \"I\": 1,\n",
    "            \"IV\": 4,\n",
    "            \"V\": 5,\n",
    "            \"IX\": 9,\n",
    "            \"X\": 10,\n",
    "            \"XL\": 40,\n",
    "            \"L\": 50,\n",
    "            \"XC\": 90,\n",
    "            \"C\": 100,\n",
    "            \"CD\": 400,\n",
    "            \"D\": 500,\n",
    "            \"CM\": 900,\n",
    "            \"M\": 1000,\n",
    "        }\n",
    "\n",
    "        i = len(list(d.keys())) - 1\n",
    "        while num > 0:\n",
    "            roman = list(d)[i]\n",
    "            if num - d[roman] < 0:\n",
    "                i -= 1\n",
    "                continue\n",
    "            else:\n",
    "                s += list(d)[i]\n",
    "                num -= d[roman]\n",
    "\n",
    "        return s"
   ]
  },
  {
   "cell_type": "markdown",
   "metadata": {},
   "source": [
    "This is an unoptimized solution, but it works"
   ]
  }
 ],
 "metadata": {
  "language_info": {
   "name": "python"
  }
 },
 "nbformat": 4,
 "nbformat_minor": 2
}
