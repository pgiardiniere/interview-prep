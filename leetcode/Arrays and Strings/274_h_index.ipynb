{
 "cells": [
  {
   "cell_type": "markdown",
   "id": "0103d6f5-5bb9-4ba7-889d-8d5523754b1b",
   "metadata": {},
   "source": [
    "Given an array of integers citations where citations[i] is the number of citations a researcher received for their ith paper, return the researcher's h-index.\n",
    "\n",
    "According to the definition of h-index on Wikipedia: The h-index is defined as the maximum value of `h` such that the given researcher has published at least `h` papers that have each been cited at least `h` times."
   ]
  },
  {
   "cell_type": "markdown",
   "id": "11669a2a-fcb6-455c-b7be-9637e482f8fe",
   "metadata": {},
   "source": [
    "---"
   ]
  },
  {
   "cell_type": "markdown",
   "id": "fc8958dd-f4c4-4e7e-960d-0b55ea4cd7ea",
   "metadata": {},
   "source": [
    "Easiest method is probably sort the input array descending, then iterate forwards until least-cited-paper's value is greater than the current index of the array (the n'th paper).\n",
    "\n",
    "Since sorting is $n log(n)$, and then we iterate through the array once, we have $O(nlogn)$ time complexity. It's $O(1)$ space complexity as we only require a handful of variables regardless of the size of the inputs."
   ]
  },
  {
   "cell_type": "code",
   "execution_count": 13,
   "id": "9888ca07-0326-4bfe-be18-b6d660a8f929",
   "metadata": {},
   "outputs": [
    {
     "data": {
      "text/plain": [
       "[1, 2, 3, 4]"
      ]
     },
     "execution_count": 13,
     "metadata": {},
     "output_type": "execute_result"
    }
   ],
   "source": [
    "nums = [1, 2, 3 ,4]\n",
    "sorted(nums)"
   ]
  },
  {
   "cell_type": "code",
   "execution_count": 14,
   "id": "2f8f6001-5955-4070-a0a1-48863fbd5bec",
   "metadata": {},
   "outputs": [
    {
     "data": {
      "text/plain": [
       "[4, 3, 2, 1]"
      ]
     },
     "execution_count": 14,
     "metadata": {},
     "output_type": "execute_result"
    }
   ],
   "source": [
    "[*reversed(sorted(nums))]"
   ]
  },
  {
   "cell_type": "code",
   "execution_count": 11,
   "id": "76d30f7c-644b-4be1-86ee-e33be56e33e7",
   "metadata": {},
   "outputs": [
    {
     "name": "stdout",
     "output_type": "stream",
     "text": [
      "1 4\n",
      "2 3\n",
      "3 2\n",
      "4 1\n"
     ]
    }
   ],
   "source": [
    "def hIndex(citations: list[int]) -> int:\n",
    "    n = len(citations)\n",
    "\n",
    "    for i, citation in enumerate(reversed(sorted(citations))):\n",
    "        print(i+1, citation)\n",
    "\n",
    "hIndex(nums)"
   ]
  },
  {
   "cell_type": "code",
   "execution_count": 17,
   "id": "d32d6141-b25a-4c4d-b1b3-c4e6b489910e",
   "metadata": {},
   "outputs": [
    {
     "data": {
      "text/plain": [
       "2"
      ]
     },
     "execution_count": 17,
     "metadata": {},
     "output_type": "execute_result"
    }
   ],
   "source": [
    "def hIndex(citations: list[int]) -> int:\n",
    "    n = len(citations)\n",
    "\n",
    "    for i, citation in enumerate(reversed(sorted(citations))):\n",
    "        if i + 1 > citation:\n",
    "            return i\n",
    "    \n",
    "    return n \n",
    "\n",
    "hIndex(nums)"
   ]
  },
  {
   "cell_type": "code",
   "execution_count": 18,
   "id": "d917e7a4-4577-498e-8523-45657d404988",
   "metadata": {},
   "outputs": [
    {
     "data": {
      "text/plain": [
       "1"
      ]
     },
     "execution_count": 18,
     "metadata": {},
     "output_type": "execute_result"
    }
   ],
   "source": [
    "hIndex([1])"
   ]
  }
 ],
 "metadata": {
  "kernelspec": {
   "display_name": "Python 3 (ipykernel)",
   "language": "python",
   "name": "python3"
  },
  "language_info": {
   "codemirror_mode": {
    "name": "ipython",
    "version": 3
   },
   "file_extension": ".py",
   "mimetype": "text/x-python",
   "name": "python",
   "nbconvert_exporter": "python",
   "pygments_lexer": "ipython3",
   "version": "3.10.6"
  }
 },
 "nbformat": 4,
 "nbformat_minor": 5
}
