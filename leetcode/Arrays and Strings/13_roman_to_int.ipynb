{
 "cells": [
  {
   "cell_type": "markdown",
   "id": "0adf7ba8-54dd-4598-90f2-53c9b48d04eb",
   "metadata": {},
   "source": [
    "Roman numerals are represented by seven different symbols: I, V, X, L, C, D and M.\n",
    "\n",
    "| Symbol   |    Value |\n",
    "|----------|----------|\n",
    "| I        |     1    |\n",
    "| V        |     5    |\n",
    "| X        |     10   |\n",
    "| L        |     50   |\n",
    "| C        |     100  |\n",
    "| D        |     500  |\n",
    "| M        |     1000 |\n",
    "\n",
    "\n",
    "\n",
    "For example, 2 is written as II in Roman numeral, just two ones added together. 12 is written as XII, which is simply X + II. The number 27 is written as XXVII, which is XX + V + II.\n",
    "\n",
    "Roman numerals are usually written largest to smallest from left to right. However, the numeral for four is not IIII. Instead, the number four is written as IV. Because the one is before the five we subtract it making four. The same principle applies to the number nine, which is written as IX. There are six instances where subtraction is used:\n",
    "\n",
    "    I can be placed before V (5) and X (10) to make 4 and 9. \n",
    "    X can be placed before L (50) and C (100) to make 40 and 90. \n",
    "    C can be placed before D (500) and M (1000) to make 400 and 900.\n",
    "\n",
    "Given a roman numeral, convert it to an integer."
   ]
  },
  {
   "cell_type": "code",
   "execution_count": null,
   "id": "5a3cdc05-f3e8-4fa2-8c10-875454059091",
   "metadata": {},
   "outputs": [],
   "source": []
  },
  {
   "cell_type": "markdown",
   "id": "c81281c4-8e84-468e-ac93-b81220bc22a8",
   "metadata": {},
   "source": [
    "---"
   ]
  },
  {
   "cell_type": "markdown",
   "id": "038b82b0-a44f-4e58-b817-e6a5d3781efa",
   "metadata": {},
   "source": [
    "We should be able to do this in O(n) and O(1) time/space (respectively).\n",
    "\n",
    "We just need to check the `i+1`th index at each point to see if a larger number occurs than the `i`th index and add the correct amt to sum."
   ]
  },
  {
   "cell_type": "code",
   "execution_count": 11,
   "id": "1f3a3e4a-5743-4c23-b646-8bae61f38b45",
   "metadata": {},
   "outputs": [],
   "source": [
    "def romanToInt(s: str) -> int:    \n",
    "    n = len(s)\n",
    "\n",
    "    if n == 1:\n",
    "        if s == \"I\": return 1\n",
    "        elif s == \"V\": return 5\n",
    "        elif s == \"X\": return 10\n",
    "        elif s == \"L\": return 50\n",
    "        elif s == \"C\": return 100\n",
    "        elif s == \"D\": return 500\n",
    "        elif s == \"M\": return 1000\n",
    "        else: \n",
    "            return None\n",
    "\n",
    "    sum = 0\n",
    "    i = 0\n",
    "\n",
    "    while i < n:\n",
    "        if i+1 < n and romanToInt(s[i+1]) > romanToInt(s[i]):\n",
    "            sum += romanToInt(s[i+1]) - romanToInt(s[i])\n",
    "            i += 2\n",
    "        else:\n",
    "            sum += romanToInt(s[i])\n",
    "            i += 1\n",
    "    \n",
    "    return sum\n",
    "            "
   ]
  },
  {
   "cell_type": "code",
   "execution_count": 12,
   "id": "6b2b55f7-1e84-4cdf-9f90-8f4773ffc6cd",
   "metadata": {},
   "outputs": [
    {
     "name": "stdout",
     "output_type": "stream",
     "text": [
      "3\n",
      "58\n",
      "1994\n"
     ]
    }
   ],
   "source": [
    "# Test cases:\n",
    "s = \"III\"\n",
    "print(romanToInt(s))\n",
    "s = \"LVIII\"\n",
    "print(romanToInt(s))\n",
    "s = \"MCMXCIV\"\n",
    "print(romanToInt(s))"
   ]
  },
  {
   "cell_type": "markdown",
   "id": "e4a91a19-dd90-430e-a0bd-c1b8fbb1e72d",
   "metadata": {},
   "source": [
    "PASSES all tests on LeetCode. Solved in <15 minutes, no external reference.\n",
    "\n",
    "It's $O(n)$ time and $O(1)$ space, but is lower than 50th percentile on both time and memory by objective rankings. Probably because using recursive calls is not efficient in Python."
   ]
  },
  {
   "cell_type": "markdown",
   "id": "445573d0-5958-4625-a680-56fe7e547e31",
   "metadata": {},
   "source": [
    "...Oh yeah, duh just use a dictionary instead. Also avoids the verbose 'self.' calls that the Class-based leetcode submission requires."
   ]
  },
  {
   "cell_type": "code",
   "execution_count": 15,
   "id": "e7122c4e-9911-4247-82ce-f1c51230366c",
   "metadata": {},
   "outputs": [],
   "source": [
    "def romanToInt(s: str) -> int:    \n",
    "    n = len(s)\n",
    "    d = {\n",
    "        \"I\": 1,\n",
    "        \"V\": 5,\n",
    "        \"X\": 10,\n",
    "        \"L\": 50,\n",
    "        \"C\": 100,\n",
    "        \"D\": 500,\n",
    "        \"M\": 1000,\n",
    "    }\n",
    "    sum = 0\n",
    "    i = 0\n",
    "    while i < n:\n",
    "        if i+1 < n and d[s[i+1]] > d[s[i]]:\n",
    "            sum += d[s[i+1]] - d[s[i]]\n",
    "            i += 2\n",
    "        else:\n",
    "            sum += d[s[i]]\n",
    "            i += 1\n",
    "    \n",
    "    return sum\n"
   ]
  },
  {
   "cell_type": "code",
   "execution_count": 16,
   "id": "549a1aae-9703-4ffe-b2f2-7f38c20e176d",
   "metadata": {},
   "outputs": [
    {
     "name": "stdout",
     "output_type": "stream",
     "text": [
      "3\n",
      "58\n",
      "1994\n"
     ]
    }
   ],
   "source": [
    "# Test cases:\n",
    "s = \"III\"\n",
    "print(romanToInt(s))\n",
    "s = \"LVIII\"\n",
    "print(romanToInt(s))\n",
    "s = \"MCMXCIV\"\n",
    "print(romanToInt(s))"
   ]
  },
  {
   "cell_type": "markdown",
   "id": "f9e9d4b3-b246-47d9-b284-c80ae92720c1",
   "metadata": {},
   "source": [
    "This reduces empircal runtime by 22% (63 -> 49), putting us at 84 percentile for runtimes against other users, which makes sense - it's the same (optimal) solution but better utilizes the quirks of the language we're working in."
   ]
  }
 ],
 "metadata": {
  "kernelspec": {
   "display_name": "Python 3 (ipykernel)",
   "language": "python",
   "name": "python3"
  },
  "language_info": {
   "codemirror_mode": {
    "name": "ipython",
    "version": 3
   },
   "file_extension": ".py",
   "mimetype": "text/x-python",
   "name": "python",
   "nbconvert_exporter": "python",
   "pygments_lexer": "ipython3",
   "version": "3.9.6"
  }
 },
 "nbformat": 4,
 "nbformat_minor": 5
}
