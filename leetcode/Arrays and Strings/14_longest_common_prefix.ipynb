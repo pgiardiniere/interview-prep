{
 "cells": [
  {
   "cell_type": "markdown",
   "id": "c870a0c9-9ab2-4abb-8f35-51eaa4cd6401",
   "metadata": {},
   "source": [
    "Write a function to find the longest common prefix string amongst an array of strings.\n",
    "\n",
    "If there is no common prefix, return an empty string \"\""
   ]
  },
  {
   "cell_type": "code",
   "execution_count": null,
   "id": "0e461443-fa1b-4238-b2ff-8e137ea3475a",
   "metadata": {},
   "outputs": [],
   "source": [
    "class Solution:\n",
    "    def longestCommonPrefix(self, strs: List[str]) -> str:        \n",
    "        for i, col in enumerate(zip(*strs)):\n",
    "            if len(set(col)) != 1:\n",
    "                return strs[0][:i]\n",
    "        return min(strs)"
   ]
  }
 ],
 "metadata": {
  "kernelspec": {
   "display_name": "Python 3 (ipykernel)",
   "language": "python",
   "name": "python3"
  },
  "language_info": {
   "codemirror_mode": {
    "name": "ipython",
    "version": 3
   },
   "file_extension": ".py",
   "mimetype": "text/x-python",
   "name": "python",
   "nbconvert_exporter": "python",
   "pygments_lexer": "ipython3",
   "version": "3.10.6"
  }
 },
 "nbformat": 4,
 "nbformat_minor": 5
}
