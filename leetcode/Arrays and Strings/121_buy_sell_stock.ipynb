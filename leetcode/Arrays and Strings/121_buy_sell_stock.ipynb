{
 "cells": [
  {
   "cell_type": "markdown",
   "id": "79063a50-62fa-4a28-a327-5aaf02574003",
   "metadata": {},
   "source": [
    "You are given an array prices where `prices[i]` is the price of a given stock on the `i`th day.\n",
    "\n",
    "You want to maximize your profit by choosing a single day to buy one stock and choosing a different day in the future to sell that stock.\n",
    "\n",
    "Return the maximum profit you can achieve from this transaction. If you cannot achieve any profit, return 0."
   ]
  },
  {
   "cell_type": "markdown",
   "id": "289ada2e-6a4e-4e1a-a896-a722043f875c",
   "metadata": {},
   "source": [
    "---"
   ]
  },
  {
   "cell_type": "markdown",
   "id": "87867062-f1e3-479e-926b-505938a92db8",
   "metadata": {},
   "source": [
    "So, left-to-right, we are looking for the largest difference between right-hand term and left-hand term.\n",
    "\n",
    "Able to do this in $O(n)$ time and $O(1)$ space."
   ]
  },
  {
   "cell_type": "code",
   "execution_count": 23,
   "id": "328c9d34-df09-43c0-b6bb-98617fb16da1",
   "metadata": {},
   "outputs": [],
   "source": [
    "def maxProfit(prices: list[int]) -> int:\n",
    "    n = len(prices)\n",
    "    i, j = 0, 1\n",
    "    max_profit = 0\n",
    "    \n",
    "    while j < n:\n",
    "        profit = prices[j] - prices[i]\n",
    "        max_profit = max(profit, max_profit)\n",
    "        if prices[i] > prices[j]:\n",
    "            i = j\n",
    "        j += 1\n",
    "    return max_profit\n"
   ]
  },
  {
   "cell_type": "code",
   "execution_count": 24,
   "id": "5dc1ac10-19b7-4006-a151-5723dcbba38d",
   "metadata": {},
   "outputs": [
    {
     "data": {
      "text/plain": [
       "5"
      ]
     },
     "execution_count": 24,
     "metadata": {},
     "output_type": "execute_result"
    }
   ],
   "source": [
    "prices = [7,1,5,3,6,4]\n",
    "maxProfit(prices)"
   ]
  }
 ],
 "metadata": {
  "kernelspec": {
   "display_name": "Python 3 (ipykernel)",
   "language": "python",
   "name": "python3"
  },
  "language_info": {
   "codemirror_mode": {
    "name": "ipython",
    "version": 3
   },
   "file_extension": ".py",
   "mimetype": "text/x-python",
   "name": "python",
   "nbconvert_exporter": "python",
   "pygments_lexer": "ipython3",
   "version": "3.9.6"
  }
 },
 "nbformat": 4,
 "nbformat_minor": 5
}
