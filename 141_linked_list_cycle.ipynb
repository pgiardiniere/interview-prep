{
 "cells": [
  {
   "cell_type": "markdown",
   "id": "457c7cca-4953-4419-b44b-422b2dfd0a60",
   "metadata": {},
   "source": [
    "Given `head`, the head of a linked list, determine if the linked list has a cycle in it.\n",
    "\n",
    "There is a cycle in a linked list if there is some node in the list that can be reached again by continuously following the `next` pointer. Internally, `pos` is used to denote the index of the node that tail's `next` pointer is connected to. _Note that pos is not passed as a parameter._\n",
    "\n",
    "Return true if there is a cycle in the linked list. Otherwise, return false."
   ]
  },
  {
   "cell_type": "code",
   "execution_count": 2,
   "id": "901dedf5-f9a4-4c8f-9055-46a5c63b06e2",
   "metadata": {},
   "outputs": [],
   "source": [
    "from typing import Optional\n",
    "\n",
    "# Definition for singly-linked list.\n",
    "class ListNode:\n",
    "    def __init__(self, x):\n",
    "        self.val = x\n",
    "        self.next = None\n",
    "\n",
    "def hasCycle(head: Optional[ListNode]) -> bool:\n",
    "    pass\n"
   ]
  },
  {
   "cell_type": "code",
   "execution_count": null,
   "id": "043bb6bb-b61a-401b-a5bf-824d21640b90",
   "metadata": {},
   "outputs": [],
   "source": []
  }
 ],
 "metadata": {
  "kernelspec": {
   "display_name": "Python 3 (ipykernel)",
   "language": "python",
   "name": "python3"
  },
  "language_info": {
   "codemirror_mode": {
    "name": "ipython",
    "version": 3
   },
   "file_extension": ".py",
   "mimetype": "text/x-python",
   "name": "python",
   "nbconvert_exporter": "python",
   "pygments_lexer": "ipython3",
   "version": "3.9.6"
  }
 },
 "nbformat": 4,
 "nbformat_minor": 5
}
