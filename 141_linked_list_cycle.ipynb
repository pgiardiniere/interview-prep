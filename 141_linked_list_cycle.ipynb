{
 "cells": [
  {
   "cell_type": "markdown",
   "id": "457c7cca-4953-4419-b44b-422b2dfd0a60",
   "metadata": {},
   "source": [
    "Given `head`, the head of a linked list, determine if the linked list has a cycle in it.\n",
    "\n",
    "There is a cycle in a linked list if there is some node in the list that can be reached again by continuously following the `next` pointer. Internally, `pos` is used to denote the index of the node that tail's `next` pointer is connected to. _Note that pos is not passed as a parameter._\n",
    "\n",
    "Return true if there is a cycle in the linked list. Otherwise, return false."
   ]
  },
  {
   "cell_type": "code",
   "execution_count": 2,
   "id": "901dedf5-f9a4-4c8f-9055-46a5c63b06e2",
   "metadata": {},
   "outputs": [],
   "source": [
    "from typing import Optional\n",
    "\n",
    "# Definition for singly-linked list.\n",
    "class ListNode:\n",
    "    def __init__(self, x):\n",
    "        self.val = x\n",
    "        self.next = None\n",
    "\n",
    "def hasCycle(head: Optional[ListNode]) -> bool:\n",
    "    pass\n"
   ]
  },
  {
   "cell_type": "code",
   "execution_count": 3,
   "id": "043bb6bb-b61a-401b-a5bf-824d21640b90",
   "metadata": {},
   "outputs": [],
   "source": [
    "ll = ListNode(24)"
   ]
  },
  {
   "cell_type": "code",
   "execution_count": 4,
   "id": "6646008b-0150-44b2-b5cc-ea9e7aaa0e6f",
   "metadata": {},
   "outputs": [
    {
     "data": {
      "text/plain": [
       "<__main__.ListNode at 0x119e9b4f0>"
      ]
     },
     "execution_count": 4,
     "metadata": {},
     "output_type": "execute_result"
    }
   ],
   "source": [
    "ll"
   ]
  },
  {
   "cell_type": "code",
   "execution_count": 5,
   "id": "1a33569d-a445-4369-9ec2-7ff8d07295b3",
   "metadata": {},
   "outputs": [],
   "source": [
    "ll.next = ListNode(25)"
   ]
  },
  {
   "cell_type": "code",
   "execution_count": 6,
   "id": "3b1f7959-51b1-45e3-94ea-6328098f3c5f",
   "metadata": {},
   "outputs": [
    {
     "data": {
      "text/plain": [
       "<__main__.ListNode at 0x119e9b4f0>"
      ]
     },
     "execution_count": 6,
     "metadata": {},
     "output_type": "execute_result"
    }
   ],
   "source": [
    "ll"
   ]
  },
  {
   "cell_type": "code",
   "execution_count": 7,
   "id": "e7c04f2a-b6c5-4aa8-9008-0d08658bca00",
   "metadata": {},
   "outputs": [
    {
     "data": {
      "text/plain": [
       "24"
      ]
     },
     "execution_count": 7,
     "metadata": {},
     "output_type": "execute_result"
    }
   ],
   "source": [
    "ll.val"
   ]
  },
  {
   "cell_type": "code",
   "execution_count": 8,
   "id": "dead7c17-bd1e-4166-bc28-9d8b23b5ced5",
   "metadata": {},
   "outputs": [
    {
     "data": {
      "text/plain": [
       "25"
      ]
     },
     "execution_count": 8,
     "metadata": {},
     "output_type": "execute_result"
    }
   ],
   "source": [
    "ll.next.val"
   ]
  },
  {
   "cell_type": "code",
   "execution_count": null,
   "id": "f6ddd230-12f1-4a14-a366-d4d5d154ea2a",
   "metadata": {},
   "outputs": [],
   "source": []
  }
 ],
 "metadata": {
  "kernelspec": {
   "display_name": "Python 3 (ipykernel)",
   "language": "python",
   "name": "python3"
  },
  "language_info": {
   "codemirror_mode": {
    "name": "ipython",
    "version": 3
   },
   "file_extension": ".py",
   "mimetype": "text/x-python",
   "name": "python",
   "nbconvert_exporter": "python",
   "pygments_lexer": "ipython3",
   "version": "3.9.6"
  }
 },
 "nbformat": 4,
 "nbformat_minor": 5
}
