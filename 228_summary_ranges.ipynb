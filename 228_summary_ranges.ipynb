{
 "cells": [
  {
   "cell_type": "markdown",
   "id": "f02ddbb9-4ab3-47df-afb0-de7436e8bbaf",
   "metadata": {},
   "source": [
    "You are given a sorted unique integer array `nums`.\n",
    "\n",
    "A range `[a,b]` is the set of all integers from `a` to `b` (inclusive).\n",
    "\n",
    "Return the **smallest sorted** list of ranges that cover all the numbers in the array exactly. That is, each element of nums is covered by exactly one of the ranges, and there is no integer `x` such that `x` is in one of the ranges but not in `nums`.\n",
    "\n",
    "Each range [a,b] in the list should be output as:\n",
    "\n",
    "* `\"a->b\"` if `a != b`\n",
    "* `\"a\"` if `a == b`\n"
   ]
  },
  {
   "cell_type": "markdown",
   "id": "5b47a589-c5be-4653-bda2-429d6145be2c",
   "metadata": {},
   "source": [
    "**example**\n",
    "```\n",
    "Input: nums = [0,1,2,4,5,7]\n",
    "Output: [\"0->2\",\"4->5\",\"7\"]\n",
    "Explanation: The ranges are:\n",
    "  [0,2] --> \"0->2\"\n",
    "  [4,5] --> \"4->5\"\n",
    "  [7,7] --> \"7\"\n",
    "```"
   ]
  },
  {
   "cell_type": "markdown",
   "id": "67c489c1-8f75-4bbe-abce-236ad6191daa",
   "metadata": {},
   "source": [
    "Constraints:\n",
    "\n",
    "* `0 <= nums.length <= 20`\n",
    "* `-231 <= nums[i] <= 231 - 1`\n",
    "* All the values of nums are unique.\n",
    "* `nums` is sorted in ascending order."
   ]
  },
  {
   "cell_type": "markdown",
   "id": "17c95d97-2d0b-4e4e-8512-51ec035d1750",
   "metadata": {},
   "source": [
    "Ok, so the most annoying thing about this is just... writing strings I guess. O(n), O(n) complexities."
   ]
  },
  {
   "cell_type": "code",
   "execution_count": 18,
   "id": "50e76abb-4c43-4a75-836e-c83f3bce13d0",
   "metadata": {},
   "outputs": [],
   "source": [
    "def summaryRanges(nums: list[int]) -> list[str]:\n",
    "    ranges = []\n",
    "    range_start = 0\n",
    "    prev_num = nums[0]\n",
    "    for num in nums[1:]:\n",
    "        print(prev_num, num)\n",
    "        if num != prev_num + 1:\n",
    "            ranges.append(f\"{range_start}->{prev_num}\")\n",
    "            range_start = num\n",
    "        prev_num = num\n",
    "\n",
    "    return ranges"
   ]
  },
  {
   "cell_type": "code",
   "execution_count": 19,
   "id": "f73cb933-b092-491f-b5c7-519b019c1599",
   "metadata": {},
   "outputs": [
    {
     "name": "stdout",
     "output_type": "stream",
     "text": [
      "0 1\n",
      "1 2\n",
      "2 4\n",
      "4 5\n",
      "5 7\n"
     ]
    },
    {
     "data": {
      "text/plain": [
       "['0->2', '4->5']"
      ]
     },
     "execution_count": 19,
     "metadata": {},
     "output_type": "execute_result"
    }
   ],
   "source": [
    "nums = [0,1,2,4,5,7]\n",
    "summaryRanges(nums)"
   ]
  },
  {
   "cell_type": "markdown",
   "id": "017d5051-2427-483e-80d0-4629c43732b6",
   "metadata": {},
   "source": [
    "Ok, so now just need to handle case where only 1 num in the range."
   ]
  },
  {
   "cell_type": "code",
   "execution_count": 3,
   "id": "765d432d-2dc6-4818-8337-5251aabfc699",
   "metadata": {},
   "outputs": [],
   "source": [
    "def summaryRanges(nums: list[int]) -> list[str]:\n",
    "    ranges = []\n",
    "    range_start = 0\n",
    "    range_length = 1\n",
    "\n",
    "    prev_num = nums[0]\n",
    "    for num in nums[1:]:\n",
    "        if num != prev_num + 1:\n",
    "            if range_length == 1:\n",
    "                ranges.append(f\"{range_start}\")\n",
    "            else:\n",
    "                ranges.append(f\"{range_start}->{prev_num}\")\n",
    "            range_start = num\n",
    "            range_length = 1\n",
    "        prev_num = num\n",
    "        range_length += 1\n",
    "\n",
    "    return ranges"
   ]
  },
  {
   "cell_type": "code",
   "execution_count": 4,
   "id": "3a64c4de-df6d-4c53-87e1-7f7fa479c2b0",
   "metadata": {},
   "outputs": [
    {
     "data": {
      "text/plain": [
       "['0->2', '4->5']"
      ]
     },
     "execution_count": 4,
     "metadata": {},
     "output_type": "execute_result"
    }
   ],
   "source": [
    "nums = [0,1,2,4,5,7]\n",
    "summaryRanges(nums)"
   ]
  },
  {
   "cell_type": "markdown",
   "id": "58df2fb8-5145-46fa-ab40-8e6c15760dc7",
   "metadata": {},
   "source": [
    "Wait, this is silly"
   ]
  },
  {
   "cell_type": "code",
   "execution_count": 33,
   "id": "66cec5c9-80e9-4fb1-a55c-43670888aff5",
   "metadata": {},
   "outputs": [],
   "source": [
    "def summaryRanges(nums: list[int]) -> list[str]:\n",
    "    n = len(nums)\n",
    "    ranges = []\n",
    "    range_start = 0\n",
    "    range_length = 1\n",
    "    \n",
    "    for i in range(1, n):\n",
    "        print(f\"i={i}\")\n",
    "        if nums[i] != nums[i-1] + 1:\n",
    "            if range_length == 1:\n",
    "                print(f\"{range_start}\")\n",
    "                ranges.append(f\"{range_start}\")\n",
    "            else:\n",
    "                print(f\"{range_start}->{nums[i-1]}\")\n",
    "                ranges.append(f\"{range_start}->{nums[i-1]}\")\n",
    "            range_start = nums[i]\n",
    "            range_length = 1\n",
    "        else:\n",
    "            range_length += 1\n",
    "\n",
    "    if range_length == 1:\n",
    "        ranges.append(f\"{nums[-1]}\")\n",
    "    else:\n",
    "        ranges.append(f\"{range_start}->{nums[-1]}\")\n",
    "\n",
    "    return ranges"
   ]
  },
  {
   "cell_type": "code",
   "execution_count": 34,
   "id": "c87bb945-99fc-4182-ae42-6bcda7c64b86",
   "metadata": {},
   "outputs": [
    {
     "name": "stdout",
     "output_type": "stream",
     "text": [
      "i=1\n",
      "i=2\n",
      "i=3\n",
      "0->2\n",
      "i=4\n",
      "i=5\n",
      "4->5\n"
     ]
    },
    {
     "data": {
      "text/plain": [
       "['0->2', '4->5', '7']"
      ]
     },
     "execution_count": 34,
     "metadata": {},
     "output_type": "execute_result"
    }
   ],
   "source": [
    "nums = [0,1,2,4,5,7]\n",
    "summaryRanges(nums)"
   ]
  },
  {
   "cell_type": "code",
   "execution_count": 35,
   "id": "d285aebd-17b1-4aa2-8ddf-21c0a68724c5",
   "metadata": {},
   "outputs": [
    {
     "name": "stdout",
     "output_type": "stream",
     "text": [
      "i=1\n",
      "0\n",
      "i=2\n",
      "i=3\n",
      "i=4\n",
      "2->4\n",
      "i=5\n",
      "6\n",
      "i=6\n"
     ]
    },
    {
     "data": {
      "text/plain": [
       "['0', '2->4', '6', '8->9']"
      ]
     },
     "execution_count": 35,
     "metadata": {},
     "output_type": "execute_result"
    }
   ],
   "source": [
    "nums = [0,2,3,4,6,8,9]\n",
    "summaryRanges(nums)"
   ]
  },
  {
   "cell_type": "markdown",
   "id": "fa884207-3f4b-460a-b244-e1fd45a014a1",
   "metadata": {},
   "source": [
    "Looks ok, now without prints:"
   ]
  },
  {
   "cell_type": "code",
   "execution_count": 36,
   "id": "9c7e576c-79c5-481f-a789-6197949897be",
   "metadata": {},
   "outputs": [],
   "source": [
    "def summaryRanges(nums: list[int]) -> list[str]:\n",
    "    if not nums:\n",
    "        return []\n",
    "    \n",
    "    n = len(nums)\n",
    "    ranges = []\n",
    "    range_start = nums[0]\n",
    "    range_length = 1\n",
    "    \n",
    "    for i in range(1, n):\n",
    "        if nums[i] != nums[i-1] + 1:\n",
    "            if range_length == 1:\n",
    "                ranges.append(f\"{range_start}\")\n",
    "            else:\n",
    "                ranges.append(f\"{range_start}->{nums[i-1]}\")\n",
    "            range_start = nums[i]\n",
    "            range_length = 1\n",
    "        else:\n",
    "            range_length += 1\n",
    "\n",
    "    if range_length == 1:\n",
    "        ranges.append(f\"{nums[-1]}\")\n",
    "    else:\n",
    "        ranges.append(f\"{range_start}->{nums[-1]}\")\n",
    "\n",
    "    return ranges"
   ]
  },
  {
   "cell_type": "markdown",
   "id": "a6973f0e-aeec-456c-9ee2-0f67f9ce8dc8",
   "metadata": {},
   "source": [
    "Ok, got accepted. Now let's make this cleaner:"
   ]
  },
  {
   "cell_type": "code",
   "execution_count": 38,
   "id": "d7ea4b01-b12d-4c5c-8b73-6eddb3a10f20",
   "metadata": {},
   "outputs": [],
   "source": [
    "def summaryRanges(nums: list[int]) -> list[str]:\n",
    "    if not nums:\n",
    "        return []\n",
    "    \n",
    "    n = len(nums)\n",
    "    ranges = []\n",
    "    range_start = nums[0]\n",
    "    range_length = 1\n",
    "    \n",
    "    for i in range(1, n):\n",
    "        if nums[i] != nums[i-1] + 1:\n",
    "            ranges.append(\n",
    "                f\"{range_start}\" if range_length == 1 else f\"{range_start}->{nums[i-1]}\"\n",
    "            )\n",
    "            range_start = nums[i]\n",
    "            range_length = 1\n",
    "        else:\n",
    "            range_length += 1\n",
    "\n",
    "    ranges.append(\n",
    "        f\"{range_start}\" if range_length == 1 else f\"{range_start}->{nums[i]}\"\n",
    "    )\n",
    "\n",
    "    return ranges"
   ]
  },
  {
   "cell_type": "markdown",
   "id": "3ac29510-e5c3-4f91-8932-dc41c81024ef",
   "metadata": {},
   "source": [
    "98th percentile runtime, 36th memory - due to optimized answers, not better memory complexity scaling."
   ]
  },
  {
   "cell_type": "code",
   "execution_count": null,
   "id": "7443a618-bec1-4ad6-8eaf-28501cb4e549",
   "metadata": {},
   "outputs": [],
   "source": []
  }
 ],
 "metadata": {
  "kernelspec": {
   "display_name": "Python 3 (ipykernel)",
   "language": "python",
   "name": "python3"
  },
  "language_info": {
   "codemirror_mode": {
    "name": "ipython",
    "version": 3
   },
   "file_extension": ".py",
   "mimetype": "text/x-python",
   "name": "python",
   "nbconvert_exporter": "python",
   "pygments_lexer": "ipython3",
   "version": "3.9.6"
  }
 },
 "nbformat": 4,
 "nbformat_minor": 5
}
