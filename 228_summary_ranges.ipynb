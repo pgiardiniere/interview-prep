{
 "cells": [
  {
   "cell_type": "markdown",
   "id": "f02ddbb9-4ab3-47df-afb0-de7436e8bbaf",
   "metadata": {},
   "source": [
    "You are given a sorted unique integer array `nums`.\n",
    "\n",
    "A range `[a,b]` is the set of all integers from `a` to `b` (inclusive).\n",
    "\n",
    "Return the **smallest sorted** list of ranges that cover all the numbers in the array exactly. That is, each element of nums is covered by exactly one of the ranges, and there is no integer `x` such that `x` is in one of the ranges but not in `nums`.\n",
    "\n",
    "Each range [a,b] in the list should be output as:\n",
    "\n",
    "* `\"a->b\"` if `a != b`\n",
    "* `\"a\"` if `a == b`\n"
   ]
  },
  {
   "cell_type": "markdown",
   "id": "5b47a589-c5be-4653-bda2-429d6145be2c",
   "metadata": {},
   "source": [
    "**example**\n",
    "```\n",
    "Input: nums = [0,1,2,4,5,7]\n",
    "Output: [\"0->2\",\"4->5\",\"7\"]\n",
    "Explanation: The ranges are:\n",
    "  [0,2] --> \"0->2\"\n",
    "  [4,5] --> \"4->5\"\n",
    "  [7,7] --> \"7\"\n",
    "```"
   ]
  },
  {
   "cell_type": "markdown",
   "id": "67c489c1-8f75-4bbe-abce-236ad6191daa",
   "metadata": {},
   "source": [
    "Constraints:\n",
    "\n",
    "* `0 <= nums.length <= 20`\n",
    "* `-231 <= nums[i] <= 231 - 1`\n",
    "* All the values of nums are unique.\n",
    "* `nums` is sorted in ascending order."
   ]
  },
  {
   "cell_type": "markdown",
   "id": "17c95d97-2d0b-4e4e-8512-51ec035d1750",
   "metadata": {},
   "source": [
    "Ok, so the most annoying thing about this is just... writing strings I guess. O(n), O(n) complexities."
   ]
  },
  {
   "cell_type": "code",
   "execution_count": null,
   "id": "50e76abb-4c43-4a75-836e-c83f3bce13d0",
   "metadata": {},
   "outputs": [],
   "source": []
  }
 ],
 "metadata": {
  "kernelspec": {
   "display_name": "Python 3 (ipykernel)",
   "language": "python",
   "name": "python3"
  },
  "language_info": {
   "codemirror_mode": {
    "name": "ipython",
    "version": 3
   },
   "file_extension": ".py",
   "mimetype": "text/x-python",
   "name": "python",
   "nbconvert_exporter": "python",
   "pygments_lexer": "ipython3",
   "version": "3.10.6"
  }
 },
 "nbformat": 4,
 "nbformat_minor": 5
}
