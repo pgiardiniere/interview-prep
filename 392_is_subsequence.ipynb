{
 "cells": [
  {
   "cell_type": "markdown",
   "id": "4f20c652-ff83-4609-a6a2-60b20ec5b188",
   "metadata": {},
   "source": [
    "Given two strings `s` and `t`, return `true` if `s` is a subsequence of `t`, or `false` otherwise.\n",
    "\n",
    "A subsequence of a string is a new string that is formed from the original string by deleting some (can be none) of the characters without disturbing the relative positions of the remaining characters. (i.e., \"ace\" is a subsequence of \"abcde\" while \"aec\" is not)."
   ]
  },
  {
   "cell_type": "code",
   "execution_count": 11,
   "id": "a6c11c63-d943-4b52-a7dc-b5da2718d760",
   "metadata": {},
   "outputs": [],
   "source": [
    "def isSubsequence(s: str, t: str) -> bool:\n",
    "    i, j = 0, 0\n",
    "    m, n = len(s), len(t)\n",
    "\n",
    "    while i < m and j < n:\n",
    "        print(f\"{i},{j}\")\n",
    "        if s[i] == t[j]:\n",
    "            i += 1\n",
    "        j += 1\n",
    "\n",
    "    return True if i == m else False\n"
   ]
  },
  {
   "cell_type": "code",
   "execution_count": 12,
   "id": "611c8bde-79d3-4e51-bee0-cd9a33e02712",
   "metadata": {},
   "outputs": [
    {
     "name": "stdout",
     "output_type": "stream",
     "text": [
      "0,0\n",
      "1,1\n",
      "1,2\n",
      "2,3\n",
      "2,4\n",
      "2,5\n"
     ]
    },
    {
     "data": {
      "text/plain": [
       "True"
      ]
     },
     "execution_count": 12,
     "metadata": {},
     "output_type": "execute_result"
    }
   ],
   "source": [
    "isSubsequence(\"abc\", \"ahbgdc\")"
   ]
  },
  {
   "cell_type": "code",
   "execution_count": 13,
   "id": "87376868-21ff-488a-9dd3-24e640c425e6",
   "metadata": {},
   "outputs": [
    {
     "name": "stdout",
     "output_type": "stream",
     "text": [
      "0,0\n",
      "1,1\n",
      "1,2\n",
      "1,3\n",
      "1,4\n",
      "1,5\n"
     ]
    },
    {
     "data": {
      "text/plain": [
       "False"
      ]
     },
     "execution_count": 13,
     "metadata": {},
     "output_type": "execute_result"
    }
   ],
   "source": [
    "isSubsequence(\"axc\", \"ahbgdc\")"
   ]
  },
  {
   "cell_type": "code",
   "execution_count": null,
   "id": "6b04921f-8ecc-4483-8360-16d223400ece",
   "metadata": {},
   "outputs": [],
   "source": []
  }
 ],
 "metadata": {
  "kernelspec": {
   "display_name": "Python 3 (ipykernel)",
   "language": "python",
   "name": "python3"
  },
  "language_info": {
   "codemirror_mode": {
    "name": "ipython",
    "version": 3
   },
   "file_extension": ".py",
   "mimetype": "text/x-python",
   "name": "python",
   "nbconvert_exporter": "python",
   "pygments_lexer": "ipython3",
   "version": "3.9.6"
  }
 },
 "nbformat": 4,
 "nbformat_minor": 5
}
