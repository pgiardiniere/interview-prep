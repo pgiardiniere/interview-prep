{
 "cells": [
  {
   "cell_type": "markdown",
   "id": "06173fcb-c809-48ca-a02b-69ce42363b0c",
   "metadata": {},
   "source": [
    "You are given an integer array prices where `prices[i]` is the price of a given stock on the `i`th day.\n",
    "\n",
    "On each day, you may decide to buy and/or sell the stock. You can only hold at most one share of the stock at any time. However, you can buy it then immediately sell it on the same day.\n",
    "\n",
    "Find and return the maximum profit you can achieve."
   ]
  },
  {
   "cell_type": "markdown",
   "id": "c277702e-c6a5-4690-84c4-8ea766e4c440",
   "metadata": {},
   "source": [
    "---"
   ]
  },
  {
   "cell_type": "markdown",
   "id": "d4a9fc5b-f877-47eb-9dcf-a83635e50751",
   "metadata": {},
   "source": [
    "This is basically the same as the last problem, but without limitation of 1 purchase decision over the entire array.\n",
    "\n",
    "We know that at each time the price dips, we have found the maximum achievable profit for the sub-array searched until that point, so we always sell for the current value stored in maximum profit each time that occurs."
   ]
  },
  {
   "cell_type": "code",
   "execution_count": 13,
   "id": "150ef92f-50ad-4d69-b6af-633121bd90e0",
   "metadata": {},
   "outputs": [],
   "source": [
    "def maxProfit(prices: list[int]) -> int:\n",
    "    n = len(prices)\n",
    "    i, j = 0, 1\n",
    "    max_profit, total_profit = 0, 0\n",
    "    \n",
    "    while j < n:\n",
    "        print(f\"i={i}, j={j}\", end=\" \")\n",
    "        profit = prices[j] - prices[i]\n",
    "        if profit > 0:\n",
    "            print(f\"profit={profit}, (prev)_max_profit={max_profit}\", end=\" \")\n",
    "            max_profit = max(profit, max_profit)                    \n",
    "        i = j\n",
    "        total_profit += max_profit\n",
    "        print(f\"total_profit={total_profit}\")\n",
    "        max_profit = 0\n",
    "        j += 1\n",
    "\n",
    "    total_profit += max_profit\n",
    "    return total_profit\n",
    "    "
   ]
  },
  {
   "cell_type": "code",
   "execution_count": 15,
   "id": "e3bb24d8-2de4-4d77-b952-2f1f00f90a79",
   "metadata": {},
   "outputs": [
    {
     "name": "stdout",
     "output_type": "stream",
     "text": [
      "i=0, j=1 total_profit=0\n",
      "i=1, j=2 profit=4, (prev)_max_profit=0 total_profit=4\n",
      "i=2, j=3 total_profit=4\n",
      "i=3, j=4 profit=3, (prev)_max_profit=0 total_profit=7\n",
      "i=4, j=5 total_profit=7\n"
     ]
    },
    {
     "data": {
      "text/plain": [
       "7"
      ]
     },
     "execution_count": 15,
     "metadata": {},
     "output_type": "execute_result"
    }
   ],
   "source": [
    "# Expected output: 7\n",
    "prices = [7,1,5,3,6,4]\n",
    "maxProfit(prices)"
   ]
  },
  {
   "cell_type": "code",
   "execution_count": 16,
   "id": "eebbad22-bd3b-4ecc-b8b7-018fb9e222c7",
   "metadata": {
    "scrolled": true
   },
   "outputs": [
    {
     "name": "stdout",
     "output_type": "stream",
     "text": [
      "i=0, j=1 profit=1, (prev)_max_profit=0 total_profit=1\n",
      "i=1, j=2 profit=1, (prev)_max_profit=0 total_profit=2\n",
      "i=2, j=3 profit=1, (prev)_max_profit=0 total_profit=3\n",
      "i=3, j=4 profit=1, (prev)_max_profit=0 total_profit=4\n"
     ]
    },
    {
     "data": {
      "text/plain": [
       "4"
      ]
     },
     "execution_count": 16,
     "metadata": {},
     "output_type": "execute_result"
    }
   ],
   "source": [
    "# Expected output: 4\n",
    "prices = [1,2,3,4,5]\n",
    "maxProfit(prices)"
   ]
  },
  {
   "cell_type": "markdown",
   "id": "46a9c0b9-2860-4510-aef8-7ecdda3ad007",
   "metadata": {},
   "source": [
    "Ah, I see. We actually don't even need these extra pointers - since we can buy and sell every day, it's best to just buy & sell every single day that there's a gain."
   ]
  },
  {
   "cell_type": "code",
   "execution_count": 41,
   "id": "aa536ac3-0fa3-4633-aac8-193fce58bbde",
   "metadata": {},
   "outputs": [],
   "source": [
    "def maxProfit(prices: list[int]) -> int:\n",
    "    n = len(prices)\n",
    "    i = 0\n",
    "    total_profit = 0\n",
    "    \n",
    "    while i < n - 1:\n",
    "        profit = max(prices[i+1] - prices[i], 0)\n",
    "        print(f\"i={i} profit={profit}\", end=\" \")\n",
    "        total_profit += profit\n",
    "        print(f\"total_profit={total_profit}\")\n",
    "        i += 1\n",
    "    return total_profit"
   ]
  },
  {
   "cell_type": "code",
   "execution_count": 42,
   "id": "b7125c79-216a-486c-9929-6905ba7e4a8f",
   "metadata": {},
   "outputs": [
    {
     "data": {
      "text/plain": [
       "7"
      ]
     },
     "execution_count": 42,
     "metadata": {},
     "output_type": "execute_result"
    }
   ],
   "source": [
    "# Expected output: 7\n",
    "prices = [7,1,5,3,6,4]\n",
    "maxProfit(prices)"
   ]
  },
  {
   "cell_type": "code",
   "execution_count": 43,
   "id": "89630d2e-32f6-4bd1-bde7-1f834a00855b",
   "metadata": {},
   "outputs": [
    {
     "data": {
      "text/plain": [
       "4"
      ]
     },
     "execution_count": 43,
     "metadata": {},
     "output_type": "execute_result"
    }
   ],
   "source": [
    "# Expected output: 4\n",
    "prices = [1,2,3,4,5]\n",
    "maxProfit(prices)"
   ]
  },
  {
   "cell_type": "markdown",
   "id": "8dd667e6-f172-48be-a735-7602450986da",
   "metadata": {},
   "source": [
    "## Clean version (no prints)"
   ]
  },
  {
   "cell_type": "code",
   "execution_count": 44,
   "id": "c7569946-942d-4003-b42d-6d9fa097f6f2",
   "metadata": {},
   "outputs": [],
   "source": [
    "def maxProfit(prices: list[int]) -> int:\n",
    "    n = len(prices)\n",
    "    i = 0\n",
    "    total_profit = 0\n",
    "    \n",
    "    while i < n - 1:\n",
    "        profit = max(prices[i+1] - prices[i], 0)\n",
    "        total_profit += profit\n",
    "        i += 1\n",
    "    return total_profit"
   ]
  },
  {
   "cell_type": "markdown",
   "id": "45f40fb9-385d-4876-9013-3c3f26ed3ef9",
   "metadata": {},
   "source": [
    "We have $O(n)$ time complexity and $O(1)$ space complexity."
   ]
  }
 ],
 "metadata": {
  "kernelspec": {
   "display_name": "Python 3 (ipykernel)",
   "language": "python",
   "name": "python3"
  },
  "language_info": {
   "codemirror_mode": {
    "name": "ipython",
    "version": 3
   },
   "file_extension": ".py",
   "mimetype": "text/x-python",
   "name": "python",
   "nbconvert_exporter": "python",
   "pygments_lexer": "ipython3",
   "version": "3.10.6"
  }
 },
 "nbformat": 4,
 "nbformat_minor": 5
}
