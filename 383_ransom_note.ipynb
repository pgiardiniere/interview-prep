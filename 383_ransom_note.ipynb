{
 "cells": [
  {
   "cell_type": "markdown",
   "id": "5feee8d5-d0ec-4d66-9842-93efb2f38d70",
   "metadata": {},
   "source": [
    "Given two strings `ransomNote` and `magazine`, return true if `ransomNote` can be constructed by using the letters from `magazine` and false otherwise.\n",
    "\n",
    "Each letter in `magazine` can only be used once in ransomNote."
   ]
  },
  {
   "cell_type": "markdown",
   "id": "1d420573-5474-427b-8b3a-c9f5a6d3f360",
   "metadata": {},
   "source": [
    "---"
   ]
  },
  {
   "cell_type": "markdown",
   "id": "913f6b79-c9b6-4201-92a2-37e1fb854329",
   "metadata": {},
   "source": [
    "This is almost identical to the 242_valid_anagram problem.\n",
    "\n",
    "We just need to count frequencies of letter in magazine and decrement in ransomNote. Using a dict (hash table) makes this $O(n)$ and $O(1)$ time/space complexity for the reasons discussed in 242."
   ]
  },
  {
   "cell_type": "code",
   "execution_count": 5,
   "id": "39bc21c3-1f00-40de-84ba-72812541c2d0",
   "metadata": {},
   "outputs": [],
   "source": [
    "def canConstruct(ransomNote: str, magazine: str) -> bool:\n",
    "    # Keys are letters, vals are frequencies.\n",
    "    letterFrequencies = {}\n",
    "\n",
    "    for char in magazine:\n",
    "        if char not in letterFrequencies:\n",
    "            letterFrequencies[char] = 1\n",
    "        else:\n",
    "            letterFrequencies[char] += 1\n",
    "\n",
    "    for char in ransomNote:\n",
    "        if char not in letterFrequencies or letterFrequencies[char] <= 0:\n",
    "            return False\n",
    "        else:\n",
    "            letterFrequencies[char] -= 1\n",
    "\n",
    "    return True\n"
   ]
  },
  {
   "cell_type": "code",
   "execution_count": 6,
   "id": "6092a0b3-a90d-47c9-816d-1bec21bbdaa0",
   "metadata": {},
   "outputs": [
    {
     "name": "stdout",
     "output_type": "stream",
     "text": [
      "False\n"
     ]
    }
   ],
   "source": [
    "print(canConstruct(\"a\", \"b\"))"
   ]
  },
  {
   "cell_type": "code",
   "execution_count": 7,
   "id": "695b0360-ca11-41aa-aa91-bd6cfe02139c",
   "metadata": {},
   "outputs": [
    {
     "name": "stdout",
     "output_type": "stream",
     "text": [
      "True\n"
     ]
    }
   ],
   "source": [
    "print(canConstruct(\"a\", \"a\"))"
   ]
  },
  {
   "cell_type": "code",
   "execution_count": 9,
   "id": "a991f59a-2166-47e9-8da3-a2a4059ab2a9",
   "metadata": {},
   "outputs": [
    {
     "name": "stdout",
     "output_type": "stream",
     "text": [
      "True\n"
     ]
    }
   ],
   "source": [
    "print(canConstruct(\"aa\", \"baa\"))"
   ]
  },
  {
   "cell_type": "markdown",
   "id": "8a98ca24-4fd2-4d2a-9abb-4f8b146f1ed5",
   "metadata": {},
   "source": [
    "Interesting, only beats 50% of other users implementations on leetcode. Checked solution, it's because there's an implementation that _really_ "
   ]
  },
  {
   "cell_type": "code",
   "execution_count": null,
   "id": "236db0bd-d7ee-40ba-9a99-35424cffe132",
   "metadata": {},
   "outputs": [],
   "source": []
  }
 ],
 "metadata": {
  "kernelspec": {
   "display_name": "Python 3 (ipykernel)",
   "language": "python",
   "name": "python3"
  },
  "language_info": {
   "codemirror_mode": {
    "name": "ipython",
    "version": 3
   },
   "file_extension": ".py",
   "mimetype": "text/x-python",
   "name": "python",
   "nbconvert_exporter": "python",
   "pygments_lexer": "ipython3",
   "version": "3.9.6"
  }
 },
 "nbformat": 4,
 "nbformat_minor": 5
}
