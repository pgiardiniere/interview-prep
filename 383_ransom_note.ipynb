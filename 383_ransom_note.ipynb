{
 "cells": [
  {
   "cell_type": "markdown",
   "id": "5feee8d5-d0ec-4d66-9842-93efb2f38d70",
   "metadata": {},
   "source": [
    "Given two strings `ransomNote` and `magazine`, return true if `ransomNote` can be constructed by using the letters from `magazine` and false otherwise.\n",
    "\n",
    "Each letter in `magazine` can only be used once in ransomNote."
   ]
  },
  {
   "cell_type": "markdown",
   "id": "1d420573-5474-427b-8b3a-c9f5a6d3f360",
   "metadata": {},
   "source": [
    "---"
   ]
  },
  {
   "cell_type": "code",
   "execution_count": 2,
   "id": "39bc21c3-1f00-40de-84ba-72812541c2d0",
   "metadata": {},
   "outputs": [],
   "source": [
    "def canConstruct(ransomNote: str, magazine: str) -> bool:\n",
    "    pass"
   ]
  },
  {
   "cell_type": "code",
   "execution_count": null,
   "id": "6092a0b3-a90d-47c9-816d-1bec21bbdaa0",
   "metadata": {},
   "outputs": [],
   "source": []
  }
 ],
 "metadata": {
  "kernelspec": {
   "display_name": "Python 3 (ipykernel)",
   "language": "python",
   "name": "python3"
  },
  "language_info": {
   "codemirror_mode": {
    "name": "ipython",
    "version": 3
   },
   "file_extension": ".py",
   "mimetype": "text/x-python",
   "name": "python",
   "nbconvert_exporter": "python",
   "pygments_lexer": "ipython3",
   "version": "3.9.6"
  }
 },
 "nbformat": 4,
 "nbformat_minor": 5
}
