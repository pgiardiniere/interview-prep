{
 "cells": [
  {
   "cell_type": "markdown",
   "id": "edd16a6e-669a-4e3a-8d2b-71d70c7937e6",
   "metadata": {},
   "source": [
    "You are given the heads of two sorted linked lists `list1` and `list2`.\n",
    "\n",
    "Merge the two lists into one **sorted** list. The list should be made by splicing together the nodes of the first two lists.\n",
    "\n",
    "Return the head of the merged linked list."
   ]
  },
  {
   "cell_type": "code",
   "execution_count": 1,
   "id": "aae547ff-9afe-4b5f-8665-5a4e19f911cc",
   "metadata": {},
   "outputs": [
    {
     "ename": "NameError",
     "evalue": "name 'Optional' is not defined",
     "output_type": "error",
     "traceback": [
      "\u001b[1;31m---------------------------------------------------------------------------\u001b[0m",
      "\u001b[1;31mNameError\u001b[0m                                 Traceback (most recent call last)",
      "Cell \u001b[1;32mIn[1], line 1\u001b[0m\n\u001b[1;32m----> 1\u001b[0m \u001b[38;5;28;01mclass\u001b[39;00m \u001b[38;5;21;01mSolution\u001b[39;00m:\n\u001b[0;32m      2\u001b[0m     \u001b[38;5;28;01mdef\u001b[39;00m \u001b[38;5;21mmergeTwoLists\u001b[39m(\u001b[38;5;28mself\u001b[39m, list1: Optional[ListNode], list2: Optional[ListNode]) \u001b[38;5;241m-\u001b[39m\u001b[38;5;241m>\u001b[39m Optional[ListNode]:\n\u001b[0;32m      3\u001b[0m         merged \u001b[38;5;241m=\u001b[39m ListNode()\n",
      "Cell \u001b[1;32mIn[1], line 2\u001b[0m, in \u001b[0;36mSolution\u001b[1;34m()\u001b[0m\n\u001b[0;32m      1\u001b[0m \u001b[38;5;28;01mclass\u001b[39;00m \u001b[38;5;21;01mSolution\u001b[39;00m:\n\u001b[1;32m----> 2\u001b[0m     \u001b[38;5;28;01mdef\u001b[39;00m \u001b[38;5;21mmergeTwoLists\u001b[39m(\u001b[38;5;28mself\u001b[39m, list1: \u001b[43mOptional\u001b[49m[ListNode], list2: Optional[ListNode]) \u001b[38;5;241m-\u001b[39m\u001b[38;5;241m>\u001b[39m Optional[ListNode]:\n\u001b[0;32m      3\u001b[0m         merged \u001b[38;5;241m=\u001b[39m ListNode()\n\u001b[0;32m      5\u001b[0m         \u001b[38;5;28;01mwhile\u001b[39;00m list1\u001b[38;5;241m.\u001b[39mnext \u001b[38;5;129;01mor\u001b[39;00m list2\u001b[38;5;241m.\u001b[39mnext:\n",
      "\u001b[1;31mNameError\u001b[0m: name 'Optional' is not defined"
     ]
    }
   ],
   "source": [
    "class Solution:\n",
    "    def mergeTwoLists(self, list1: Optional[ListNode], list2: Optional[ListNode]) -> Optional[ListNode]:\n",
    "        merged = ListNode()\n",
    "\n",
    "        while list1.next or list2.next:\n",
    "            print(list1.next.val, list2.next.val)\n",
    "            if list1.next and list2.next:\n",
    "                if list1.next.val >= list2.next.val:\n",
    "                    merged.next = list1.next\n",
    "                    list1 = list1.next\n",
    "                else:\n",
    "                    merged.next = list2.next\n",
    "                    list2 = list2.next\n",
    "                merged = merged.next\n",
    "            \n",
    "            elif list1.next is None:\n",
    "                merged.next = list2.next\n",
    "                list2 = list2.next\n",
    "            else:\n",
    "                merged.next = list1.next\n",
    "                list1 = list1.next\n",
    "\n",
    "        return merged"
   ]
  },
  {
   "cell_type": "code",
   "execution_count": null,
   "id": "241b3965-9675-4477-a874-7f938c645f16",
   "metadata": {},
   "outputs": [],
   "source": [
    "def mergeTwoLists(self, list1: Optional[ListNode], list2: Optional[ListNode]) -> Optional[ListNode]:\n",
    "    merged: ListNode = ListNode()\n",
    "\n",
    "    if list1 is None and list2 is not None:\n",
    "        return list2\n",
    "    if list2 is None and list1 is not None:\n",
    "        return list1\n",
    "\n",
    "    if list1.val >= list2.val:\n",
    "        merged = list1\n",
    "        list1 = list1.next\n",
    "    else:\n",
    "        merged = list2\n",
    "        list2 = list2.next\n",
    "    \n",
    "    while list1.next and list2.next:\n",
    "        print(list1.next.val, list2.next.val)\n",
    "        if list1.next and list2.next:\n",
    "            if list1.next.val >= list2.next.val:\n",
    "                merged.next = list1.next\n",
    "                list1 = list1.next\n",
    "            else:\n",
    "                merged.next = list2.next\n",
    "                list2 = list2.next\n",
    "            merged = merged.next\n",
    "        \n",
    "    # At end of main loop, either list1 or list2 may still have entries to append to merged's end.\n",
    "    while list1.next:\n",
    "        merged.next = list1.next\n",
    "        list1 = list1.next\n",
    "        merged = merged.next\n",
    "    \n",
    "    while list2.next:\n",
    "        merged.next = list2.next\n",
    "        list2 = list2.next\n",
    "        merged = merged.next\n",
    "\n",
    "    return merged"
   ]
  }
 ],
 "metadata": {
  "kernelspec": {
   "display_name": "Python 3 (ipykernel)",
   "language": "python",
   "name": "python3"
  },
  "language_info": {
   "codemirror_mode": {
    "name": "ipython",
    "version": 3
   },
   "file_extension": ".py",
   "mimetype": "text/x-python",
   "name": "python",
   "nbconvert_exporter": "python",
   "pygments_lexer": "ipython3",
   "version": "3.10.6"
  }
 },
 "nbformat": 4,
 "nbformat_minor": 5
}
