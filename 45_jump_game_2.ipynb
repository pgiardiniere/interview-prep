{
 "cells": [
  {
   "cell_type": "markdown",
   "id": "ac0cd7ce-59f5-4361-9a4c-953244c6cf3c",
   "metadata": {},
   "source": [
    "You are given a **0-indexed** array of integers `nums` of length `n`. You are initially positioned at `nums[0]`.\n",
    "\n",
    "Each element `nums[i]` represents the maximum length of a forward jump from index `i`. In other words, if you are at `nums[i]`, you can jump to any `nums[i + j]` where:\n",
    "\n",
    "* `0 <= j <= nums[i]`, and\n",
    "* `i + j < n`\n",
    "\n",
    "Return the minimum number of jumps to reach `nums[n - 1]`. The test cases are generated such that you can reach `nums[n - 1]`."
   ]
  },
  {
   "cell_type": "markdown",
   "id": "0286b448-55b2-43fc-8025-86773d1b2182",
   "metadata": {},
   "source": [
    "---"
   ]
  },
  {
   "cell_type": "markdown",
   "id": "7c151f1a-49ee-42f2-8931-a7272978a5ad",
   "metadata": {},
   "source": [
    "A greedy approach won't work here, as we can't consider parts of the solution space that might be marginaly optimal but globally suboptimal. We instead conduct search using a dynamic programming approach.\n",
    "\n",
    "In intermediate list $L$ we store the minimum jumps required to reach to each index $i \\in L$, where $0 < i < n - 1$. The solution we return is stored in $L[n-1]$.\n",
    "\n",
    "At the start we have no information as to how few steps it takes, so we initialize each position to infinity steps to reach.\n",
    "\n",
    "We begin at position 0, where the optimal number of steps to reach it is given as $0$, which is the base case optimal value.\n",
    "\n",
    "Further optimal values can be given by the recurrence:\n",
    "\n"
   ]
  },
  {
   "cell_type": "code",
   "execution_count": 2,
   "id": "f1643444-908f-4378-b4a3-d468dc604a33",
   "metadata": {},
   "outputs": [],
   "source": [
    "import numpy as np\n",
    "\n",
    "def jump(nums: list[int]) -> int:\n",
    "    n = len(nums)\n",
    "    L = [np.inf] * n\n",
    "    L[0] = 0\n",
    "    \n",
    "    for i in range(n):\n",
    "        for j in range(n-1, -1, -1):\n",
    "            \n",
    "        "
   ]
  },
  {
   "cell_type": "code",
   "execution_count": null,
   "id": "f617a173-f8c4-4e58-9080-656661f27c7f",
   "metadata": {},
   "outputs": [],
   "source": []
  }
 ],
 "metadata": {
  "kernelspec": {
   "display_name": "Python 3 (ipykernel)",
   "language": "python",
   "name": "python3"
  },
  "language_info": {
   "codemirror_mode": {
    "name": "ipython",
    "version": 3
   },
   "file_extension": ".py",
   "mimetype": "text/x-python",
   "name": "python",
   "nbconvert_exporter": "python",
   "pygments_lexer": "ipython3",
   "version": "3.10.6"
  }
 },
 "nbformat": 4,
 "nbformat_minor": 5
}
