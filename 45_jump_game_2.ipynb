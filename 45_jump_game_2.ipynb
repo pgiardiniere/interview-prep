{
 "cells": [
  {
   "cell_type": "markdown",
   "id": "ac0cd7ce-59f5-4361-9a4c-953244c6cf3c",
   "metadata": {},
   "source": [
    "You are given a **0-indexed** array of integers `nums` of length `n`. You are initially positioned at `nums[0]`.\n",
    "\n",
    "Each element `nums[i]` represents the maximum length of a forward jump from index `i`. In other words, if you are at `nums[i]`, you can jump to any `nums[i + j]` where:\n",
    "\n",
    "* `0 <= j <= nums[i]`, and\n",
    "* `i + j < n`\n",
    "\n",
    "Return the minimum number of jumps to reach `nums[n - 1]`. The test cases are generated such that you can reach `nums[n - 1]`."
   ]
  },
  {
   "cell_type": "markdown",
   "id": "0286b448-55b2-43fc-8025-86773d1b2182",
   "metadata": {},
   "source": [
    "---"
   ]
  },
  {
   "cell_type": "markdown",
   "id": "7c151f1a-49ee-42f2-8931-a7272978a5ad",
   "metadata": {},
   "source": [
    "A greedy approach won't work here, as we can't consider parts of the solution space that might be marginaly optimal but globally suboptimal. We instead conduct search using a dynamic programming approach.\n",
    "\n",
    "In intermediate list $L$ we store the minimum jumps required to reach to each index $i \\in L$, where $0 < i < n - 1$. The solution we return is stored in $L[n-1]$.\n",
    "\n",
    "At the start we have no information as to how few steps it takes, so we initialize each position to infinity steps to reach.\n",
    "\n",
    "We begin at position 0, where the optimal number of steps to reach it is given as $0$, which is the base case optimal value.\n",
    "\n",
    "With each step forward in the input array, we grab the jumpable range from current index $(j$, where $j=L[i])$ and check the range $L[i]$ to $L[i+j]$ where $j = L[i]$.\n",
    "\n",
    "If the number of steps from $(L[i] + 1) < L[i+1]$\n"
   ]
  },
  {
   "cell_type": "code",
   "execution_count": 27,
   "id": "f1643444-908f-4378-b4a3-d468dc604a33",
   "metadata": {},
   "outputs": [],
   "source": [
    "import numpy as np\n",
    "\n",
    "def jump(nums: list[int]) -> int:\n",
    "    n = len(nums)\n",
    "    L = [np.inf] * n\n",
    "    L[0] = 0\n",
    "\n",
    "    for i in range(n):\n",
    "        distance = nums[i]\n",
    "        num_hops = L[i] + 1\n",
    "        print(L)\n",
    "        for j in range(1, distance + 1):\n",
    "            print(f\"i={i}, j={j}, num_hops={num_hops}\")\n",
    "            if num_hops < L[i+j]:\n",
    "                L[i + j] = num_hops\n",
    "    return L"
   ]
  },
  {
   "cell_type": "code",
   "execution_count": 29,
   "id": "f617a173-f8c4-4e58-9080-656661f27c7f",
   "metadata": {},
   "outputs": [
    {
     "name": "stdout",
     "output_type": "stream",
     "text": [
      "[0, inf, inf, inf, inf]\n",
      "i=0, j=1, num_hops=1\n",
      "[0, 1, inf, inf, inf]\n",
      "i=1, j=1, num_hops=2\n",
      "i=1, j=2, num_hops=2\n",
      "[0, 1, 2, 2, inf]\n",
      "i=2, j=1, num_hops=3\n",
      "[0, 1, 2, 2, inf]\n",
      "i=3, j=1, num_hops=3\n",
      "[0, 1, 2, 2, 3]\n"
     ]
    },
    {
     "data": {
      "text/plain": [
       "[0, 1, 2, 2, 3]"
      ]
     },
     "execution_count": 29,
     "metadata": {},
     "output_type": "execute_result"
    }
   ],
   "source": [
    "nums = [1, 2, 1, 1, 0]\n",
    "min_jumps = jump(nums)\n",
    "min_jumps\n"
   ]
  },
  {
   "cell_type": "markdown",
   "id": "239796c6-7001-4592-974b-bee7c57b4e8c",
   "metadata": {},
   "source": [
    "With unconstrained values for each $nums[i]$ it would simply be $O(n^2)$, since in the worst case you'll probe to the end of list every time (you'll have an early stop condition to make sure you're always within array bounds, i.e.\n",
    "```python\n",
    "for j in range(1, max(distance + 1, len(nums)-i)):\n",
    "```\n",
    ">Technically, you could argue given that the problem definition has $0 <= nums[i] <= 1000$, the worst case runtime would be $T(n) = 1000n \\in O(n)$, but in general (without the constraint) the algorithm is certainly quadratic.\n",
    "\n",
    "Space complexity is $O(n)$, since we have a solution list containing all intermediate hop values that is the same length as the input matrix."
   ]
  },
  {
   "cell_type": "code",
   "execution_count": null,
   "id": "79e93689-d770-43ef-9943-01d411dcc815",
   "metadata": {},
   "outputs": [],
   "source": []
  }
 ],
 "metadata": {
  "kernelspec": {
   "display_name": "Python 3 (ipykernel)",
   "language": "python",
   "name": "python3"
  },
  "language_info": {
   "codemirror_mode": {
    "name": "ipython",
    "version": 3
   },
   "file_extension": ".py",
   "mimetype": "text/x-python",
   "name": "python",
   "nbconvert_exporter": "python",
   "pygments_lexer": "ipython3",
   "version": "3.10.6"
  }
 },
 "nbformat": 4,
 "nbformat_minor": 5
}
