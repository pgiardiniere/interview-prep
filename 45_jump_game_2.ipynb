{
 "cells": [
  {
   "cell_type": "markdown",
   "id": "ac0cd7ce-59f5-4361-9a4c-953244c6cf3c",
   "metadata": {},
   "source": [
    "You are given a **0-indexed** array of integers `nums` of length `n`. You are initially positioned at `nums[0]`.\n",
    "\n",
    "Each element `nums[i]` represents the maximum length of a forward jump from index `i`. In other words, if you are at `nums[i]`, you can jump to any `nums[i + j]` where:\n",
    "\n",
    "* `0 <= j <= nums[i]`, and\n",
    "* `i + j < n`\n",
    "\n",
    "Return the minimum number of jumps to reach `nums[n - 1]`. The test cases are generated such that you can reach `nums[n - 1]`."
   ]
  },
  {
   "cell_type": "code",
   "execution_count": null,
   "id": "f5382a1e-96ef-40f1-aa62-894e5e5b3e3b",
   "metadata": {},
   "outputs": [],
   "source": []
  }
 ],
 "metadata": {
  "kernelspec": {
   "display_name": "Python 3 (ipykernel)",
   "language": "python",
   "name": "python3"
  },
  "language_info": {
   "codemirror_mode": {
    "name": "ipython",
    "version": 3
   },
   "file_extension": ".py",
   "mimetype": "text/x-python",
   "name": "python",
   "nbconvert_exporter": "python",
   "pygments_lexer": "ipython3",
   "version": "3.10.6"
  }
 },
 "nbformat": 4,
 "nbformat_minor": 5
}
