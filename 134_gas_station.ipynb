{
 "cells": [
  {
   "cell_type": "markdown",
   "id": "84d2deff-95a9-459c-876f-8160a440bee6",
   "metadata": {},
   "source": [
    "There are `n` gas stations along a circular route, where the amount of gas at the `i`th station is `gas[i]`.\n",
    "\n",
    "You have a car with an unlimited gas tank and it costs `cost[i]` of gas to travel from the `i`th station to its next `(i + 1)`th station. You begin the journey with an empty tank at one of the gas stations.\n",
    "\n",
    "Given two integer arrays gas and cost, return the starting gas station's index if you can travel around the circuit once in the clockwise direction, otherwise return `-1`. If there exists a solution, it is guaranteed to be unique"
   ]
  },
  {
   "cell_type": "code",
   "execution_count": 3,
   "id": "8cbe30ad-c222-48cf-8f57-f7e8c8fc0f1b",
   "metadata": {},
   "outputs": [],
   "source": [
    "from typing import List\n",
    "\n",
    "# Greedy approach? Always start at the gas station with highest gas?\n",
    "def canCompleteCircuit(gas: List[int], cost: List[int]) -> int:\n",
    "    pass"
   ]
  },
  {
   "cell_type": "markdown",
   "id": "4ef60582-123b-4588-95f5-490f9fcb08a6",
   "metadata": {},
   "source": [
    "Well, the simplest approach is to just try and start from each index. This would be $O(n^2)$."
   ]
  },
  {
   "cell_type": "code",
   "execution_count": 15,
   "id": "22a23760-e32b-4cf5-92d1-f0384cb521e4",
   "metadata": {},
   "outputs": [],
   "source": [
    "def canCompleteCircuit(gas: List[int], cost: List[int]) -> int:\n",
    "    n = len(gas)\n",
    "\n",
    "    for i in range(n):\n",
    "        j = (i + 1) % n\n",
    "        current_gas = 0\n",
    "        while j != i:\n",
    "            current_gas += gas[j]\n",
    "            current_gas -= cost[(j + 1) % n]\n",
    "            print(f'i={i}, j={j}, current_gas={current_gas}')\n",
    "            if current_gas <= 0:\n",
    "                break;\n",
    "            j = (j + 1) % n\n",
    "        print()\n",
    "        if j == i:\n",
    "            return j+1\n",
    "    return -1\n"
   ]
  },
  {
   "cell_type": "code",
   "execution_count": 16,
   "id": "a43e37b9-bf11-4560-8f99-bdf81c78b28c",
   "metadata": {},
   "outputs": [
    {
     "name": "stdout",
     "output_type": "stream",
     "text": [
      "i=0, j=1, current_gas=-3\n",
      "\n",
      "i=1, j=2, current_gas=2\n",
      "i=1, j=3, current_gas=4\n",
      "i=1, j=4, current_gas=6\n",
      "i=1, j=0, current_gas=3\n",
      "\n"
     ]
    },
    {
     "data": {
      "text/plain": [
       "True"
      ]
     },
     "execution_count": 16,
     "metadata": {},
     "output_type": "execute_result"
    }
   ],
   "source": [
    "gas=[1,2,3,4,5]\n",
    "cost=[3,4,5,1,2]\n",
    "canCompleteCircuit(gas, cost)"
   ]
  },
  {
   "cell_type": "code",
   "execution_count": null,
   "id": "a23f4ff5-2e3d-4212-9831-b1d55ae2dad1",
   "metadata": {},
   "outputs": [],
   "source": []
  }
 ],
 "metadata": {
  "kernelspec": {
   "display_name": "Python 3 (ipykernel)",
   "language": "python",
   "name": "python3"
  },
  "language_info": {
   "codemirror_mode": {
    "name": "ipython",
    "version": 3
   },
   "file_extension": ".py",
   "mimetype": "text/x-python",
   "name": "python",
   "nbconvert_exporter": "python",
   "pygments_lexer": "ipython3",
   "version": "3.9.6"
  }
 },
 "nbformat": 4,
 "nbformat_minor": 5
}
