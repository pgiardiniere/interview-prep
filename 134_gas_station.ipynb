{
 "cells": [
  {
   "cell_type": "markdown",
   "id": "84d2deff-95a9-459c-876f-8160a440bee6",
   "metadata": {},
   "source": [
    "There are `n` gas stations along a circular route, where the amount of gas at the `i`th station is `gas[i]`.\n",
    "\n",
    "You have a car with an unlimited gas tank and it costs `cost[i]` of gas to travel from the `i`th station to its next `(i + 1)`th station. You begin the journey with an empty tank at one of the gas stations.\n",
    "\n",
    "Given two integer arrays gas and cost, return the starting gas station's index if you can travel around the circuit once in the clockwise direction, otherwise return `-1`. If there exists a solution, it is guaranteed to be unique"
   ]
  },
  {
   "cell_type": "code",
   "execution_count": null,
   "id": "e666df0c-5f0c-4d58-87c7-097a2a31e063",
   "metadata": {},
   "outputs": [],
   "source": [
    "class Solution:\n",
    "    def canCompleteCircuit(self, gas: List[int], cost: List[int]) -> int:\n",
    "        n = len(gas)\n",
    "        curGas = 0\n",
    "        totalGas = 0\n",
    "        startPoint = 0\n",
    "\n",
    "        for i in range(n):\n",
    "            curGas += gas[i] - cost[i]\n",
    "            totalGas += gas[i] - cost[i]\n",
    "            \n",
    "            if curGas < 0:\n",
    "                curGas = 0\n",
    "                startPoint = i + 1\n",
    "\n",
    "        return startPoint if totalGas >= 0 else -1"
   ]
  }
 ],
 "metadata": {
  "kernelspec": {
   "display_name": "Python 3 (ipykernel)",
   "language": "python",
   "name": "python3"
  },
  "language_info": {
   "codemirror_mode": {
    "name": "ipython",
    "version": 3
   },
   "file_extension": ".py",
   "mimetype": "text/x-python",
   "name": "python",
   "nbconvert_exporter": "python",
   "pygments_lexer": "ipython3",
   "version": "3.10.6"
  }
 },
 "nbformat": 4,
 "nbformat_minor": 5
}
