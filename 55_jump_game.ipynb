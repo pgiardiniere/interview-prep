{
 "cells": [
  {
   "cell_type": "markdown",
   "id": "e142c3a1-c766-4df6-a036-c6d6d5b9d5da",
   "metadata": {},
   "source": [
    "You are given an integer array `nums`. You are initially positioned at the array's first index, and each element in the array represents your maximum jump length at that position.\n",
    "\n",
    "Return `true` if you can reach the last index, or `false` otherwise."
   ]
  },
  {
   "cell_type": "markdown",
   "id": "f05e8e48-b74f-4358-8ce4-927d4bc063af",
   "metadata": {},
   "source": [
    "We take a greedy approach first, although probably time complexity is not so good..."
   ]
  },
  {
   "cell_type": "code",
   "execution_count": null,
   "id": "743b7000-41b2-4825-88df-045f3d067085",
   "metadata": {},
   "outputs": [],
   "source": [
    "def canJump(nums: list[int]) -> bool:\n",
    "    distance = nums[0]\n",
    "    while distance > 0:\n",
    "        \n",
    "    "
   ]
  }
 ],
 "metadata": {
  "kernelspec": {
   "display_name": "Python 3 (ipykernel)",
   "language": "python",
   "name": "python3"
  },
  "language_info": {
   "codemirror_mode": {
    "name": "ipython",
    "version": 3
   },
   "file_extension": ".py",
   "mimetype": "text/x-python",
   "name": "python",
   "nbconvert_exporter": "python",
   "pygments_lexer": "ipython3",
   "version": "3.9.6"
  }
 },
 "nbformat": 4,
 "nbformat_minor": 5
}
