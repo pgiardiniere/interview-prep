{
 "cells": [
  {
   "cell_type": "markdown",
   "id": "e142c3a1-c766-4df6-a036-c6d6d5b9d5da",
   "metadata": {},
   "source": [
    "You are given an integer array `nums`. You are initially positioned at the array's first index, and each element in the array represents your maximum jump length at that position.\n",
    "\n",
    "Return `true` if you can reach the last index, or `false` otherwise."
   ]
  },
  {
   "cell_type": "markdown",
   "id": "56bb0603-9e6b-484b-99a0-823601c1df15",
   "metadata": {},
   "source": [
    "---"
   ]
  },
  {
   "cell_type": "markdown",
   "id": "f05e8e48-b74f-4358-8ce4-927d4bc063af",
   "metadata": {},
   "source": [
    "Since we're only concerned with reaching the end of the array in any amount of jumps, we can take a greedy approach, which has $O(n)$ time complexity and $O(1)$ space complexity.\n",
    "\n",
    "We can also solve this using Dynamic Programming, but with $O(n^2)$ time complexity and $O(n)$ space complxity. The greedy solution is more computationally efficient, but the dynamic programming approach is more flexible - for example, if we were also concerned with finding the shortest or longest route to the end, we would likely prefer a Dynamic Programming approach, as the Greedy approach cannot guaruntee a globally optimal solution for such a problem."
   ]
  },
  {
   "cell_type": "markdown",
   "id": "c569e5ff-70e1-4cc7-8307-70d4bec05132",
   "metadata": {},
   "source": [
    "---"
   ]
  },
  {
   "cell_type": "markdown",
   "id": "229e9b5b-849f-457d-86b2-ab93b63c61e4",
   "metadata": {},
   "source": [
    "## Dynamic Solution"
   ]
  },
  {
   "cell_type": "markdown",
   "id": "64835e9b-8f04-4924-96d2-126791176d21",
   "metadata": {},
   "source": [
    "First, let's consider the **Dynamic Programming** approach, as it's simple:"
   ]
  },
  {
   "cell_type": "code",
   "execution_count": 5,
   "id": "743b7000-41b2-4825-88df-045f3d067085",
   "metadata": {},
   "outputs": [],
   "source": [
    "def canJump(nums: list[int]) -> bool:\n",
    "    n = len(nums)\n",
    "    # Setup: We don't know whether indices are reachable except for the \n",
    "    # first index, which must be reachable by problem definition.\n",
    "    is_reachable = [False] * n\n",
    "    is_reachable[0] = True\n",
    "\n",
    "    # Determine whether each new index is reachable from any of the prior reachable indices:\n",
    "    for i in range(n):\n",
    "        for j in range(i-1, -1, -1):\n",
    "            if is_reachable[j] and j + nums[j] >= i:\n",
    "                is_reachable[i] = True\n",
    "                break  # Since we aren't concerned with optimal routes, proceed to next index once any fit is found.\n",
    "    return is_reachable[-1]\n"
   ]
  },
  {
   "cell_type": "code",
   "execution_count": 6,
   "id": "82ef595d-7dbf-42bb-ba9d-615cb9476c88",
   "metadata": {},
   "outputs": [
    {
     "data": {
      "text/plain": [
       "True"
      ]
     },
     "execution_count": 6,
     "metadata": {},
     "output_type": "execute_result"
    }
   ],
   "source": [
    "# Test:\n",
    "nums = [2,3,1,1,4]\n",
    "canJump(nums)"
   ]
  },
  {
   "cell_type": "markdown",
   "id": "4a18683a-15fa-4973-88d8-1036d7f83a7d",
   "metadata": {},
   "source": [
    "We iterate linearly through list. In the inner loop, we iterate backwards from the previous index `i-1` to starting index `0`, and at each index check whether the current index `i` is reachable from any prior reachable position. We return the value stored at the final index of is_reachable, since that's the one we are concerned with."
   ]
  },
  {
   "cell_type": "markdown",
   "id": "77c047a4-9696-4318-ba09-f48bd2f0e996",
   "metadata": {},
   "source": [
    "## Greedy Solution"
   ]
  },
  {
   "cell_type": "markdown",
   "id": "588afe44-23c7-411c-a1dd-8dce53b49c64",
   "metadata": {},
   "source": [
    "As you can guess by the above solution, it doesn't solve the problem being asked in the optimal way, it stores too much information. We really only need to keep track of whether the highest reachable index lies at or beyond `n` (the length of the input list).\n",
    "\n",
    "Since we have only non-negative jumps occurring (all jumps >=0) and jumps can be for all intermediate nodes (between its max and all intermediaries) and we can use the following greedy approach:"
   ]
  },
  {
   "cell_type": "code",
   "execution_count": 8,
   "id": "1afb96e2-b961-4ccc-b499-33cdd1caa9ab",
   "metadata": {},
   "outputs": [],
   "source": [
    "def canJump(nums: list[int]) -> bool:\n",
    "    n = len(nums)\n",
    "    max_reachable = 0\n",
    "\n",
    "    for i in range(n):\n",
    "        if i > max_reachable:\n",
    "            return False\n",
    "        max_reachable = max(max_reachable, i + nums[i])\n",
    "    \n",
    "    return True if max_reachable >= i else False\n"
   ]
  },
  {
   "cell_type": "markdown",
   "id": "3ada6a53-a68a-4083-9eef-7420e057086c",
   "metadata": {},
   "source": [
    "We only need to iterate through the list once, and only store a few constants to solve the problem, so we have $O(n)$ time complexity and $O(1)$ space complexity. "
   ]
  }
 ],
 "metadata": {
  "kernelspec": {
   "display_name": "Python 3 (ipykernel)",
   "language": "python",
   "name": "python3"
  },
  "language_info": {
   "codemirror_mode": {
    "name": "ipython",
    "version": 3
   },
   "file_extension": ".py",
   "mimetype": "text/x-python",
   "name": "python",
   "nbconvert_exporter": "python",
   "pygments_lexer": "ipython3",
   "version": "3.10.6"
  }
 },
 "nbformat": 4,
 "nbformat_minor": 5
}
