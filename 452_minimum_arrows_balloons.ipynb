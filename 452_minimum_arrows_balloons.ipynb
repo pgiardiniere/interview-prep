{
 "cells": [
  {
   "cell_type": "markdown",
   "id": "f4212b25-3b3e-43f6-8326-1a8079f3a313",
   "metadata": {},
   "source": [
    "There are some spherical balloons taped onto a flat wall that represents the XY-plane. The balloons are represented as a 2D integer array `points` where `points[i] = [x_start, x_end]` denotes a balloon whose horizontal diameter stretches between xstart and xend. You do not know the exact y-coordinates of the balloons.\n",
    "\n",
    "Arrows can be shot up directly vertically (in the positive y-direction) from different points along the x-axis. A balloon with $x_{start}$ and $x_{end}$ is burst by an arrow shot at $x$ if $x_{start} \\le x \\le x_{end}$. There is no limit to the number of arrows that can be shot. A shot arrow keeps traveling up infinitely, bursting any balloons in its path.\n",
    "\n",
    "Given the array points, return the minimum number of arrows that must be shot to burst all balloons.\n",
    "\n",
    "Constraints:\n",
    "\n",
    "* $1 \\le$ `points.length` $\\le 105$\n",
    "* `points[i].length == 2`\n",
    "* $-231 \\le x_{start} < x_{end} <= 231 - 1$\n"
   ]
  },
  {
   "cell_type": "markdown",
   "id": "33db60b3-c4c6-4732-b5c3-fe0f7806f637",
   "metadata": {},
   "source": [
    "---"
   ]
  },
  {
   "cell_type": "markdown",
   "id": "10656c24-6445-40e6-9c4f-d2c23a26a64f",
   "metadata": {},
   "source": [
    "Oh, so this is just space invaders, but shots pierce multiple targets. It doesn't matter which one occurs first (y plane), all that matters is we're looking for shots which pierce the greatest number of targets such that we minimize total shots taken (arrows used)."
   ]
  },
  {
   "cell_type": "markdown",
   "id": "6d18dfb1-bb32-444d-a8cc-69775634b0f8",
   "metadata": {},
   "source": [
    "A greedy strategy should work here. At each iteration, we find the shot which pierces the maximum number of targets. Repeat this procedure until all targets are removed."
   ]
  },
  {
   "cell_type": "code",
   "execution_count": 3,
   "id": "c89b04c5-d173-4e89-b058-2e75f3a49fb0",
   "metadata": {},
   "outputs": [],
   "source": [
    "def findMinArrowShots(points: list[list[int]]) -> int:\n",
    "    pass"
   ]
  },
  {
   "cell_type": "code",
   "execution_count": 4,
   "id": "d9cc2973-9389-4601-aaa7-c101a42b36cb",
   "metadata": {},
   "outputs": [],
   "source": [
    "points = [[10,16],[2,8],[1,6],[7,12]]"
   ]
  },
  {
   "cell_type": "markdown",
   "id": "90d1a00b-398e-47b4-abe9-5ad20bd68fa1",
   "metadata": {},
   "source": [
    "Since we have the 3rd constraint, we can expand each point (x_start, x_end) into "
   ]
  },
  {
   "cell_type": "code",
   "execution_count": 8,
   "id": "c79d3b5a-4f45-4c23-a3e4-a3b9e8c14180",
   "metadata": {},
   "outputs": [],
   "source": [
    "import numpy as np"
   ]
  },
  {
   "cell_type": "code",
   "execution_count": 9,
   "id": "8c24eaee-fabb-4f07-bcd8-1d2af973aba0",
   "metadata": {},
   "outputs": [
    {
     "name": "stdout",
     "output_type": "stream",
     "text": [
      "[10, 16]\n",
      "[2, 8]\n",
      "[1, 6]\n",
      "[7, 12]\n"
     ]
    }
   ],
   "source": [
    "for point in points:\n",
    "    print(point)"
   ]
  },
  {
   "cell_type": "code",
   "execution_count": 12,
   "id": "9693fa3e-2550-415e-8caa-66445d43fd8f",
   "metadata": {},
   "outputs": [],
   "source": [
    "x = np.array(points)"
   ]
  },
  {
   "cell_type": "code",
   "execution_count": 13,
   "id": "60d04601-9598-4629-bf99-282d599502a5",
   "metadata": {},
   "outputs": [
    {
     "data": {
      "text/plain": [
       "array([[10, 16],\n",
       "       [ 2,  8],\n",
       "       [ 1,  6],\n",
       "       [ 7, 12]])"
      ]
     },
     "execution_count": 13,
     "metadata": {},
     "output_type": "execute_result"
    }
   ],
   "source": [
    "x"
   ]
  },
  {
   "cell_type": "code",
   "execution_count": 15,
   "id": "2adb109d-54cd-468b-845d-60075e105ae3",
   "metadata": {},
   "outputs": [
    {
     "data": {
      "text/plain": [
       "array([10, 16])"
      ]
     },
     "execution_count": 15,
     "metadata": {},
     "output_type": "execute_result"
    }
   ],
   "source": [
    "x[0]"
   ]
  },
  {
   "cell_type": "code",
   "execution_count": 16,
   "id": "a34b0c65-3139-48c0-b456-2eaf7a94a671",
   "metadata": {},
   "outputs": [
    {
     "data": {
      "text/plain": [
       "range(10, 16)"
      ]
     },
     "execution_count": 16,
     "metadata": {},
     "output_type": "execute_result"
    }
   ],
   "source": [
    "range(10, 16)"
   ]
  },
  {
   "cell_type": "code",
   "execution_count": 18,
   "id": "2a8549e7-f35d-4a8e-b026-7e1510a71dbc",
   "metadata": {},
   "outputs": [
    {
     "data": {
      "text/plain": [
       "[10, 11, 12, 13, 14, 15, 16]"
      ]
     },
     "execution_count": 18,
     "metadata": {},
     "output_type": "execute_result"
    }
   ],
   "source": [
    "[*range(10, 16+1)]"
   ]
  },
  {
   "cell_type": "code",
   "execution_count": 19,
   "id": "a862af8b-03d0-40b4-92e4-e140f4b25201",
   "metadata": {},
   "outputs": [
    {
     "data": {
      "text/plain": [
       "True"
      ]
     },
     "execution_count": 19,
     "metadata": {},
     "output_type": "execute_result"
    }
   ],
   "source": [
    "12 in range(10, 16)"
   ]
  },
  {
   "cell_type": "code",
   "execution_count": 20,
   "id": "6c90242e-0c05-4a6a-8803-47da576cd617",
   "metadata": {},
   "outputs": [
    {
     "data": {
      "text/plain": [
       "True"
      ]
     },
     "execution_count": 20,
     "metadata": {},
     "output_type": "execute_result"
    }
   ],
   "source": [
    "14 in range(10, 16)"
   ]
  },
  {
   "cell_type": "code",
   "execution_count": 21,
   "id": "3a2e0616-54b9-4da4-a12a-754edd9f9df5",
   "metadata": {},
   "outputs": [
    {
     "data": {
      "text/plain": [
       "False"
      ]
     },
     "execution_count": 21,
     "metadata": {},
     "output_type": "execute_result"
    }
   ],
   "source": [
    "9 in range(10, 16)"
   ]
  },
  {
   "cell_type": "code",
   "execution_count": 22,
   "id": "a877c67a-5a18-4180-a083-57edcbf3767e",
   "metadata": {},
   "outputs": [
    {
     "data": {
      "text/plain": [
       "False"
      ]
     },
     "execution_count": 22,
     "metadata": {},
     "output_type": "execute_result"
    }
   ],
   "source": [
    "16 in range(10, 16)"
   ]
  },
  {
   "cell_type": "code",
   "execution_count": 23,
   "id": "b207c824-88ab-49aa-a932-39ca05c63caa",
   "metadata": {},
   "outputs": [
    {
     "data": {
      "text/plain": [
       "True"
      ]
     },
     "execution_count": 23,
     "metadata": {},
     "output_type": "execute_result"
    }
   ],
   "source": [
    "16 in range(10, 16+1)"
   ]
  },
  {
   "cell_type": "code",
   "execution_count": 24,
   "id": "79a3601a-fa63-400b-b2ac-302102031166",
   "metadata": {},
   "outputs": [],
   "source": [
    "for point in range(2, 8):\n",
    "    if point in range(10, 16+1):\n",
    "        print(point)\n"
   ]
  },
  {
   "cell_type": "code",
   "execution_count": 25,
   "id": "f1bc6b38-c1ac-4046-b813-7956ac37ffa9",
   "metadata": {},
   "outputs": [
    {
     "name": "stdout",
     "output_type": "stream",
     "text": [
      "10\n",
      "11\n",
      "12\n"
     ]
    }
   ],
   "source": [
    "for point in range(7, 12+1):\n",
    "    if point in range(10, 16+1):\n",
    "        print(point)\n"
   ]
  },
  {
   "cell_type": "code",
   "execution_count": null,
   "id": "eda79a4c-a854-4447-bfbc-dcd239b667e3",
   "metadata": {},
   "outputs": [],
   "source": []
  }
 ],
 "metadata": {
  "kernelspec": {
   "display_name": "Python 3 (ipykernel)",
   "language": "python",
   "name": "python3"
  },
  "language_info": {
   "codemirror_mode": {
    "name": "ipython",
    "version": 3
   },
   "file_extension": ".py",
   "mimetype": "text/x-python",
   "name": "python",
   "nbconvert_exporter": "python",
   "pygments_lexer": "ipython3",
   "version": "3.9.6"
  }
 },
 "nbformat": 4,
 "nbformat_minor": 5
}
