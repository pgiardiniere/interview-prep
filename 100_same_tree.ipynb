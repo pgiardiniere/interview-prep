{
 "cells": [
  {
   "cell_type": "markdown",
   "id": "d1de2989-dc0b-4566-b05c-732f66495719",
   "metadata": {},
   "source": [
    "Given the roots of two binary trees `p` and `q`, write a function to check if they are the same or not.\n",
    "\n",
    "Two binary trees are considered the same if they are structurally identical, and the nodes have the same value."
   ]
  },
  {
   "cell_type": "code",
   "execution_count": 4,
   "id": "adeb835f-d54c-4b56-9939-7a9a876c3fe4",
   "metadata": {},
   "outputs": [],
   "source": [
    "from typing import Optional\n",
    "\n",
    "# Definition for a binary tree node.\n",
    "class TreeNode:\n",
    "    def __init__(self, val=0, left=None, right=None):\n",
    "        self.val = val\n",
    "        self.left = left\n",
    "        self.right = right\n",
    "\n",
    "class Solution:\n",
    "    def isSameTree(self, p: Optional[TreeNode], q: Optional[TreeNode]) -> bool:\n",
    "        if not p and not q:\n",
    "            return True\n",
    "\n",
    "        if p and not q:\n",
    "            return False\n",
    "        if not p and q:\n",
    "            return False\n",
    "        if p.val != q.val:\n",
    "            return False\n",
    "\n",
    "        left_is_same = self.isSameTree(p.left, q.left)\n",
    "        right_is_same = self.isSameTree(p.right, q.right)\n",
    "\n",
    "        # We know p and q exist, and this node is the same (p.val equals q.val)\n",
    "        # so return true if left & right subtrees also pan out.\n",
    "        return True if left_is_same and right_is_same else False\n"
   ]
  },
  {
   "cell_type": "markdown",
   "id": "35c8d9f8-5112-40c9-9914-2463932f4910",
   "metadata": {},
   "source": []
  }
 ],
 "metadata": {
  "kernelspec": {
   "display_name": "Python 3 (ipykernel)",
   "language": "python",
   "name": "python3"
  },
  "language_info": {
   "codemirror_mode": {
    "name": "ipython",
    "version": 3
   },
   "file_extension": ".py",
   "mimetype": "text/x-python",
   "name": "python",
   "nbconvert_exporter": "python",
   "pygments_lexer": "ipython3",
   "version": "3.9.6"
  }
 },
 "nbformat": 4,
 "nbformat_minor": 5
}
