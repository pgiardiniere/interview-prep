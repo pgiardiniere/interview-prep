{
 "cells": [
  {
   "cell_type": "markdown",
   "id": "54f34ef7-f2e9-443e-836f-763cb9462e26",
   "metadata": {},
   "source": [
    "Given an `m x n` integer matrix matrix, if an element is `0`, set its entire row and column to `0`'s.\n",
    "\n",
    "You must do it in place."
   ]
  },
  {
   "cell_type": "markdown",
   "id": "304172e3-2fd6-49e1-92d7-03a488902bab",
   "metadata": {},
   "source": [
    "Ok, well first off let's solve it in-place using 2 passes, 1 which identifies the rows/cols that are to-zero, and. The solution will be $O(2n) \\in O(n)$ time complexity and $O(m + n)$ space complexity. "
   ]
  },
  {
   "cell_type": "code",
   "execution_count": 22,
   "id": "958671b4-21d1-4727-a9fa-91222bca86f6",
   "metadata": {},
   "outputs": [
    {
     "name": "stdout",
     "output_type": "stream",
     "text": [
      "In:\n",
      "[1, 1, 1]\n",
      "[1, 0, 1]\n",
      "[1, 1, 1]\n",
      "Out:\n",
      "[1, 0, 1]\n",
      "[0, 0, 0]\n",
      "[1, 0, 1]\n"
     ]
    }
   ],
   "source": [
    "def zero_matrix(M: list[list[int]]):\n",
    "    m, n = len(M), len(M[0])\n",
    "    rows_to_zero = set()\n",
    "    cols_to_zero = set()\n",
    "\n",
    "    # First pass, identify all 0 positions:\n",
    "    for i in range(m):\n",
    "        for j in range(n):\n",
    "            if M[i][j] == 0:\n",
    "                rows_to_zero.add(i)\n",
    "                cols_to_zero.add(j)\n",
    "\n",
    "    # Second pass, update all flagged rows/cols to 0\n",
    "    for i in range(m):\n",
    "        for j in range(n):\n",
    "            if i in rows_to_zero or j in cols_to_zero:\n",
    "                M[i][j] = 0\n",
    "\n",
    "# Input:\n",
    "M = [[1,1,1],[1,0,1],[1,1,1]]\n",
    "print(\"In:\")\n",
    "for row in M:\n",
    "    print(row)\n",
    "\n",
    "zero_matrix(M)\n",
    "\n",
    "print(\"Out:\")\n",
    "for row in M:\n",
    "    print(row)"
   ]
  },
  {
   "cell_type": "code",
   "execution_count": null,
   "id": "eb339268-522e-4c16-9e79-99c9c8da522c",
   "metadata": {},
   "outputs": [],
   "source": []
  }
 ],
 "metadata": {
  "kernelspec": {
   "display_name": "Python 3 (ipykernel)",
   "language": "python",
   "name": "python3"
  },
  "language_info": {
   "codemirror_mode": {
    "name": "ipython",
    "version": 3
   },
   "file_extension": ".py",
   "mimetype": "text/x-python",
   "name": "python",
   "nbconvert_exporter": "python",
   "pygments_lexer": "ipython3",
   "version": "3.10.6"
  }
 },
 "nbformat": 4,
 "nbformat_minor": 5
}
