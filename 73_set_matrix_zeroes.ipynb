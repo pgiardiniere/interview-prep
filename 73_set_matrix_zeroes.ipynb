{
 "cells": [
  {
   "cell_type": "markdown",
   "id": "54f34ef7-f2e9-443e-836f-763cb9462e26",
   "metadata": {},
   "source": [
    "Given an `m x n` integer matrix matrix, if an element is `0`, set its entire row and column to `0`'s.\n",
    "\n",
    "You must do it in place."
   ]
  },
  {
   "cell_type": "markdown",
   "id": "304172e3-2fd6-49e1-92d7-03a488902bab",
   "metadata": {},
   "source": [
    "Ok, well first off let's solve it in-place using 2 passes, 1 which identifies the rows/cols that are to-zero, and 2nd pass which alters the vals. The solution will be $O(2* mn) \\in O(mn)$ time complexity and $O(m + n)$ space complexity. "
   ]
  },
  {
   "cell_type": "code",
   "execution_count": 22,
   "id": "958671b4-21d1-4727-a9fa-91222bca86f6",
   "metadata": {},
   "outputs": [
    {
     "name": "stdout",
     "output_type": "stream",
     "text": [
      "In:\n",
      "[1, 1, 1]\n",
      "[1, 0, 1]\n",
      "[1, 1, 1]\n",
      "Out:\n",
      "[1, 0, 1]\n",
      "[0, 0, 0]\n",
      "[1, 0, 1]\n"
     ]
    }
   ],
   "source": [
    "def zero_matrix(M: list[list[int]]):\n",
    "    m, n = len(M), len(M[0])\n",
    "    rows_to_zero = set()\n",
    "    cols_to_zero = set()\n",
    "\n",
    "    # First pass, identify all 0 positions:\n",
    "    for i in range(m):\n",
    "        for j in range(n):\n",
    "            if M[i][j] == 0:\n",
    "                rows_to_zero.add(i)\n",
    "                cols_to_zero.add(j)\n",
    "\n",
    "    # Second pass, update all flagged rows/cols to 0\n",
    "    for i in range(m):\n",
    "        for j in range(n):\n",
    "            if i in rows_to_zero or j in cols_to_zero:\n",
    "                M[i][j] = 0\n",
    "\n",
    "# Input:\n",
    "M = [[1,1,1],[1,0,1],[1,1,1]]\n",
    "print(\"In:\")\n",
    "for row in M:\n",
    "    print(row)\n",
    "\n",
    "zero_matrix(M)\n",
    "\n",
    "print(\"Out:\")\n",
    "for row in M:\n",
    "    print(row)"
   ]
  },
  {
   "cell_type": "markdown",
   "id": "0424ea74-7000-453c-913d-8a54c17c55e4",
   "metadata": {},
   "source": [
    "## Bonus: solve in O(1) space complexity"
   ]
  },
  {
   "cell_type": "markdown",
   "id": "68dc2e23-0b15-40ff-9f96-d0b2cbe52e52",
   "metadata": {},
   "source": [
    "It's possible to solve in $O(1)$ space, but the tradeoff is the time complexity where we note that $T(n) = (4 mn) \\in O(mn)$. Since it still decays to $O(mn)$ it's still fine, and if you're constrained by memory then this is necessary, but it's not ideal."
   ]
  },
  {
   "cell_type": "code",
   "execution_count": 24,
   "id": "96697bc0-6f31-4a4a-9a92-abe002c01007",
   "metadata": {},
   "outputs": [
    {
     "name": "stdout",
     "output_type": "stream",
     "text": [
      "[1, 0, 3]\n",
      "[0, 0, 0]\n",
      "[7, 0, 9]\n"
     ]
    }
   ],
   "source": [
    "def zero_matrix_constant_space(matrix):\n",
    "    rows, cols = len(matrix), len(matrix[0])\n",
    "    first_row_has_zero = any(matrix[0][j] == 0 for j in range(cols))\n",
    "    first_col_has_zero = any(matrix[i][0] == 0 for i in range(rows))\n",
    "\n",
    "    # Check for zeros in the rest of the matrix and update first row and first column\n",
    "    for i in range(1, rows):\n",
    "        for j in range(1, cols):\n",
    "            if matrix[i][j] == 0:\n",
    "                matrix[i][0] = 0\n",
    "                matrix[0][j] = 0\n",
    "\n",
    "    # Zero out rows and columns based on the first row and first column\n",
    "    for i in range(1, rows):\n",
    "        if matrix[i][0] == 0:\n",
    "            for j in range(cols):\n",
    "                matrix[i][j] = 0\n",
    "    for j in range(1, cols):\n",
    "        if matrix[0][j] == 0:\n",
    "            for i in range(rows):\n",
    "                matrix[i][j] = 0\n",
    "\n",
    "    # Zero out the first row and first column if needed\n",
    "    if first_row_has_zero:\n",
    "        for j in range(cols):\n",
    "            matrix[0][j] = 0\n",
    "    if first_col_has_zero:\n",
    "        for i in range(rows):\n",
    "            matrix[i][0] = 0\n",
    "\n",
    "# Example matrix\n",
    "matrix = [\n",
    "    [1, 2, 3],\n",
    "    [4, 0, 6],\n",
    "    [7, 8, 9]\n",
    "]\n",
    "\n",
    "# Call the function to modify the matrix\n",
    "zero_matrix_constant_space(matrix)\n",
    "\n",
    "# Print the modified matrix\n",
    "for row in matrix:\n",
    "    print(row)"
   ]
  },
  {
   "cell_type": "code",
   "execution_count": null,
   "id": "18baf14a-ff27-4c36-a3a6-59e44ed03e3e",
   "metadata": {},
   "outputs": [],
   "source": []
  }
 ],
 "metadata": {
  "kernelspec": {
   "display_name": "Python 3 (ipykernel)",
   "language": "python",
   "name": "python3"
  },
  "language_info": {
   "codemirror_mode": {
    "name": "ipython",
    "version": 3
   },
   "file_extension": ".py",
   "mimetype": "text/x-python",
   "name": "python",
   "nbconvert_exporter": "python",
   "pygments_lexer": "ipython3",
   "version": "3.10.6"
  }
 },
 "nbformat": 4,
 "nbformat_minor": 5
}
