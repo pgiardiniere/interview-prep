{
 "cells": [
  {
   "cell_type": "markdown",
   "id": "c870a0c9-9ab2-4abb-8f35-51eaa4cd6401",
   "metadata": {},
   "source": [
    "Write a function to find the longest common prefix string amongst an array of strings.\n",
    "\n",
    "If there is no common prefix, return an empty string \"\""
   ]
  },
  {
   "cell_type": "code",
   "execution_count": null,
   "id": "0e461443-fa1b-4238-b2ff-8e137ea3475a",
   "metadata": {},
   "outputs": [],
   "source": [
    "def longestCommonPrefix(strs) -> str:\n",
    "    n = len(strs)\n",
    "\n",
    "    m = 0\n",
    "    for s in strs:\n",
    "        if len(s) > m:\n",
    "            m = len(s)\n",
    "\n",
    "    prefix = []\n",
    "    cur_letters = []\n",
    "    for i, ch in enumerate(range(m)):\n",
    "        for s in strs:\n",
    "            cur_letters.append(s[i])\n",
    "                    \n",
    "\n",
    "    return ''.join(prefix)"
   ]
  },
  {
   "cell_type": "code",
   "execution_count": null,
   "id": "bec6697d-b53a-4426-9428-a0cb8f215c95",
   "metadata": {},
   "outputs": [],
   "source": []
  }
 ],
 "metadata": {
  "kernelspec": {
   "display_name": "Python 3 (ipykernel)",
   "language": "python",
   "name": "python3"
  },
  "language_info": {
   "codemirror_mode": {
    "name": "ipython",
    "version": 3
   },
   "file_extension": ".py",
   "mimetype": "text/x-python",
   "name": "python",
   "nbconvert_exporter": "python",
   "pygments_lexer": "ipython3",
   "version": "3.10.6"
  }
 },
 "nbformat": 4,
 "nbformat_minor": 5
}
